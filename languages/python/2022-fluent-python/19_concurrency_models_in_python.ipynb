{
 "cells": [
  {
   "attachments": {},
   "cell_type": "markdown",
   "metadata": {},
   "source": [
    "# 19 Concurrency Models in Python\n"
   ]
  },
  {
   "cell_type": "code",
   "execution_count": 5,
   "metadata": {},
   "outputs": [
    {
     "name": "stdout",
     "output_type": "stream",
     "text": [
      "[1, 1]\n"
     ]
    }
   ],
   "source": [
    "import asyncio\n",
    "\n",
    "\n",
    "async def get_url(url):\n",
    "    await asyncio.sleep(0.1)\n",
    "    result = 1\n",
    "    return result\n",
    "\n",
    "async def main():\n",
    "    results = await asyncio.gather(get_url(\"new\"), get_url(\"new\"))\n",
    "    return results\n",
    "\n",
    "results = await main()\n",
    "print(results)\n"
   ]
  },
  {
   "cell_type": "code",
   "execution_count": 7,
   "metadata": {},
   "outputs": [
    {
     "name": "stdout",
     "output_type": "stream",
     "text": [
      "spinner object: <Thread(Thread-8, initial)>\n",
      "\n",
      "Answer: 42  \n"
     ]
    }
   ],
   "source": [
    "import itertools\n",
    "import time\n",
    "from threading import Thread, Event\n",
    "\n",
    "\n",
    "def spin(msg, done: Event) -> None:\n",
    "    for char in itertools.cycle(r\"\\|/\"):\n",
    "        status = f\"\\r{char} {msg}\"\n",
    "        print(status, end=\"\", flush=True)\n",
    "        if done.wait(0.1):\n",
    "            break\n",
    "    blanks = \" \" * len(status)\n",
    "    print(f\"\\r{blanks}\\r\", end=\"\")\n",
    "\n",
    "\n",
    "def slow() -> int:\n",
    "    time.sleep(3)\n",
    "    return 42\n",
    "\n",
    "\n",
    "def supervisor() -> int:\n",
    "    done = Event()\n",
    "    spinner = Thread(target=spin, args=(\"Thinking!\", done))\n",
    "    print(f\"spinner object: {spinner}\\n\")\n",
    "    spinner.start()\n",
    "    # print(\"Spinner is started!\")\n",
    "    result = slow()\n",
    "    done.set()\n",
    "    spinner.join()\n",
    "    return result\n",
    "\n",
    "\n",
    "def main() -> None:\n",
    "    result = supervisor()\n",
    "    print(f\"Answer: {result}\")\n",
    "\n",
    "\n",
    "if __name__ == \"__main__\":\n",
    "    main()\n"
   ]
  },
  {
   "cell_type": "code",
   "execution_count": 25,
   "metadata": {},
   "outputs": [
    {
     "name": "stdout",
     "output_type": "stream",
     "text": [
      "n\n",
      "e\n",
      "w\n",
      "finished\n"
     ]
    }
   ],
   "source": [
    "from functools import partial\n",
    "\n",
    "def f(x,y):\n",
    "    return x**2 + y\n",
    "\n",
    "f_10 = partial(f, y=10)\n",
    "f_10(3)\n",
    "\n",
    "d = iter(\"new\")\n",
    "while True:\n",
    "    try:\n",
    "        print(next(d))\n",
    "    except StopIteration:\n",
    "        print(\"finished\")\n",
    "        break"
   ]
  },
  {
   "cell_type": "code",
   "execution_count": 45,
   "metadata": {},
   "outputs": [
    {
     "data": {
      "text/plain": [
       "10"
      ]
     },
     "execution_count": 45,
     "metadata": {},
     "output_type": "execute_result"
    }
   ],
   "source": [
    "import multiprocessing\n",
    "\n",
    "multiprocessing.cpu_count()"
   ]
  }
 ],
 "metadata": {
  "kernelspec": {
   "display_name": "ml",
   "language": "python",
   "name": "python3"
  },
  "language_info": {
   "codemirror_mode": {
    "name": "ipython",
    "version": 3
   },
   "file_extension": ".py",
   "mimetype": "text/x-python",
   "name": "python",
   "nbconvert_exporter": "python",
   "pygments_lexer": "ipython3",
   "version": "3.8.15"
  },
  "orig_nbformat": 4
 },
 "nbformat": 4,
 "nbformat_minor": 2
}
