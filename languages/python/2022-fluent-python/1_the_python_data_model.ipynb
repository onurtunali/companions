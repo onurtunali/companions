{
 "cells": [
  {
   "attachments": {},
   "cell_type": "markdown",
   "metadata": {},
   "source": [
    "# 1. The Python Data Model \n",
    "\n",
    "- \"Python data model\" ile \"object model\" aynı kavramlara karşılık geliyor. \n",
    "- \"Interface\" ve \"protocol\" de aynı anlamda kullanılıyor nesne odaklı programlamada"
   ]
  },
  {
   "cell_type": "code",
   "execution_count": null,
   "metadata": {},
   "outputs": [],
   "source": [
    "# french deck implementation\n",
    "from collections import namedtuple\n",
    "\n",
    "Card = namedtuple(\"Card\", [\"suit\", \"rank\"])\n",
    "\n",
    "\n",
    "class FrenchDeck:\n",
    "    ranks = [str(item) for item in range(1, 11)] + \"A J K Q\".split()\n",
    "    suits = \"diamond spade heart club\".split()\n",
    "\n",
    "    def __init__(self):\n",
    "        self._cards = [Card(suit, rank) for suit in self.suits for rank in self.ranks]\n",
    "\n",
    "    def __len__(self):\n",
    "        return len(self._cards)\n",
    "\n",
    "    def __getitem__(self, position):\n",
    "        return self._cards[position]\n",
    "\n",
    "    def __hash__(self):\n",
    "        return hash(\"FrenchDeck\")\n",
    "\n",
    "    def __call__(self, name=\"FrenchDeck\"):\n",
    "        print(name)\n",
    "\n",
    "\n",
    "french_deck = FrenchDeck()\n",
    "for item in french_deck:\n",
    "    print(item.suit, item.rank)\n",
    "    break\n",
    "\n",
    "Card(\"diamond\", \"1\") in french_deck\n",
    "\n",
    "print(french_deck)\n"
   ]
  },
  {
   "cell_type": "code",
   "execution_count": null,
   "metadata": {},
   "outputs": [],
   "source": [
    "french_deck(\"onur\")"
   ]
  }
 ],
 "metadata": {
  "kernelspec": {
   "display_name": "ml",
   "language": "python",
   "name": "python3"
  },
  "language_info": {
   "codemirror_mode": {
    "name": "ipython",
    "version": 3
   },
   "file_extension": ".py",
   "mimetype": "text/x-python",
   "name": "python",
   "nbconvert_exporter": "python",
   "pygments_lexer": "ipython3",
   "version": "3.8.15"
  },
  "orig_nbformat": 4
 },
 "nbformat": 4,
 "nbformat_minor": 2
}
