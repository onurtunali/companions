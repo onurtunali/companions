{
 "cells": [
  {
   "attachments": {},
   "cell_type": "markdown",
   "metadata": {},
   "source": [
    "# 2. An Array of Sequences\n",
    "\n",
    "- container sequence'ler heterojendir ve farklı data tiplerini tutarlar: `list, tuple, collections.deque`\n",
    "- flat sequence'ler homojendir ve aynı data tiplerini tutarlar: `str, bytes, array.array`\n",
    "- Her Python objesinin değeri ve metadayı içeren header'ı vardır:\n",
    "    - obj_refcnt: referans sayısı\n",
    "    - obj_type: obje tipi\n",
    "    - obj_fval: obje değeri"
   ]
  },
  {
   "cell_type": "code",
   "execution_count": 20,
   "metadata": {},
   "outputs": [
    {
     "name": "stdout",
     "output_type": "stream",
     "text": [
      "112 800056\n"
     ]
    }
   ],
   "source": [
    "from sys import getsizeof\n",
    "\n",
    "int_gen = (i for i in range(100_000)) # generator\n",
    "int_list = list(range(100_000))\n",
    "\n",
    "print(getsizeof(int_gen), getsizeof(int_list))"
   ]
  },
  {
   "cell_type": "code",
   "execution_count": 19,
   "metadata": {},
   "outputs": [
    {
     "data": {
      "text/plain": [
       "'onur | yagmur alihan pinar'"
      ]
     },
     "execution_count": 19,
     "metadata": {},
     "output_type": "execute_result"
    }
   ],
   "source": [
    "names = (\"onur\",\"yagmur\",\"alihan\",\"pinar\")\n",
    "\n",
    "\"{} | {} {} {}\".format(*names)"
   ]
  },
  {
   "cell_type": "code",
   "execution_count": 21,
   "metadata": {},
   "outputs": [
    {
     "data": {
      "text/plain": [
       "-3550055125485641917"
      ]
     },
     "execution_count": 21,
     "metadata": {},
     "output_type": "execute_result"
    }
   ],
   "source": [
    "hash((1,2))"
   ]
  }
 ],
 "metadata": {
  "kernelspec": {
   "display_name": "ml",
   "language": "python",
   "name": "python3"
  },
  "language_info": {
   "codemirror_mode": {
    "name": "ipython",
    "version": 3
   },
   "file_extension": ".py",
   "mimetype": "text/x-python",
   "name": "python",
   "nbconvert_exporter": "python",
   "pygments_lexer": "ipython3",
   "version": "3.8.15"
  },
  "orig_nbformat": 4
 },
 "nbformat": 4,
 "nbformat_minor": 2
}
