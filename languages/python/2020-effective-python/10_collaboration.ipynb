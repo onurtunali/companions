{
 "cells": [
  {
   "cell_type": "markdown",
   "metadata": {},
   "source": [
    "# 10 Collaboration"
   ]
  },
  {
   "cell_type": "markdown",
   "metadata": {},
   "source": [
    "Defining API specific root `Exception` helps users to isolate errors. This custom exceptions can be for modules or the whole API."
   ]
  },
  {
   "cell_type": "code",
   "execution_count": null,
   "metadata": {},
   "outputs": [],
   "source": [
    "class Error(Exception):\n",
    "    \"\"\"Base-class for all exceptions raised by the API.\"\"\"\n",
    "\n",
    "\n",
    "class InvalidBrandId(Error):\n",
    "    \"\"\"Requested brand_id doesn't exist\"\"\"\n",
    "\n",
    "\n",
    "class InvalidCategoryId(Error):\n",
    "    \"\"\"Requested category_id doesn't exist\"\"\"\n",
    "\n",
    "\n",
    "# Catching all api specific Exceptions\n",
    "def mock_api_call():\n",
    "    raise InvalidBrandId(\"Brand doesn't exist\")\n",
    "\n",
    "\n",
    "try:\n",
    "    mock_api_call()\n",
    "except Error as e:\n",
    "    raise e"
   ]
  }
 ],
 "metadata": {
  "kernelspec": {
   "display_name": "ml",
   "language": "python",
   "name": "python3"
  },
  "language_info": {
   "codemirror_mode": {
    "name": "ipython",
    "version": 3
   },
   "file_extension": ".py",
   "mimetype": "text/x-python",
   "name": "python",
   "nbconvert_exporter": "python",
   "pygments_lexer": "ipython3",
   "version": "3.10.12"
  }
 },
 "nbformat": 4,
 "nbformat_minor": 2
}
