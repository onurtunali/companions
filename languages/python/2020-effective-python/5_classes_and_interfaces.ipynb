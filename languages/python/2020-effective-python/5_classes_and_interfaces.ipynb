{
 "cells": [
  {
   "cell_type": "markdown",
   "metadata": {},
   "source": [
    "# 5 Classes and Interfaces"
   ]
  },
  {
   "cell_type": "markdown",
   "metadata": {},
   "source": [
    "For lean class like data structures, `namedtuple` and `dataclass` are generally recommended. However, for cases where more than one default arguments or optionals are needed and data validation is also necessary, it's better to use `pydantic` basemodel."
   ]
  },
  {
   "cell_type": "code",
   "execution_count": 48,
   "metadata": {},
   "outputs": [
    {
     "name": "stdout",
     "output_type": "stream",
     "text": [
      "Product(title='Iphone', category_id=17, brand_id=None)\n",
      "Product(title='Iphone', category_id='on', brand_id=None)\n",
      "1 validation error for Product\n",
      "category_id\n",
      "  value is not a valid integer (type=type_error.integer)\n",
      "title='Iphone' category_id=17 brand_id=None\n"
     ]
    }
   ],
   "source": [
    "from dataclasses import dataclass\n",
    "from typing import Optional, List\n",
    "from pydantic import BaseModel, ValidationError\n",
    "from collections import namedtuple\n",
    "\n",
    "Product = namedtuple(\n",
    "    typename=\"Product\",\n",
    "    field_names=(\"title\", \"category_id\", \"brand_id\"),\n",
    "    defaults=(\"\", None, None),\n",
    ")\n",
    "\n",
    "print(Product(\"Iphone\", 17))\n",
    "\n",
    "\n",
    "@dataclass\n",
    "class Product:\n",
    "    title: str\n",
    "    category_id: int\n",
    "    brand_id: int = None  # None is set for Optional functionality\n",
    "\n",
    "\n",
    "# No validation\n",
    "print(Product(title=\"Iphone\", category_id=\"on\"))\n",
    "\n",
    "\n",
    "class Product(BaseModel):\n",
    "    title: str\n",
    "    category_id: int\n",
    "    brand_id: Optional[int]\n",
    "\n",
    "\n",
    "try:\n",
    "    print(Product(title=\"Iphone\", category_id=\"on\"))\n",
    "except ValidationError as e:\n",
    "    print(e)\n",
    "    print(Product(title=\"Iphone\", category_id=17))"
   ]
  },
  {
   "cell_type": "markdown",
   "metadata": {},
   "source": [
    "To simplify interfaces, accepting functions instead of classes is a better approach. Since functions are first class objects, we can pass them around."
   ]
  },
  {
   "cell_type": "code",
   "execution_count": 75,
   "metadata": {},
   "outputs": [
    {
     "name": "stdout",
     "output_type": "stream",
     "text": [
      "New color added.\n",
      "New color added.\n"
     ]
    },
    {
     "data": {
      "text/plain": [
       "(defaultdict(<__main__.OutOfColorsCounter at 0x10911aad0>,\n",
       "             {'red': 2, 'blue': 2, 'black': 1, 'yellow': 1}),\n",
       " 'Number of new colors : 2')"
      ]
     },
     "execution_count": 75,
     "metadata": {},
     "output_type": "execute_result"
    }
   ],
   "source": [
    "from collections import defaultdict\n",
    "\n",
    "default_values = {\"red\": 1, \"blue\": 2}\n",
    "\n",
    "\n",
    "class OutOfColorsCounter:\n",
    "    def __init__(self):\n",
    "        self.current_count = 0\n",
    "\n",
    "    def __call__(self):\n",
    "        print(\"New color added.\")\n",
    "        self.current_count += 1\n",
    "        return 0  # defaultvalue for missing keys\n",
    "\n",
    "\n",
    "out_of_colors = OutOfColorsCounter()\n",
    "\n",
    "colors = defaultdict(out_of_colors, default_values)\n",
    "\n",
    "colors[\"black\"] += 1\n",
    "colors[\"yellow\"] += 1\n",
    "\n",
    "colors[\"red\"] += 1\n",
    "colors, f\"Number of new colors : {out_of_colors.current_count}\""
   ]
  }
 ],
 "metadata": {
  "kernelspec": {
   "display_name": "ml",
   "language": "python",
   "name": "python3"
  },
  "language_info": {
   "codemirror_mode": {
    "name": "ipython",
    "version": 3
   },
   "file_extension": ".py",
   "mimetype": "text/x-python",
   "name": "python",
   "nbconvert_exporter": "python",
   "pygments_lexer": "ipython3",
   "version": "3.10.12"
  }
 },
 "nbformat": 4,
 "nbformat_minor": 2
}
