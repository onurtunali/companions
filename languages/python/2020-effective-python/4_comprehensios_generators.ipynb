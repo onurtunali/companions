{
 "cells": [
  {
   "cell_type": "markdown",
   "metadata": {},
   "source": [
    "# 4 Comprehensions and Generators"
   ]
  },
  {
   "cell_type": "markdown",
   "metadata": {},
   "source": [
    "In comprehensions, results of conditionals can be used in generation process by using assignment expressions instead of performing the same operation twice."
   ]
  },
  {
   "cell_type": "code",
   "execution_count": null,
   "metadata": {},
   "outputs": [],
   "source": [
    "import math\n",
    "\n",
    "values = range(10)\n",
    "roots_1 = [math.sqrt(x) for x in values if math.sqrt(x) < 4]\n",
    "roots_2 = [root for x in values if (root := math.sqrt(x)) < 4]\n",
    "roots_1 == roots_2"
   ]
  },
  {
   "cell_type": "markdown",
   "metadata": {},
   "source": [
    "If a list won't be iterated more than once, generating values on the fly using `generator` and `yield` is more readable."
   ]
  },
  {
   "cell_type": "code",
   "execution_count": null,
   "metadata": {},
   "outputs": [],
   "source": [
    "from typing import List, Generator\n",
    "\n",
    "\n",
    "def get_word_indices(text: str) -> List:\n",
    "    tokens = text.split()\n",
    "    running_sum = 0\n",
    "    result = [running_sum]\n",
    "    for t in tokens[:-1]:\n",
    "        running_sum = running_sum + 1 + len(t)\n",
    "        result.append(running_sum)\n",
    "    return result\n",
    "\n",
    "\n",
    "def get_word_indices_gen(text: str) -> Generator:\n",
    "    if text:\n",
    "        yield 0\n",
    "    for i, t in enumerate(text):\n",
    "        if t == \" \":\n",
    "            yield i + 1\n",
    "\n",
    "\n",
    "list(get_word_indices_gen(\"The Sandbaggers is the best spy TV show ever!\"))"
   ]
  },
  {
   "cell_type": "markdown",
   "metadata": {},
   "source": [
    "A generator can only be iterated once. For multiple usage, wrap it with a class having `__iter__` method."
   ]
  },
  {
   "cell_type": "code",
   "execution_count": null,
   "metadata": {},
   "outputs": [],
   "source": [
    "def generator_example(n):\n",
    "    for i in range(n):\n",
    "        yield i\n",
    "\n",
    "\n",
    "examples = generator_example(5)\n",
    "\n",
    "for e in examples:\n",
    "    print(f\"Example {e}\")\n",
    "\n",
    "print(f\"Sum is {sum(examples)}\")\n",
    "\n",
    "\n",
    "class CustomList:\n",
    "    def __init__(self, n):\n",
    "        self._range = n\n",
    "\n",
    "    def __iter__(self):\n",
    "        for i in range(self._range):\n",
    "            yield i\n",
    "\n",
    "\n",
    "custom_list = CustomList(5)\n",
    "\n",
    "for t in custom_list:\n",
    "    print(f\"Example {e}\")\n",
    "\n",
    "\n",
    "print(f\"Sum is {sum(custom_list)}\")"
   ]
  },
  {
   "cell_type": "markdown",
   "metadata": {},
   "source": [
    "Large list comprehension may lead to memory problems. Use generators instead."
   ]
  },
  {
   "cell_type": "code",
   "execution_count": null,
   "metadata": {},
   "outputs": [],
   "source": [
    "def comprehension():\n",
    "    line_lengths = [len(line) for line in open(\"example.txt\", mode=\"r\")]\n",
    "    for l in line_lengths:\n",
    "        pass\n",
    "\n",
    "\n",
    "def generators():\n",
    "    line_lengths = (len(line) for line in open(\"example.txt\", mode=\"r\"))\n",
    "    for l in line_lengths:\n",
    "        pass"
   ]
  }
 ],
 "metadata": {
  "kernelspec": {
   "display_name": "ml",
   "language": "python",
   "name": "python3"
  },
  "language_info": {
   "codemirror_mode": {
    "name": "ipython",
    "version": 3
   },
   "file_extension": ".py",
   "mimetype": "text/x-python",
   "name": "python",
   "nbconvert_exporter": "python",
   "pygments_lexer": "ipython3",
   "version": "3.10.12"
  }
 },
 "nbformat": 4,
 "nbformat_minor": 2
}
