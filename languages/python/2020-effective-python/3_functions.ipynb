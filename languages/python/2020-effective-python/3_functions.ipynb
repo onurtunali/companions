{
 "cells": [
  {
   "cell_type": "markdown",
   "metadata": {},
   "source": [
    "# 3 Functions"
   ]
  },
  {
   "cell_type": "markdown",
   "metadata": {},
   "source": [
    "Assignment operations are local to the scope."
   ]
  },
  {
   "cell_type": "code",
   "execution_count": null,
   "metadata": {},
   "outputs": [],
   "source": [
    "from typing import List\n",
    "\n",
    "\n",
    "def is_value_included(x: List, check_value: int) -> bool:\n",
    "    is_included = False\n",
    "\n",
    "    def helper(x: int):\n",
    "        if check_value == x:\n",
    "            is_included = True\n",
    "            print(f\"Local is_included: {is_included}\")\n",
    "\n",
    "    for i in x:\n",
    "        helper(i)\n",
    "    return is_included\n",
    "\n",
    "\n",
    "result = is_value_included([1, 2, 3], 1)\n",
    "print(f\"Global is_included: {result}\")"
   ]
  },
  {
   "cell_type": "markdown",
   "metadata": {},
   "source": [
    "Variadic functions take variable number of arguments. \n",
    "\n",
    "- For positional, `*args` is the conventional usage. `args` is a `tuple` object.\n",
    "- For keyword arguments, `**kwargs` is the conventional usage. `args` is a `tuple` object."
   ]
  },
  {
   "cell_type": "code",
   "execution_count": null,
   "metadata": {},
   "outputs": [],
   "source": [
    "from typing import Any\n",
    "\n",
    "\n",
    "def variadic_f1(x: Any, *args):\n",
    "    arg_size = 1 + len(args)\n",
    "    print(f\"Argument size: {arg_size}\")\n",
    "    if args:\n",
    "        print(f\"Results: {x} and {args}\")\n",
    "    else:\n",
    "        print(f\"Results {x}\")\n",
    "    return arg_size\n",
    "\n",
    "\n",
    "def variadic_f2(x: Any, **kwargs):\n",
    "    arg_size = 1 + len(kwargs)\n",
    "    print(f\"Argument size: {arg_size}\")\n",
    "    if kwargs:\n",
    "        print(f\"Results: {x} and {kwargs}\")\n",
    "    else:\n",
    "        print(f\"Results {x}\")\n",
    "    return arg_size\n",
    "\n",
    "\n",
    "variadic_f1(8, 1, [1, 2]), variadic_f2(10, alpha=1, beta=2, gama=3)"
   ]
  },
  {
   "cell_type": "markdown",
   "metadata": {},
   "source": [
    "In terms of non-static default argument values, they are only evaluated once and used in the entirety of the program. Following function generates the same random id for every log."
   ]
  },
  {
   "cell_type": "code",
   "execution_count": null,
   "metadata": {},
   "outputs": [],
   "source": [
    "import random\n",
    "\n",
    "\n",
    "def log_with_id(log: str, log_id: int = random.randint(0, 10**6)) -> None:\n",
    "    print(f\"log_id: {log_id}, message: {log}\")\n",
    "\n",
    "\n",
    "log_with_id(\"Exception\"), log_with_id(\"Error\")"
   ]
  },
  {
   "cell_type": "markdown",
   "metadata": {},
   "source": [
    "To force explicit keyword arguments, a `*` literal can be added between positional and keyword arguments."
   ]
  },
  {
   "cell_type": "code",
   "execution_count": null,
   "metadata": {},
   "outputs": [],
   "source": [
    "import math\n",
    "\n",
    "\n",
    "def forced_keywords(x: int, y: int, *, is_rounded: bool = False) -> float:\n",
    "    if is_rounded:\n",
    "        result = round(math.sqrt(x**2 + y**2))\n",
    "    else:\n",
    "        result = math.sqrt(x**2 + y**2)\n",
    "    return result\n",
    "\n",
    "\n",
    "print(f\"Use default value, result: {forced_keywords(2, 3)}\")\n",
    "\n",
    "try:\n",
    "    print(f\"Use positional, result: {forced_keywords(2, 3, True)}\")\n",
    "except Exception as e:\n",
    "    print(e)\n",
    "\n",
    "print(f\"Use keyword result: {forced_keywords(2, 3, is_rounded=False)}\")\n",
    "print(f\"Use keyword result: {forced_keywords(2, 3, is_rounded=True)}\")"
   ]
  },
  {
   "cell_type": "markdown",
   "metadata": {},
   "source": [
    "For correct tracebacks and docstrings, use `functools.wraps` to decorated functions."
   ]
  },
  {
   "cell_type": "code",
   "execution_count": null,
   "metadata": {},
   "outputs": [],
   "source": [
    "import time\n",
    "from functools import wraps\n",
    "from typing import Callable\n",
    "\n",
    "\n",
    "def incorrect_trace(func: Callable) -> Callable:\n",
    "    def wrapper(*args, **kwargs):\n",
    "        t0 = time.time()\n",
    "        result = func(*args, **kwargs)\n",
    "        t1 = time.time()\n",
    "        print(f\"{func.__name__} took {t1 - t0} (s)\")\n",
    "        return result\n",
    "\n",
    "    return wrapper\n",
    "\n",
    "\n",
    "@incorrect_trace\n",
    "def sum_f(x: int) -> int:\n",
    "    \"\"\"Sums the integers less than given argument\"\"\"\n",
    "    return sum(range(x))\n",
    "\n",
    "\n",
    "print(f\"Function result: {sum_f(10)}, docs: {sum_f.__doc__}\")\n",
    "\n",
    "\n",
    "def correct_trace(func: Callable) -> Callable:\n",
    "    @wraps(func)\n",
    "    def wrapper(*args, **kwargs):\n",
    "        t0 = time.time()\n",
    "        result = func(*args, **kwargs)\n",
    "        t1 = time.time()\n",
    "        print(f\"{func.__name__} took {t1 - t0} (s)\")\n",
    "        return result\n",
    "\n",
    "    return wrapper\n",
    "\n",
    "\n",
    "@correct_trace\n",
    "def sum_f(x: int) -> int:\n",
    "    \"\"\"Sums the integers less than given argument\"\"\"\n",
    "    return sum(range(x))\n",
    "\n",
    "\n",
    "print(f\"Function result: {sum_f(10)}, Function docs: {sum_f.__doc__}\")"
   ]
  }
 ],
 "metadata": {
  "kernelspec": {
   "display_name": "ml",
   "language": "python",
   "name": "python3"
  },
  "language_info": {
   "codemirror_mode": {
    "name": "ipython",
    "version": 3
   },
   "file_extension": ".py",
   "mimetype": "text/x-python",
   "name": "python",
   "nbconvert_exporter": "python",
   "pygments_lexer": "ipython3",
   "version": "3.10.12"
  }
 },
 "nbformat": 4,
 "nbformat_minor": 2
}
