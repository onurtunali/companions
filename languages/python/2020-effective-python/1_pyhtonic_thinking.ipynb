{
 "cells": [
  {
   "cell_type": "markdown",
   "metadata": {},
   "source": [
    "# 1 Pythonic Thinking"
   ]
  },
  {
   "cell_type": "markdown",
   "metadata": {},
   "source": [
    "`bytes` and `str` are not the same thing. Both are immutable but\n",
    "\n",
    "- you need an encoding format to turn strings into bytes and vice versa,\n",
    "- `bytes` is a container and every element is an 8 bit value,\n",
    "- `str` is a container and every element is Unicode code point."
   ]
  },
  {
   "cell_type": "code",
   "execution_count": null,
   "metadata": {},
   "outputs": [],
   "source": [
    "def to_str(bytes_to_string: bytes, encoding: str = \"utf-8\") -> str:\n",
    "    if isinstance(bytes_to_string, bytes):\n",
    "        return bytes_to_string.decode(encoding=encoding)\n",
    "    if isinstance(bytes_to_string, str):\n",
    "        return bytes_to_string\n",
    "    raise ValueError(\"Given value is not a bytes or string\")\n",
    "\n",
    "\n",
    "def to_bytes(string_to_byts:str, encoding=\"utf-8\") -> str:\n",
    "    if isinstance(string_to_byts, bytes):\n",
    "        return string_to_byts\n",
    "    if isinstance(string_to_byts, str):\n",
    "        return string_to_byts.encode(encoding=encoding)\n",
    "    raise ValueError(\"Given value is not a bytes or string\")\n",
    "\n",
    "\n",
    "to_str(b\"Nex\\x0at\"), dir(to_bytes(\"Newâ\"))\n",
    "type(b\"0\"[0])\n",
    "type(\"new\"[0])"
   ]
  },
  {
   "cell_type": "markdown",
   "metadata": {},
   "source": [
    "`zip` works for the shortest example. To pad the sequence, use `itertools.zip_longest`.\n"
   ]
  },
  {
   "cell_type": "code",
   "execution_count": null,
   "metadata": {},
   "outputs": [],
   "source": [
    "from itertools import zip_longest\n",
    "\n",
    "a = [1, 2, 3]\n",
    "b = [1, 2]\n",
    "\n",
    "list(zip(a, b)), list(zip_longest(a, b, fillvalue=0))"
   ]
  },
  {
   "cell_type": "markdown",
   "metadata": {},
   "source": [
    "`else` block in `while` and `for` is run regardless. In addition, they are run even if empty iterator or false initial condition."
   ]
  },
  {
   "cell_type": "code",
   "execution_count": null,
   "metadata": {},
   "outputs": [],
   "source": [
    "counter = 0\n",
    "\n",
    "for i in range(5):\n",
    "    print(f\"{i}. step\")\n",
    "else:\n",
    "    print(\"Everyting is done\")\n",
    "\n",
    "for i in []:\n",
    "    print(f\"{i}. step\")\n",
    "else:\n",
    "    print(\"Nothing is done\")\n",
    "\n",
    "while counter < 5:\n",
    "    print(f\"{counter}. step\")\n",
    "    counter += 1\n",
    "else:\n",
    "    print(\"Everyting is done\")\n",
    "\n",
    "while counter < 5:\n",
    "    print(f\"{counter}. step\")\n",
    "    counter += 1\n",
    "else:\n",
    "    print(\"nothing is done\")"
   ]
  },
  {
   "cell_type": "markdown",
   "metadata": {},
   "source": [
    "Assignment expression `:=` (also known as walrus operator) is added in Python 3.8 version. \n",
    "\n",
    "There is difference between simple assignment and assignment expression. First one does not return a value, on the contrary second one does."
   ]
  },
  {
   "cell_type": "code",
   "execution_count": null,
   "metadata": {},
   "outputs": [],
   "source": [
    "# Value is printed\n",
    "(a := 5)"
   ]
  },
  {
   "cell_type": "code",
   "execution_count": null,
   "metadata": {},
   "outputs": [],
   "source": [
    "# Value is NOT printed\n",
    "a = 5"
   ]
  },
  {
   "cell_type": "code",
   "execution_count": null,
   "metadata": {},
   "outputs": [],
   "source": [
    "import random\n",
    "\n",
    "\n",
    "def get_total(inventory: dict) -> int:\n",
    "    return sum(inventory.values())\n",
    "\n",
    "\n",
    "def move_random_product(inventory: dict) -> None:\n",
    "    category = random.choice(list(inventory.keys()))\n",
    "    if inventory[category] > 0:\n",
    "        inventory[category] -= 1\n",
    "    print(f\"Product in {category} category is sold!\")"
   ]
  },
  {
   "cell_type": "code",
   "execution_count": null,
   "metadata": {},
   "outputs": [],
   "source": [
    "products_by_category = {\n",
    "    17: 5,  # there are 5 products in this category\n",
    "    130: 2,  # there are 2 product in this category\n",
    "}\n",
    "\n",
    "total = get_total(products_by_category)  # extra\n",
    "\n",
    "while total > 0:\n",
    "    move_random_product(products_by_category)\n",
    "    total = get_total(products_by_category)  # extra"
   ]
  },
  {
   "cell_type": "code",
   "execution_count": null,
   "metadata": {},
   "outputs": [],
   "source": [
    "products_by_category = {\n",
    "    17: 5,  # there are 5 products in this category\n",
    "    130: 2,  # there are 2 product in this category\n",
    "}\n",
    "\n",
    "while (total := get_total(products_by_category)) > 0:\n",
    "    move_random_product(products_by_category)"
   ]
  },
  {
   "cell_type": "markdown",
   "metadata": {},
   "source": [
    "Another example "
   ]
  },
  {
   "cell_type": "code",
   "execution_count": null,
   "metadata": {},
   "outputs": [],
   "source": [
    "from faker import Faker\n",
    "import os\n",
    "\n",
    "text_generator = Faker()\n",
    "text_generator.name()\n",
    "\n",
    "with open(\"example.txt\", mode=\"w\") as file:\n",
    "    for _ in range(2000):\n",
    "        file.write(f\"{text_generator.name()}\\n\")\n",
    "\n",
    "with open(\"example.txt\", mode=\"r\") as file:\n",
    "    while data := file.read(1000):\n",
    "        print(len(data))\n",
    "\n",
    "# os.remove(\"example.txt\")"
   ]
  }
 ],
 "metadata": {
  "kernelspec": {
   "display_name": "ml",
   "language": "python",
   "name": "python3"
  },
  "language_info": {
   "codemirror_mode": {
    "name": "ipython",
    "version": 3
   },
   "file_extension": ".py",
   "mimetype": "text/x-python",
   "name": "python",
   "nbconvert_exporter": "python",
   "pygments_lexer": "ipython3",
   "version": "3.10.12"
  }
 },
 "nbformat": 4,
 "nbformat_minor": 2
}
