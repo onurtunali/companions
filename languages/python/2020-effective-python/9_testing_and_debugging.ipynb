{
 "cells": [
  {
   "cell_type": "markdown",
   "metadata": {},
   "source": [
    "# 9 Testing and Debugging"
   ]
  },
  {
   "cell_type": "markdown",
   "metadata": {},
   "source": [
    "Result of `__repr__` should be a string such that passable to `eval` to create the same object. In `f-string` approach `f\"{identifier!r}\"` produces the `repr(identifier)` represenation."
   ]
  },
  {
   "cell_type": "code",
   "execution_count": null,
   "metadata": {},
   "outputs": [],
   "source": [
    "class ExampleClass:\n",
    "    def __init__(self, name: str, total: int):\n",
    "        self.name = name\n",
    "        self.total = total\n",
    "\n",
    "    def __str__(self):\n",
    "        return \"ExampleClass\"\n",
    "\n",
    "    def __repr__(self):\n",
    "        class_name = self.__class__.__name__\n",
    "        return f\"{class_name}({self.name!r},{self.total!r})\"\n",
    "\n",
    "\n",
    "ex = ExampleClass(\"5\", 5)\n",
    "print(ex)\n",
    "repr(ex)"
   ]
  }
 ],
 "metadata": {
  "kernelspec": {
   "display_name": "ml",
   "language": "python",
   "name": "python3"
  },
  "language_info": {
   "codemirror_mode": {
    "name": "ipython",
    "version": 3
   },
   "file_extension": ".py",
   "mimetype": "text/x-python",
   "name": "python",
   "nbconvert_exporter": "python",
   "pygments_lexer": "ipython3",
   "version": "3.10.12"
  }
 },
 "nbformat": 4,
 "nbformat_minor": 2
}
