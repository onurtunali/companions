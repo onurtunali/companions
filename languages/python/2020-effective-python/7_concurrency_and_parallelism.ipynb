{
 "cells": [
  {
   "cell_type": "markdown",
   "metadata": {},
   "source": [
    "# 7 Concurrency and Parallelism\n",
    "\n",
    "Best visualization of [threading vs multiprocessing in python](https://www.youtube.com/watch?v=AZnGRKFUU0c)\n",
    "\n",
    "- For simple cmd runs use `subprocess.run`\n",
    "- For complex piping operations use `subprocess.Popen`"
   ]
  },
  {
   "cell_type": "code",
   "execution_count": 23,
   "metadata": {},
   "outputs": [
    {
     "name": "stdout",
     "output_type": "stream",
     "text": [
      "hello world\n",
      "\n",
      "b'\\xbe\\x02\\xc1\\xbc\\xff\\xd9\\x06U\\xff&'\n",
      "b'\\xb0@\\xf9\\x16e\\xee)N\\xf0\\xb8'\n",
      "b'6\\x08\\xb4\\xbf\\xdc@\\xff7\\x17\\xfb'\n"
     ]
    },
    {
     "name": "stderr",
     "output_type": "stream",
     "text": [
      "*** WARNING : deprecated key derivation used.\n",
      "Using -iter or -pbkdf2 would be better.\n",
      "*** WARNING : deprecated key derivation used.\n",
      "Using -iter or -pbkdf2 would be better.\n",
      "*** WARNING : deprecated key derivation used.\n",
      "Using -iter or -pbkdf2 would be better.\n"
     ]
    }
   ],
   "source": [
    "import os\n",
    "import subprocess\n",
    "\n",
    "result = subprocess.run(\n",
    "    args=[\"echo\", \"hello world\"],\n",
    "    capture_output=True,\n",
    "    encoding=\"utf-8\",\n",
    ")\n",
    "\n",
    "result.check_returncode()\n",
    "print(result.stdout)\n",
    "\n",
    "\n",
    "def run_encrypt(data):\n",
    "    env = os.environ.copy()\n",
    "    env[\"password\"] = \"zf7ShyBhZOraQDdE/FiZpm/m/8f9X+M1\"\n",
    "    proc = subprocess.Popen(\n",
    "        args=[\"openssl\", \"enc\", \"-des3\", \"-pass\", \"env:password\"],\n",
    "        env=env,\n",
    "        stdin=subprocess.PIPE,\n",
    "        stdout=subprocess.PIPE,\n",
    "    )\n",
    "    proc.stdin.write(data)\n",
    "    proc.stdin.flush()\n",
    "    return proc\n",
    "\n",
    "\n",
    "procs = []\n",
    "\n",
    "for _ in range(3):\n",
    "    data = os.urandom(10)\n",
    "    proc = run_encrypt(data)\n",
    "    procs.append(proc)\n",
    "\n",
    "for proc in procs:\n",
    "    out, _ = proc.communicate()\n",
    "    print(out[-10:])"
   ]
  },
  {
   "cell_type": "code",
   "execution_count": null,
   "metadata": {},
   "outputs": [],
   "source": [
    "def download():\n",
    "    pass\n",
    "\n",
    "\n",
    "def resize():\n",
    "    pass\n",
    "\n",
    "\n",
    "def upload():\n",
    "    pass"
   ]
  },
  {
   "cell_type": "code",
   "execution_count": 28,
   "metadata": {},
   "outputs": [
    {
     "data": {
      "text/plain": [
       "1"
      ]
     },
     "execution_count": 28,
     "metadata": {},
     "output_type": "execute_result"
    }
   ],
   "source": [
    "from collections import deque\n",
    "from threading import Lock\n",
    "\n",
    "class MyQueue:\n",
    "    def __init__(self):\n",
    "        self.items = deque()\n",
    "        self.lock = Lock()\n",
    "    \n",
    "a = deque()\n",
    "a.append(1)\n",
    "a.append(0)\n",
    "a.append(10)\n",
    "\n",
    "a.popleft()"
   ]
  }
 ],
 "metadata": {
  "kernelspec": {
   "display_name": "ml",
   "language": "python",
   "name": "python3"
  },
  "language_info": {
   "codemirror_mode": {
    "name": "ipython",
    "version": 3
   },
   "file_extension": ".py",
   "mimetype": "text/x-python",
   "name": "python",
   "nbconvert_exporter": "python",
   "pygments_lexer": "ipython3",
   "version": "3.10.12"
  }
 },
 "nbformat": 4,
 "nbformat_minor": 2
}
