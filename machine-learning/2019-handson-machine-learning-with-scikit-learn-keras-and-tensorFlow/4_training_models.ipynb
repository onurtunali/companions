{
 "cells": [
  {
   "cell_type": "markdown",
   "id": "a804b527-0c74-40a0-a79e-449477d97af4",
   "metadata": {},
   "source": [
    "# 4. Training Models\n",
    "\n",
    "In short, training a model includes finding the best parameters meaning the least error value. Some methods have closed form (analytic) solutions and some require optimization approaches that are iterative and random. The most common optimization method is **gradient descent** which has 3 different types:\n",
    "1. **Batch GD**, using the whole data in each iteration\n",
    "2. **Minibatch GD**, using part of the data in each iteration\n",
    "3. **Stochastic GD**, using a single data point in each iteration.\n",
    "\n",
    "Full iterations going through the whole dataset is called and **epoch**."
   ]
  },
  {
   "cell_type": "code",
   "execution_count": 1,
   "id": "b3a85a9b-2ed9-4737-8222-242499640d66",
   "metadata": {},
   "outputs": [],
   "source": [
    "import matplotlib as mpl\n",
    "import matplotlib.pyplot as plt\n",
    "import numpy as np\n",
    "import pandas as pd\n",
    "\n",
    "plt.rcParams[\"figure.figsize\"] = (5,5)\n",
    "# plt.rcParams[\"figure.dpi\"] = 80\n",
    "plt.style.use('ggplot')\n"
   ]
  },
  {
   "cell_type": "markdown",
   "id": "0086705b-a546-4c81-b31f-afd2a0e6d0ce",
   "metadata": {
    "tags": []
   },
   "source": [
    "## 4.1 Linear Regression\n",
    "\n",
    "Linear regression is the common name for *multivariable univariate* regression. It has multiple inputs and a single output. In formal terms,\n",
    "\n",
    "$$  \\hat{y} = h_{\\theta}(\\bf{x}) = \\theta^{\\intercal} \\bf{x} + \\theta_{0} = \\boldsymbol{\\tilde{\\theta}} \\cdot \\bf{\\tilde{x}} $$\n",
    "\n",
    "indicates the target variable prediction. This is actually an affine function due to $\\theta_{0}$ bias term. To train a model, we use loss (cost) function and it is generally different than performance metric of which used to evaluate the final model.\n",
    "\n",
    "Using MSE as a cost function, solution is called normal equation:\n",
    "\n",
    "$$ \\boldsymbol{\\hat{\\theta}} = (\\bf{X}^{\\intercal} \\bf{X})^{-1} \\bf{X}^{\\intercal} \\bf{y} $$"
   ]
  },
  {
   "cell_type": "code",
   "execution_count": 2,
   "id": "9b465f62-181a-44b2-8e6f-92afa2262008",
   "metadata": {},
   "outputs": [
    {
     "name": "stdout",
     "output_type": "stream",
     "text": [
      "[[3.86960027]\n",
      " [2.71697811]]\n"
     ]
    },
    {
     "data": {
      "image/png": "[encoded data removed]",
      "text/plain": [
       "<Figure size 360x360 with 1 Axes>"
      ]
     },
     "metadata": {},
     "output_type": "display_data"
    }
   ],
   "source": [
    "from scipy.linalg import inv, pinv\n",
    "\n",
    "m = 100\n",
    "X = 2 * np.random.rand(m,1) - 1\n",
    "y = 4 + 3 * X + np.random.randn(m,1) # Random noise is added\n",
    "X_aug = np.c_[np.ones((m,1)), X] # Augemented because bias 1 constants added\n",
    "theta = inv(X_aug.T @ X_aug) @ X_aug.T @ y\n",
    "preds = X_aug @ theta\n",
    "index = np.argsort(X)\n",
    "print(theta)\n",
    "plt.scatter(X, y)\n",
    "plt.plot(X, preds,\"r-\")\n",
    "plt.show()"
   ]
  },
  {
   "cell_type": "code",
   "execution_count": 3,
   "id": "7d1c589f-8377-4e6b-9074-b7a6bf4dc3db",
   "metadata": {},
   "outputs": [
    {
     "name": "stdout",
     "output_type": "stream",
     "text": [
      "Bias [3.86960027]\n",
      "Coefficients [[2.71697811]]\n",
      "Theta [[3.86960027]\n",
      " [2.71697811]]\n"
     ]
    }
   ],
   "source": [
    "from sklearn.linear_model import LinearRegression\n",
    "\n",
    "ln_reg = LinearRegression()\n",
    "ln_reg.fit(X,y)\n",
    "print(f\"Bias {ln_reg.intercept_}\\nCoefficients {ln_reg.coef_}\\nTheta {theta}\")"
   ]
  },
  {
   "cell_type": "markdown",
   "id": "750f7c4b-ca8e-4f5d-a45e-61bf4c82a580",
   "metadata": {},
   "source": [
    "The matrix expression in normal equation is called pseudoinverse:\n",
    "\n",
    "$$ \\bf{X}^{\\dagger} = (\\bf{X}^{\\intercal} \\bf{X})^{-1} $$\n",
    "$$ \\hat{\\boldsymbol{\\theta}} = \\bf{X}^{\\dagger} \\bf{y} $$ "
   ]
  },
  {
   "cell_type": "markdown",
   "id": "647ebdc8-2a9d-4aeb-8a02-1e7112851f95",
   "metadata": {},
   "source": [
    "## 4.2 Gradient Descent\n",
    "\n",
    "Gradient descent is based on minimizing a function through its derivative. In multivariable case, this becomes its gradient. It is an iterative algorithm such that\n",
    "\n",
    "$$ \\theta_{k+1} := \\theta_{k} - \\eta \\nabla_{\\theta} MSE(\\theta) $$\n",
    "\n",
    "gives the next parameter value for lower cost function. Learning rate is denoted with $\\eta$."
   ]
  },
  {
   "cell_type": "code",
   "execution_count": 4,
   "id": "c780dc5d-6907-4654-84a6-4d5ac8557a81",
   "metadata": {},
   "outputs": [
    {
     "data": {
      "text/plain": [
       "array([[3.86960027],\n",
       "       [2.71697811]])"
      ]
     },
     "execution_count": 4,
     "metadata": {},
     "output_type": "execute_result"
    }
   ],
   "source": [
    "# Batch gradient\n",
    "eta = 0.1\n",
    "n_iterations = 1000\n",
    "m = 100\n",
    "theta = np.random.randn(2,1)\n",
    "\n",
    "for iteration in range(n_iterations):\n",
    "    gradients = (2/m) * X_aug.T @ (X_aug @ theta - y)\n",
    "    theta = theta - eta * gradients\n",
    "    \n",
    "theta"
   ]
  },
  {
   "cell_type": "code",
   "execution_count": 5,
   "id": "17e5ef02-c672-4587-98c6-91bf2242e53c",
   "metadata": {},
   "outputs": [
    {
     "data": {
      "text/plain": [
       "array([[3.96986174],\n",
       "       [2.37703404]])"
      ]
     },
     "execution_count": 5,
     "metadata": {},
     "output_type": "execute_result"
    }
   ],
   "source": [
    "# Stochastic gradient\n",
    "\n",
    "eta = 0.1\n",
    "n_iterations = 100000\n",
    "m = 100\n",
    "theta = np.random.randn(2, 1)\n",
    "\n",
    "for iteration in range(n_iterations):\n",
    "    sample_index = np.random.randint(m)\n",
    "    gradients = X_aug[sample_index, :].reshape((-1, 1)) * (\n",
    "        X_aug[sample_index, :] @ theta - y[sample_index]\n",
    "    )\n",
    "    theta = theta - eta * gradients\n",
    "theta\n"
   ]
  },
  {
   "cell_type": "markdown",
   "id": "556d34f7-0be4-4c57-abbd-575884214fff",
   "metadata": {},
   "source": [
    "## 4.3 Polynomial Regression\n",
    "\n",
    "In polynomial regression, coefficients are still linear but features are transformed with polynomials. "
   ]
  },
  {
   "cell_type": "code",
   "execution_count": 6,
   "id": "ece3d28c-9c99-4729-a4e2-a482d5661926",
   "metadata": {},
   "outputs": [
    {
     "data": {
      "text/plain": [
       "<matplotlib.collections.PathCollection at 0x7febc41962d0>"
      ]
     },
     "execution_count": 6,
     "metadata": {},
     "output_type": "execute_result"
    },
    {
     "data": {
      "image/png": "[encoded data removed]",
      "text/plain": [
       "<Figure size 360x360 with 1 Axes>"
      ]
     },
     "metadata": {},
     "output_type": "display_data"
    }
   ],
   "source": [
    "m, n = 100, 1\n",
    "y_squ = 3 * X ** 2 - X + 10 + np.random.randn(m, n)\n",
    "plt.scatter(X, y_squ)"
   ]
  },
  {
   "cell_type": "code",
   "execution_count": 7,
   "id": "ce07c0d1-37d0-48f7-a70a-34dd783c575f",
   "metadata": {},
   "outputs": [
    {
     "data": {
      "text/plain": [
       "(array([10.01770897]), array([[-1.00428063,  2.9709893 ]]))"
      ]
     },
     "execution_count": 7,
     "metadata": {},
     "output_type": "execute_result"
    }
   ],
   "source": [
    "from sklearn.preprocessing import PolynomialFeatures\n",
    "poly_features = PolynomialFeatures(degree=2, include_bias=False)\n",
    "X_poly = poly_features.fit_transform(X)\n",
    "poly_reg = LinearRegression()\n",
    "poly_reg.fit(X_poly,y_squ)\n",
    "poly_reg.intercept_, poly_reg.coef_"
   ]
  },
  {
   "cell_type": "code",
   "execution_count": 8,
   "id": "ad642c53-c7b4-4f7f-b2fc-ce1c4d18f532",
   "metadata": {},
   "outputs": [
    {
     "data": {
      "image/png": "[encoded data removed]",
      "text/plain": [
       "<Figure size 360x360 with 1 Axes>"
      ]
     },
     "metadata": {},
     "output_type": "display_data"
    },
    {
     "name": "stdout",
     "output_type": "stream",
     "text": [
      "RMSE : 7.480394230537147\n",
      "Mean, std y values: (11.082593522568912, 1.475343803018364)\n"
     ]
    }
   ],
   "source": [
    "from sklearn.metrics import mean_squared_error\n",
    "preds = poly_reg.predict(X_poly)\n",
    "plt.scatter(X,y_squ)\n",
    "plt.scatter(X, preds)\n",
    "plt.show()\n",
    "print(f\"RMSE : {np.sqrt(mean_squared_error(y,preds))}\\nMean, std y values: {y_squ.mean(), y_squ.std()}\")"
   ]
  },
  {
   "cell_type": "markdown",
   "id": "d819c6bf-5bfa-4377-99c1-3d21cdc59fb4",
   "metadata": {},
   "source": [
    "## 4.4 Learning Curves\n",
    "\n",
    "We use learning curves to determine underfitting and overfitting. By drawing training and evaluation error against sample size, model can be asses in terms of its capacity. After a certain sample size threshold, both errors start to converge in a value. "
   ]
  },
  {
   "cell_type": "code",
   "execution_count": 9,
   "id": "ba5d5f3e-e623-40ec-8c8d-125e2ff54a1a",
   "metadata": {},
   "outputs": [
    {
     "data": {
      "image/png": "[encoded data removed]",
      "text/plain": [
       "<Figure size 360x360 with 1 Axes>"
      ]
     },
     "metadata": {},
     "output_type": "display_data"
    }
   ],
   "source": [
    "from sklearn.model_selection import train_test_split\n",
    "from sklearn.linear_model import LinearRegression\n",
    "from sklearn.metrics import mean_squared_error\n",
    "\n",
    "X = np.random.randn(m,1)\n",
    "Y_squ = 2 * X**2 - X + np.random.randn(m,1)\n",
    "\n",
    "X_train, X_test, y_train, y_test = train_test_split(X, y_squ, test_size=0.2)\n",
    "\n",
    "train_errors, val_errors = [], []\n",
    "\n",
    "for sample_size in range(1, m+1):\n",
    "    \n",
    "    ln_reg = LinearRegression()\n",
    "    ln_reg.fit(X_train[:sample_size], y_train[:sample_size])\n",
    "    train_preds = ln_reg.predict(X_train[:sample_size])\n",
    "    train_errors.append(np.sqrt(mean_squared_error(y_train[:sample_size], train_preds)))\n",
    "    \n",
    "    test_preds = ln_reg.predict(X_test[:sample_size])\n",
    "    val_errors.append(np.sqrt(mean_squared_error(y_test[:sample_size], test_preds)))\n",
    "    \n",
    "plt.plot(range(1,m+1), train_errors, label=\"Train errors\")\n",
    "plt.plot(range(1,m+1), val_errors, label=\"Val errors\")\n",
    "plt.xticks(range(1,m+1,9))\n",
    "plt.title(\"Learning Curve\")\n",
    "plt.legend()\n",
    "plt.show()"
   ]
  },
  {
   "cell_type": "code",
   "execution_count": 10,
   "id": "969ba82b-3993-4e22-a0f9-3ed2230c2795",
   "metadata": {},
   "outputs": [
    {
     "data": {
      "image/png": "[encoded data removed]",
      "text/plain": [
       "<Figure size 360x360 with 1 Axes>"
      ]
     },
     "metadata": {},
     "output_type": "display_data"
    }
   ],
   "source": [
    "from sklearn.model_selection import learning_curve\n",
    "from sklearn.preprocessing import PolynomialFeatures\n",
    "\n",
    "X_poly_2 = PolynomialFeatures(degree=2).fit_transform(X)\n",
    "ln_reg = LinearRegression()\n",
    "train_sizes, train_scores, test_scores, fit_times, _ = learning_curve(\n",
    "    ln_reg, \n",
    "    X_poly_2, \n",
    "    y_squ, \n",
    "    train_sizes=np.linspace(0.1, 1.0,50),\n",
    "    scoring=\"neg_mean_squared_error\",\n",
    "    return_times=True)\n",
    "\n",
    "plt.plot(train_sizes, np.mean(-train_scores,axis=1), label=\"Train\")\n",
    "plt.plot(train_sizes, np.mean(-test_scores,axis=1), label=\"Test\")\n",
    "plt.legend()\n",
    "plt.show()"
   ]
  },
  {
   "cell_type": "code",
   "execution_count": 11,
   "id": "ad0e9e26-84ca-4d39-943b-8cf05518ed46",
   "metadata": {},
   "outputs": [
    {
     "data": {
      "image/png": "[encoded data removed]",
      "text/plain": [
       "<Figure size 360x360 with 1 Axes>"
      ]
     },
     "metadata": {},
     "output_type": "display_data"
    }
   ],
   "source": [
    "from sklearn.model_selection import learning_curve\n",
    "\n",
    "X_poly_10 = PolynomialFeatures(degree=10).fit_transform(X)\n",
    "ln_reg = LinearRegression()\n",
    "\n",
    "train_sizes, train_scores, test_scores, fit_times, _ = learning_curve(\n",
    "    ln_reg, \n",
    "    X_poly_10, \n",
    "    y_squ, \n",
    "    train_sizes=np.linspace(0.1, 1.0,50),\n",
    "    scoring=\"neg_mean_squared_error\",\n",
    "    return_times=True)\n",
    "\n",
    "plt.plot(train_sizes, np.mean(-train_scores,axis=1), label=\"Train\")\n",
    "plt.plot(train_sizes, np.mean(-test_scores,axis=1), label=\"Test\")\n",
    "plt.legend()\n",
    "plt.show()"
   ]
  },
  {
   "cell_type": "markdown",
   "id": "f2b8d343-b53e-4809-87bd-82f09f70256f",
   "metadata": {},
   "source": [
    ">**Bias:** This part of the generalization error is due to wrong assumptions, such as assuming that the data is linear when it is actually quadratic. A high-bias model is most likely to underfit the training data.\n",
    "\n",
    ">**Variance:** This part is due to the model’s excessive sensitivity to small variations in the training data. A model with many degrees of freedom (such as a high-degree polynomial model) is likely to have high variance and thus overfit the training data.\n",
    "\n",
    "> **Irreducible error:** This part is due to the noisiness of the data itself. The only way to reduce this\n",
    "part of the error is to clean up the data (e.g., fix the data sources, such as broken\n",
    "sensors, or detect and remove outliers).\n",
    "\n",
    "Increasing a model’s complexity will typically increase its variance and reduce its bias.\n",
    "Conversely, reducing a model’s complexity increases its bias and reduces its variance.\n",
    "This is why it is called a trade-off."
   ]
  },
  {
   "cell_type": "markdown",
   "id": "83af8fa6-b2b1-487e-9a83-224fe7c94c47",
   "metadata": {},
   "source": [
    "## 4.5 Regularized Linear Models\n",
    "\n",
    "Regularization places constraints on the model such that overfitting does not occur. We can limit parameter possible values to implement regularization. For example, regarding a linear model $y = \\theta x + b, x, b, \\theta \\in \\mathbb{R}$ if $\\theta$ can only have positive values then model can only predict positive relationships. \n",
    "\n",
    "Let's start with **ridge regression**\n",
    "\n",
    "$$ J(\\boldsymbol{\\theta}) = MSE(\\boldsymbol{\\theta}) + \\alpha \\|\\boldsymbol{\\theta}\\|_{2}^{2} $$\n",
    "\n",
    "and by adding $l_{2}$ norm of parameters to the error function, we can limit possible values. Closed form solution is\n",
    "\n",
    "$$ \\boldsymbol{\\theta} = (\\bf{X}^{\\intercal} \\bf{X} + \\alpha I)^{-1} \\bf{X}^{\\intercal} \\bf{y} $$\n",
    "\n",
    "and `Ridge` method accepts different solvers such as `svd`, `cholesky` `sag` etc."
   ]
  },
  {
   "cell_type": "code",
   "execution_count": 12,
   "id": "9c82a8b5-eb0a-4977-a087-7e4359b62e4c",
   "metadata": {},
   "outputs": [
    {
     "name": "stdout",
     "output_type": "stream",
     "text": [
      "Ridge RMSE: 1.4746504795849336\n",
      "SGD RMSE: 1.4753420116248805\n"
     ]
    }
   ],
   "source": [
    "from sklearn.linear_model import Ridge\n",
    "from sklearn.metrics import mean_squared_error\n",
    "\n",
    "rdg_reg = Ridge(alpha=1.0, solver=\"cholesky\") # Closed form solution\n",
    "rdg_reg.fit(X_poly_2,y_squ)\n",
    "preds = rdg_reg.predict(X_poly_2)\n",
    "\n",
    "print(f\"Ridge RMSE: {np.sqrt(mean_squared_error(y_squ, preds))}\")\n",
    "\n",
    "from sklearn.linear_model import SGDRegressor\n",
    "\n",
    "sgd_reg = SGDRegressor(penalty=\"l2\")\n",
    "sgd_reg.fit(X_poly_2,y_squ.ravel())\n",
    "preds = sgd_reg.predict(X_poly_2)\n",
    "\n",
    "print(f\"SGD RMSE: {np.sqrt(mean_squared_error(y_squ, preds))}\")"
   ]
  },
  {
   "cell_type": "markdown",
   "id": "4fccfa61-2872-4305-9be3-099e3163972a",
   "metadata": {},
   "source": [
    "Second regularized linear model is **Lasso**\n",
    "\n",
    "$$ J(\\boldsymbol{\\theta}) = MSE(\\boldsymbol{\\theta}) + \\alpha \\|\\boldsymbol{\\theta}\\|_{1} $$\n"
   ]
  },
  {
   "cell_type": "code",
   "execution_count": 13,
   "id": "26daa3bc-c788-464b-a754-0d549bf2ad96",
   "metadata": {},
   "outputs": [
    {
     "name": "stdout",
     "output_type": "stream",
     "text": [
      "[4.04949135]\n"
     ]
    },
    {
     "data": {
      "text/plain": [
       "array([3.86883318])"
      ]
     },
     "execution_count": 13,
     "metadata": {},
     "output_type": "execute_result"
    }
   ],
   "source": [
    "from sklearn.linear_model import Lasso\n",
    "lasso_reg = Lasso(alpha=0.1)\n",
    "lasso_reg.fit(X, y)\n",
    "print(lasso_reg.predict([[1.5]]))\n",
    "\n",
    "from sklearn.linear_model import SGDRegressor\n",
    "\n",
    "sgd_las = SGDRegressor(penalty=\"l1\")\n",
    "sgd_las.fit(X,y.ravel())\n",
    "(sgd_las.predict([[1.5]]))"
   ]
  },
  {
   "cell_type": "markdown",
   "id": "b9f75110-19c5-4c46-b5af-c98219ef514f",
   "metadata": {},
   "source": [
    "Finally, the last regularized linear model is **elastic net** which combines previous approaches\n",
    "\n",
    "$$ J(\\boldsymbol{\\theta}) = MSE(\\boldsymbol{\\theta}) + r \\alpha \\|\\boldsymbol{\\theta}\\|_{2}^{2} + (1 - r) \\alpha \\|\\boldsymbol{\\theta}\\|_{1} $$\n",
    "\n",
    "and it is a middle ground. Preferring elastic net over Lasso is reasonable when features are strongly correlated and number of features are greater than sample size.\n"
   ]
  },
  {
   "cell_type": "code",
   "execution_count": 14,
   "id": "7e6882ad-ec11-4841-b523-262219ab7a4d",
   "metadata": {},
   "outputs": [
    {
     "data": {
      "text/plain": [
       "array([3.87283365])"
      ]
     },
     "execution_count": 14,
     "metadata": {},
     "output_type": "execute_result"
    }
   ],
   "source": [
    "from sklearn.linear_model import ElasticNet\n",
    "\n",
    "ela_rg = ElasticNet(alpha=0.1, l1_ratio=0.5)\n",
    "ela_rg.fit(X,y)\n",
    "ela_rg.predict([[1.5]])\n",
    "\n",
    "from sklearn.linear_model import SGDRegressor\n",
    "\n",
    "ela_rg = SGDRegressor(penalty=\"elasticnet\")\n",
    "ela_rg.fit(X,y.ravel())\n",
    "ela_rg.predict([[1.5]])"
   ]
  },
  {
   "cell_type": "markdown",
   "id": "7c2d9a03-1fb1-4ddf-91e7-65a33dd92949",
   "metadata": {},
   "source": [
    "Another regularization method is **early stopping**. This method uses validation error performance instead of model parameters. We sort of use a memoization for validation errors and stop the training moment validation errors start to increase. "
   ]
  },
  {
   "cell_type": "code",
   "execution_count": 15,
   "id": "c25bcbad-7d12-4374-ad88-9a4c6236c485",
   "metadata": {},
   "outputs": [],
   "source": [
    "from sklearn.base import clone\n",
    "from sklearn.preprocessing import PolynomialFeatures, StandardScaler\n",
    "from sklearn.pipeline import Pipeline\n",
    "from sklearn.linear_model import SGDRegressor\n",
    "from sklearn.model_selection import train_test_split\n",
    "from sklearn.metrics import mean_squared_error\n",
    "\n",
    "m, n = 10_000, 1\n",
    "X = 2 * np.random.randn(m,n)\n",
    "y = 3 * X**2 - 3*X + np.random.randn(m, n)\n",
    "\n",
    "X_train, X_test, y_train, y_test = train_test_split(\n",
    "    X, \n",
    "    y, \n",
    "    test_size=0.2, \n",
    "    shuffle=True, \n",
    "    random_state=10)\n",
    "\n",
    "poly_pipeline = Pipeline([\n",
    "    (\"poly_features\", PolynomialFeatures(degree=10, include_bias=False)),\n",
    "    (\"scaler\", StandardScaler())\n",
    "])\n",
    "\n",
    "X_train_poly = poly_pipeline.fit_transform(X_train)\n",
    "X_test_poly = poly_pipeline.transform(X_test)\n",
    "\n",
    "sgd_reg = SGDRegressor(\n",
    "    max_iter=1,\n",
    "    tol=-np.infty,\n",
    "    warm_start=True,\n",
    "    penalty=None,\n",
    "    learning_rate=\"constant\",\n",
    "    eta0=0.0005)\n",
    "\n",
    "minimum_val_error = np.infty\n",
    "best_epoch = None\n",
    "best_model = None\n",
    "\n",
    "for epoch in range(1000):\n",
    "    sgd_reg.fit(X_train_poly, y_train.ravel())\n",
    "    preds = sgd_reg.predict(X_test_poly)\n",
    "    val_error = mean_squared_error(y_test, preds)\n",
    "    if val_error < minimum_val_error:\n",
    "        minimum_val_error = val_error\n",
    "        best_epoch = epoch\n",
    "        best_model = clone(sgd_reg)"
   ]
  },
  {
   "cell_type": "markdown",
   "id": "75d8b9bb-b816-4dcf-acd9-56b9b906b0db",
   "metadata": {},
   "source": [
    "## 4.6 Logistic Regression"
   ]
  },
  {
   "cell_type": "markdown",
   "id": "4f6a1cec-b14d-43ac-8d2f-31429a75a8e7",
   "metadata": {},
   "source": [
    "As opposed to the name, logistic regression is a classification algorithm. The prediction scores generated by regression process is fed to logit function which at the end outputs values between 0 and 1. This range makes it possible to interpret scores as probabilities and a threshold can be used for deciding class label.\n",
    "\n",
    "Mathematical prediction formula is\n",
    "\n",
    "$$ \\hat{p} = h_{\\theta}(\\bf{x}) = \\sigma(\\bf{x}^{\\intercal} \\theta) $$\n",
    "\n",
    "and logistic function is \n",
    "\n",
    "$$ \\sigma(t) = \\frac{1}{1 + \\exp(-t)} $$\n",
    "\n",
    "and **score** $\\sigma(t) = \\hat{p}$ used as a probability. Another namingfor $t$ is logit because if score plugged into the logit function $ logit(p) = \\log\\frac{p}{1-p}$, the result is equal to $t$ such that $logit(\\hat{p}) = t$.\n",
    "\n",
    "Finally, model is trained according to **log-loss** which is \n",
    "\n",
    "$$ J(\\boldsymbol{\\theta}) = - \\sum_{i=1}^{m} y^{(i)} log(\\hat{p}) + (1 - y^{(i)}) log(1 - \\hat{p}) $$\n",
    "\n",
    "and sadly has no closed form solution. In addition, logistic regression is inherently a binary classifier. It's clear from the loss function, $y \\in \\{0,1\\}$.\n",
    "\n",
    "Let's use `iris` dataset for an example and turn it into a binary classification."
   ]
  },
  {
   "cell_type": "code",
   "execution_count": 30,
   "id": "14c30c3b",
   "metadata": {},
   "outputs": [
    {
     "name": "stdout",
     "output_type": "stream",
     "text": [
      "f1 score: 0.9387755102040817\n"
     ]
    }
   ],
   "source": [
    "from sklearn.datasets import load_iris\n",
    "from sklearn.linear_model import LogisticRegression\n",
    "from sklearn.preprocessing import StandardScaler\n",
    "from sklearn.metrics import f1_score\n",
    "\n",
    "iris = load_iris()\n",
    "X = iris[\"data\"][:, 3:]\n",
    "y = iris[\"target\"]\n",
    "y_2 = (y == 2).astype(np.int)\n",
    "\n",
    "log_reg = LogisticRegression(solver=\"saga\", multi_class=\"ovr\")\n",
    "\n",
    "X_proc = StandardScaler().fit_transform(X)\n",
    "log_reg.fit(X_proc, y_2)\n",
    "preds = log_reg.predict(X_proc)\n",
    "score = f1_score(y_2, preds)\n",
    "print(f\"f1 score: {score}\")\n"
   ]
  },
  {
   "cell_type": "markdown",
   "id": "5b31ccd3",
   "metadata": {},
   "source": [
    "When a dataset with multiclass labels is given to logistic regression, `sklearn` automatically runs one-vs-all classification. However, we can generalize the model using softmax function such as\n",
    "\n",
    "$$ \\sigma(\\mathbf{x}) = \\begin{bmatrix} \\frac{e^{\\boldsymbol{\\theta}^{\\intercal}_{1}\\mathbf{x}}}{\\sum_{i=1}^{k} e^{\\boldsymbol{\\theta}^{\\intercal}\\mathbf{x}}} \\\\ \\vdots \\\\ \\frac{e^{\\boldsymbol{\\theta}^{\\intercal}_{k}\\mathbf{x}}}{\\sum_{i=1}^{k} e^{\\boldsymbol{\\theta}^{\\intercal}\\mathbf{x}}} \\end{bmatrix} = \\begin{bmatrix} \\hat{p_{1}} \\\\ \\vdots \\\\ \\hat{p_{k}}\\end{bmatrix}$$\n",
    "\n",
    "and for every class we need a different parameter vector $\\theta_{k}$. In order to train this model, we use **cross entropy** as a loss function meaning\n",
    "\n",
    "$$ J(\\boldsymbol{\\theta}) = - \\frac{1}{m} \\sum_{i=1}^{m} \\sum_{k=1}^{K} y_{k}^{(i)} log(\\hat{p}_{k}^{(i)}) $$"
   ]
  },
  {
   "cell_type": "code",
   "execution_count": 24,
   "id": "d2e0212f-8521-43d5-b29f-597db501e61b",
   "metadata": {},
   "outputs": [
    {
     "name": "stdout",
     "output_type": "stream",
     "text": [
      "0.9333333333333333\n"
     ]
    }
   ],
   "source": [
    "from sklearn import datasets\n",
    "from sklearn.linear_model import LogisticRegression\n",
    "from sklearn.metrics import f1_score\n",
    "from sklearn.model_selection import train_test_split\n",
    "from sklearn.pipeline import Pipeline\n",
    "from sklearn.preprocessing import StandardScaler\n",
    "\n",
    "iris = datasets.load_iris()\n",
    "X = iris[\"data\"]\n",
    "y = iris[\"target\"]\n",
    "X_train, X_test, y_train, y_test = train_test_split(X, y, test_size=0.2, stratify=y)\n",
    "\n",
    "scaler = StandardScaler()\n",
    "X_train_proc = scaler.fit_transform(X_train)\n",
    "x_test_proc = scaler.transform(X_test)\n",
    "\n",
    "log_reg = LogisticRegression(multi_class=\"multinomial\")\n",
    "log_reg.fit(X_train_proc, y_train)\n",
    "\n",
    "scores = log_reg.predict(x_test_proc)\n",
    "\n",
    "print(f1_score(y_test, scores, average=\"micro\"))\n"
   ]
  },
  {
   "cell_type": "markdown",
   "id": "73eabf3c",
   "metadata": {},
   "source": [
    "> **Remark:** Entropy is the average amount of information we glean from the outcome of a random variable. Mathematical formulation is as follows for a r.v. $X \\sim p(x) $\n",
    "> $$ H[X] = - \\sum_{x} p(x) log_{2}p(x) $$\n",
    "> and this is for bit information. In addition, cross entropy is for estimating distribution wrongly as $q(x)$\n",
    "> $$ H[p,q] = - \\sum_{x} p(x) log_{2}q(x) $$\n",
    "> If we rearange cross entropy, the extra added bits are obvious for miscalculating the distribution\n",
    "> $$ H[p,q] = - \\sum_{x} p(x) log_{2}p(x) - \\sum_{x} p(x) log_{2}\\frac{q(x)}{p(x)} $$\n",
    "> $$ H[p,q] = \\underbrace{H[X]}_{{Entropy}} + \\underbrace{D_{KL}(p \\| q)}_{KL~divergence} $$\n"
   ]
  }
 ],
 "metadata": {
  "kernelspec": {
   "display_name": "Python 3 (ipykernel)",
   "language": "python",
   "name": "python3"
  },
  "language_info": {
   "codemirror_mode": {
    "name": "ipython",
    "version": 3
   },
   "file_extension": ".py",
   "mimetype": "text/x-python",
   "name": "python",
   "nbconvert_exporter": "python",
   "pygments_lexer": "ipython3",
   "version": "3.7.11"
  },
  "toc-autonumbering": false,
  "toc-showcode": false,
  "toc-showmarkdowntxt": false,
  "toc-showtags": false
 },
 "nbformat": 4,
 "nbformat_minor": 5
}
