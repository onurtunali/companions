{
 "cells": [
  {
   "cell_type": "markdown",
   "metadata": {},
   "source": [
    "# 5. Cleaning and Transforming DataFrames"
   ]
  },
  {
   "cell_type": "code",
   "execution_count": null,
   "metadata": {},
   "outputs": [],
   "source": [
    "import dask.dataframe as dd\n",
    "from datetime import datetime\n",
    "import pandas as pd\n",
    "\n",
    "ddf = dd.read_csv(\"data/parking_violations/*\")\n",
    "ddf.columns"
   ]
  },
  {
   "cell_type": "code",
   "execution_count": null,
   "metadata": {},
   "outputs": [],
   "source": [
    "issue_date_parsed = ddf[\"Issue Date\"].apply(\n",
    "    lambda x: datetime.strptime(x, \"%Y-%M-%d\"), meta=datetime\n",
    ")"
   ]
  },
  {
   "cell_type": "code",
   "execution_count": null,
   "metadata": {},
   "outputs": [],
   "source": [
    "years = [\"2021\", \"2022\"]\n",
    "months = [\"10\", \"11\", \"12\"]\n",
    "days = [\"01\", \"02\", \"03\"]\n",
    "dates = [year + month + day for year in years for month in months for day in days]\n",
    "dates\n",
    "pd.concat"
   ]
  }
 ],
 "metadata": {
  "kernelspec": {
   "display_name": "Python 3.8.13 ('numba')",
   "language": "python",
   "name": "python3"
  },
  "language_info": {
   "codemirror_mode": {
    "name": "ipython",
    "version": 3
   },
   "file_extension": ".py",
   "mimetype": "text/x-python",
   "name": "python",
   "nbconvert_exporter": "python",
   "pygments_lexer": "ipython3",
   "version": "3.8.13"
  },
  "orig_nbformat": 4,
  "vscode": {
   "interpreter": {
    "hash": "4927bbdceacfd5e8085c5a417658c570f77cc549c0fcb4e73da9566e0e2ae506"
   }
  }
 },
 "nbformat": 4,
 "nbformat_minor": 2
}
