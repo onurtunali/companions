{
 "cells": [
  {
   "cell_type": "markdown",
   "metadata": {},
   "source": [
    "# 9. Working with Bags and Arrays"
   ]
  },
  {
   "cell_type": "code",
   "execution_count": null,
   "metadata": {},
   "outputs": [],
   "source": [
    "import dask.bag as bag\n",
    "import os\n",
    "from dask.diagnostics import ProgressBar\n",
    "\n",
    "raw_data = bag.read_text(\"data/finefoods.txt\", encoding=\"iso-8859-1\")\n",
    "raw_data\n"
   ]
  },
  {
   "cell_type": "code",
   "execution_count": null,
   "metadata": {},
   "outputs": [],
   "source": [
    "with ProgressBar():\n",
    "    raw_data.count().compute()"
   ]
  }
 ],
 "metadata": {
  "kernelspec": {
   "display_name": "Python 3.8.13 ('numba')",
   "language": "python",
   "name": "python3"
  },
  "language_info": {
   "codemirror_mode": {
    "name": "ipython",
    "version": 3
   },
   "file_extension": ".py",
   "mimetype": "text/x-python",
   "name": "python",
   "nbconvert_exporter": "python",
   "pygments_lexer": "ipython3",
   "version": "3.8.13"
  },
  "orig_nbformat": 4,
  "vscode": {
   "interpreter": {
    "hash": "4927bbdceacfd5e8085c5a417658c570f77cc549c0fcb4e73da9566e0e2ae506"
   }
  }
 },
 "nbformat": 4,
 "nbformat_minor": 2
}
