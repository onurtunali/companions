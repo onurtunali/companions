{
 "cells": [
  {
   "cell_type": "markdown",
   "metadata": {},
   "source": [
    "# 2 Introduction to Dask"
   ]
  },
  {
   "cell_type": "code",
   "execution_count": null,
   "metadata": {},
   "outputs": [],
   "source": [
    "import warnings\n",
    "\n",
    "warnings.filterwarnings(\"ignore\")\n",
    "import dask.dataframe as dd\n",
    "\n",
    "import dask\n",
    "import matplotlib.pyplot as plt\n",
    "import pandas as pd\n",
    "from dask.diagnostics import ProgressBar\n",
    "from dask.distributed import Client, LocalCluster\n",
    "\n",
    "ddf = dd.read_csv(\n",
    "    \"data/parking_violations/Parking_Violations_Issued_-_Fiscal_Year_2017.csv\",\n",
    "    dtype={\"House Number\": \"object\", \"Time First Observed\": \"object\"},\n",
    ")\n"
   ]
  },
  {
   "cell_type": "code",
   "execution_count": null,
   "metadata": {},
   "outputs": [],
   "source": [
    "missing_values = ddf.isnull().sum()\n",
    "missing_count_dag = (missing_values / ddf.index.size) * 100\n",
    "\n",
    "with ProgressBar():\n",
    "    missing_count = missing_count_dag.compute()\n",
    "    columns_to_drop = missing_count[missing_count > 60].index\n",
    "    ddf_dropped_dag = ddf.drop(columns_to_drop, axis=1)\n",
    "    ddf_dropped_persisted = ddf.drop(columns_to_drop, axis=1).persist()\n"
   ]
  },
  {
   "cell_type": "code",
   "execution_count": null,
   "metadata": {},
   "outputs": [],
   "source": [
    "missing_values = ddf.isnull().sum()\n",
    "missing_count_dag = (missing_values / ddf.index.size) * 100\n",
    "\n",
    "with (\n",
    "    LocalCluster(n_workers=6, processes=True, memory_limit=\"2GB\") as cluster,\n",
    "    Client(cluster) as client,\n",
    "):\n",
    "    print(f\"Dashboard link:\", {client.dashboard_link})\n",
    "    missing_count = missing_count_dag.compute()\n",
    "    columns_to_drop = missing_count[missing_count > 60].index\n",
    "    ddf_dropped_dag = ddf.drop(columns_to_drop, axis=1)\n",
    "    ddf_dropped_persisted = ddf.drop(columns_to_drop, axis=1).persist()\n"
   ]
  }
 ],
 "metadata": {
  "kernelspec": {
   "display_name": "Python 3.8.13 ('numba')",
   "language": "python",
   "name": "python3"
  },
  "language_info": {
   "codemirror_mode": {
    "name": "ipython",
    "version": 3
   },
   "file_extension": ".py",
   "mimetype": "text/x-python",
   "name": "python",
   "nbconvert_exporter": "python",
   "pygments_lexer": "ipython3",
   "version": "3.8.13"
  },
  "orig_nbformat": 4,
  "vscode": {
   "interpreter": {
    "hash": "4927bbdceacfd5e8085c5a417658c570f77cc549c0fcb4e73da9566e0e2ae506"
   }
  }
 },
 "nbformat": 4,
 "nbformat_minor": 2
}
