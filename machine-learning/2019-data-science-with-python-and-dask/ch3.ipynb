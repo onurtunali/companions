{
 "cells": [
  {
   "cell_type": "markdown",
   "metadata": {},
   "source": [
    "# 3 Introduction to Dask"
   ]
  },
  {
   "cell_type": "code",
   "execution_count": null,
   "metadata": {},
   "outputs": [],
   "source": [
    "import dask.dataframe as dd\n",
    "import matplotlib.pyplot as plt\n",
    "import pandas as pd\n",
    "from dask.diagnostics import ProgressBar\n",
    "\n",
    "# ddf = dd.read_csv(\n",
    "#     \"data/parking_violations/Parking_Violations_Issued_-_Fiscal_Year_2017.csv\",\n",
    "#     dtype={\n",
    "#         \"House Number\": \"object\",\n",
    "#         \"Time First Observed\": \"object\",\n",
    "#         \"Issuer Squad\": \"object\",\n",
    "#         \"Violation Post Code\": \"object\",\n",
    "#     },\n",
    "# )\n",
    "\n",
    "ddf = dd.read_parquet(\"data/parking_violations_parquet/\")\n"
   ]
  },
  {
   "cell_type": "code",
   "execution_count": null,
   "metadata": {},
   "outputs": [],
   "source": [
    "from functools import reduce\n",
    "\n",
    "temp = list(range(4))\n",
    "reduce(lambda x, y: x + y, temp)"
   ]
  },
  {
   "cell_type": "code",
   "execution_count": null,
   "metadata": {},
   "outputs": [],
   "source": [
    "with ProgressBar():\n",
    "    # print(ddf.map_partitions(len).compute())\n",
    "    ddf_filtered = ddf[ddf[\"Intersecting Street\"].notnull()]\n",
    "    print(ddf_filtered.repartition(npartitions=33).map_partitions(len).compute())\n"
   ]
  }
 ],
 "metadata": {
  "kernelspec": {
   "display_name": "Python 3.8.13 ('numba')",
   "language": "python",
   "name": "python3"
  },
  "language_info": {
   "codemirror_mode": {
    "name": "ipython",
    "version": 3
   },
   "file_extension": ".py",
   "mimetype": "text/x-python",
   "name": "python",
   "nbconvert_exporter": "python",
   "pygments_lexer": "ipython3",
   "version": "3.8.13"
  },
  "orig_nbformat": 4,
  "vscode": {
   "interpreter": {
    "hash": "4927bbdceacfd5e8085c5a417658c570f77cc549c0fcb4e73da9566e0e2ae506"
   }
  }
 },
 "nbformat": 4,
 "nbformat_minor": 2
}
