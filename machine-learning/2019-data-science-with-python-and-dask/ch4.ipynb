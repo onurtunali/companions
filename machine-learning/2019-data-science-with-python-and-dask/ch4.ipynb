{
 "cells": [
  {
   "cell_type": "markdown",
   "metadata": {},
   "source": [
    "# 4. Loading Data into DataFrames"
   ]
  },
  {
   "cell_type": "code",
   "execution_count": null,
   "metadata": {},
   "outputs": [],
   "source": [
    "from dotenv import load_dotenv\n",
    "import os\n",
    "import settings\n",
    "import pandas as pd\n",
    "from sqlalchemy import create_engine\n",
    "from tqdm.notebook import tqdm\n",
    "import dask.dataframe as dd\n",
    "\n",
    "load_dotenv(override=True)\n",
    "\n",
    "DATABASE_URI = f\"postgresql://{settings.DB_USERNAME}:{settings.DB_PASSWORD}@{settings.DB_HOST}/{settings.DB_NAME}\"\n",
    "DATABASE_URI\n"
   ]
  },
  {
   "cell_type": "markdown",
   "metadata": {},
   "source": [
    "Pandas ile database'ten veri çekme"
   ]
  },
  {
   "cell_type": "code",
   "execution_count": null,
   "metadata": {},
   "outputs": [],
   "source": [
    "dfl = []\n",
    "\n",
    "\n",
    "def process_sql_using_pandas():\n",
    "    engine = create_engine(DATABASE_URI)\n",
    "    # tüm veriyi hafızaya atmamak için stream yapıyoruz.\n",
    "    conn = engine.connect().execution_options(stream_results=True)\n",
    "\n",
    "    for chunk_dataframe in tqdm(\n",
    "        pd.read_sql_query(\n",
    "            \"SELECT id,title,description FROM public.article\", conn, chunksize=1000\n",
    "        )\n",
    "    ):\n",
    "        print(f\"Got dataframe w/{len(chunk_dataframe)} rows\")\n",
    "        dfl.append(chunk_dataframe)\n",
    "\n",
    "    return pd.concat(dfl)\n",
    "\n",
    "\n",
    "df = process_sql_using_pandas()\n",
    "df"
   ]
  },
  {
   "cell_type": "markdown",
   "metadata": {},
   "source": [
    "Dask ile veri çekme"
   ]
  },
  {
   "cell_type": "code",
   "execution_count": null,
   "metadata": {},
   "outputs": [],
   "source": [
    "data = dd.read_sql_table(\n",
    "    \"article\",\n",
    "    DATABASE_URI,\n",
    "    index_col=\"id\",\n",
    "    npartitions=10,\n",
    "    columns=[\"id\", \"title\", \"description\"],\n",
    ")\n",
    "data\n"
   ]
  },
  {
   "cell_type": "code",
   "execution_count": null,
   "metadata": {},
   "outputs": [],
   "source": [
    "df = data.compute()\n",
    "df"
   ]
  }
 ],
 "metadata": {
  "kernelspec": {
   "display_name": "Python 3.8.13 ('numba')",
   "language": "python",
   "name": "python3"
  },
  "language_info": {
   "codemirror_mode": {
    "name": "ipython",
    "version": 3
   },
   "file_extension": ".py",
   "mimetype": "text/x-python",
   "name": "python",
   "nbconvert_exporter": "python",
   "pygments_lexer": "ipython3",
   "version": "3.8.13"
  },
  "orig_nbformat": 4,
  "vscode": {
   "interpreter": {
    "hash": "4927bbdceacfd5e8085c5a417658c570f77cc549c0fcb4e73da9566e0e2ae506"
   }
  }
 },
 "nbformat": 4,
 "nbformat_minor": 2
}
