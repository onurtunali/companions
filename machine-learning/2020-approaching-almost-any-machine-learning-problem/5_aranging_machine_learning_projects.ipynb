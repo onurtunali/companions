{
 "cells": [
  {
   "cell_type": "markdown",
   "id": "lucky-miller",
   "metadata": {},
   "source": [
    "## Arranging Machine Learning Projects\n",
    "\n",
    "This section is mostly about laying down a structure or template for future projects. Mainly there are 4 directories in your project: input, models, notebooks and src. Additionally you have a readme and a license file. However, for a more professional and comprehensive project structure I would recommend cookiecutter template.\n",
    "\n",
    "```bash\n",
    "$ pip install cookiecutter\n",
    "$ cookiecutter -c v1 https://github.com/drivendata/cookiecutter-data-science\n",
    "```\n",
    "\n",
    "Following code would create directory structure in your current directory as given in the book:"
   ]
  },
  {
   "cell_type": "code",
   "execution_count": 1,
   "id": "level-tobago",
   "metadata": {},
   "outputs": [],
   "source": [
    "import os\n",
    "import pandas as pd\n",
    "import numpy as np\n",
    "import matplotlib.pyplot as plt\n",
    "import seaborn as sns\n",
    "\n",
    "# Figure styles\n",
    "sns.set_theme()\n",
    "\n",
    "project_directory = \"project/\"\n",
    "\n",
    "def create_project(project_directory):\n",
    "    directories =[\"input\",\"src\",\"models\",\"notebooks\"]\n",
    "    for dir_ in directories:\n",
    "        os.makedirs(project_directory + dir_, exist_ok=True)\n",
    "    print(\"Directory created:\\n\", os.listdir(project_directory))"
   ]
  },
  {
   "cell_type": "markdown",
   "id": "engaged-field",
   "metadata": {},
   "source": [
    "## Preparing Dataset\n",
    "\n",
    "Before moving on let's try to manipulate dataset into csv format. Because in the book it's assumed that you have the dataset in csv format. In previous section, we have obtained `MNIST` dataset through scikit-learn library method `fetch_openml`."
   ]
  },
  {
   "cell_type": "code",
   "execution_count": 2,
   "id": "legislative-synthesis",
   "metadata": {},
   "outputs": [],
   "source": [
    "from sklearn import datasets\n",
    "\n",
    "# return_X_y = False returns a scikit-learn bunch object\n",
    "# return_X_y = True returns a (data, target) tuplet\n",
    "\n",
    "mnist_bunch = datasets.fetch_openml(\"mnist_784\", version=1, return_X_y=False)\n",
    "mnist_array = datasets.fetch_openml(\"mnist_784\", version=1, return_X_y=True)"
   ]
  },
  {
   "cell_type": "markdown",
   "id": "useful-membership",
   "metadata": {},
   "source": [
    "As we said previously, `mnist_bunch` is a dictionary like object. Using the attributes, we can convert it to a pandas dataframe:\n",
    "\n",
    "```python\n",
    "mnist_bunch.keys()\n",
    ">>> dict_keys(['data', 'target', 'frame', 'categories', 'feature_names', 'target_names', 'DESCR', 'details', 'url'])\n",
    "```"
   ]
  },
  {
   "cell_type": "code",
   "execution_count": null,
   "id": "surgical-belfast",
   "metadata": {},
   "outputs": [],
   "source": [
    "# np.c_[a,b] method stacks columns horizontally. \n",
    "# a = [[1,2], \n",
    "#     [3,4]]  \n",
    "# b = [5,6] \n",
    "# np.c_[a,b] \n",
    "# >>> [[1,2,5],\n",
    "#      [3,4,6]]\n",
    "\n",
    "mnist_df = pd.DataFrame(data=np.c_[mnist_bunch.data, mnist_bunch.target],\n",
    "                       columns=list(mnist_bunch.feature_names) + [\"target\"])\n",
    "mnist_df.to_csv(\"project/input/mnist.csv\", index=False)"
   ]
  },
  {
   "cell_type": "code",
   "execution_count": 11,
   "id": "marine-coordination",
   "metadata": {},
   "outputs": [],
   "source": [
    "# # Let's turn array object into a DataFrame and then save it as csv file\n",
    "mnist_array_target = mnist_array[1].astype(int)\n",
    "\n",
    "# mnist_array is a tuple (data,target)\n",
    "mnist_array_c = np.c_[mnist_array[0], mnist_array_target] \n",
    "\n",
    "# However, file size of savetxt method is generally large when fmt parameter is not given.\n",
    "np.savetxt(\"project/input/mnist_array.csv\", mnist_array_c, delimiter=\",\",fmt='%d')"
   ]
  },
  {
   "cell_type": "code",
   "execution_count": 2,
   "id": "controlled-neighborhood",
   "metadata": {},
   "outputs": [
    {
     "data": {
      "text/plain": [
       "<matplotlib.axes._subplots.AxesSubplot at 0x7f6790353750>"
      ]
     },
     "execution_count": 2,
     "metadata": {},
     "output_type": "execute_result"
    },
    {
     "data": {
      "image/png": "[encoded data removed]",
      "text/plain": [
       "<Figure size 432x288 with 1 Axes>"
      ]
     },
     "metadata": {
      "needs_background": "light"
     },
     "output_type": "display_data"
    }
   ],
   "source": [
    "# Finally let's get the dataset\n",
    "\n",
    "df = pd.read_csv(\"project/input/mnist.csv\")\n",
    "df.target.hist()"
   ]
  },
  {
   "cell_type": "markdown",
   "id": "spectacular-slovenia",
   "metadata": {},
   "source": [
    "Distribution of classes are pretty even, therefore we can safely sample randomly. Following, we generate our train set with folds and test set."
   ]
  },
  {
   "cell_type": "code",
   "execution_count": 30,
   "id": "compact-consistency",
   "metadata": {},
   "outputs": [],
   "source": [
    "df_test = df.iloc[60000:,:] # The last 10,000 samples are used in test set.\n",
    "df_test.to_csv(\"project/input/mnist_test.csv\", index=False)"
   ]
  },
  {
   "cell_type": "code",
   "execution_count": 39,
   "id": "fancy-moscow",
   "metadata": {},
   "outputs": [],
   "source": [
    "df_train = df.iloc[:60000,:] # The first 60,000 samples are used in train set.\n",
    "\n",
    "def create_folds(df, n_splits):\n",
    "    from sklearn.model_selection import StratifiedKFold\n",
    "    df[\"kfold\"] = -1\n",
    "    kStratFold = StratifiedKFold(n_splits=n_splits)\n",
    "\n",
    "    for fold, (train_, val_) in enumerate(kStratFold.split(X=df, y=df.target.values)):\n",
    "        df.loc[val_, \"kfold\"] = fold\n",
    "    return df\n",
    "\n",
    "df_folds = create_folds(df_train, 5)\n",
    "\n",
    "\n",
    "df_folds.to_csv(\"project/input/mnist_train_folds.csv\", index=False)"
   ]
  },
  {
   "cell_type": "markdown",
   "id": "emotional-updating",
   "metadata": {},
   "source": [
    "We have stored our train set with a `kfold` column. What happens when we try to save each fold seperately? Following code demonstrates a `SettingWithCopyWarning` which is easy to overlook and a common perpetrator for causing countless hours of debugging without realizing your processed dataset is not the dataset you are trying to work to begin with.  "
   ]
  },
  {
   "cell_type": "code",
   "execution_count": 91,
   "id": "statutory-margin",
   "metadata": {},
   "outputs": [
    {
     "name": "stderr",
     "output_type": "stream",
     "text": [
      "/home/onur/miniconda3/envs/ml/lib/python3.7/site-packages/pandas/core/frame.py:3997: SettingWithCopyWarning: \n",
      "A value is trying to be set on a copy of a slice from a DataFrame\n",
      "\n",
      "See the caveats in the documentation: https://pandas.pydata.org/pandas-docs/stable/user_guide/indexing.html#returning-a-view-versus-a-copy\n",
      "  errors=errors,\n"
     ]
    }
   ],
   "source": [
    "fold_index = df_train.kfold.unique() # finding folds\n",
    "\n",
    "for fold in fold_index:\n",
    "    index = df_train.kfold == fold\n",
    "    temp = df_train.loc[index,:]\n",
    "    temp.drop(\"kfold\", axis=1, inplace=True)\n",
    "#     temp.to_csv(f\"project/input/mnist_fold{fold}.csv\", index=False)"
   ]
  },
  {
   "cell_type": "markdown",
   "id": "offshore-project",
   "metadata": {},
   "source": [
    "Even though this example is valid and outputs the desired folds, this type of warning is not be ignored. When we are dealing with indexing a dataframe resulting a view instead of new copy, pandas yields unexpected results. Below code shows that `temp` is not a view, but its elements are still references to the original dataframe."
   ]
  },
  {
   "cell_type": "code",
   "execution_count": 92,
   "id": "sonic-progressive",
   "metadata": {},
   "outputs": [
    {
     "data": {
      "text/plain": [
       "(False, <weakref at 0x7f670b0d2230; to 'DataFrame' at 0x7f670bf26750>)"
      ]
     },
     "execution_count": 92,
     "metadata": {},
     "output_type": "execute_result"
    }
   ],
   "source": [
    "temp._is_view, temp._is_copy"
   ]
  },
  {
   "cell_type": "markdown",
   "id": "official-resource",
   "metadata": {},
   "source": [
    "To solve this, we disregard `inplace` parameter and instead we assign a new `temp` every loop iteration. Below code do not ouptuts a warning.  "
   ]
  },
  {
   "cell_type": "code",
   "execution_count": 168,
   "id": "anonymous-wealth",
   "metadata": {},
   "outputs": [
    {
     "name": "stdout",
     "output_type": "stream",
     "text": [
      "(12000, 786)\n",
      "(12000, 785)\n",
      "(12000, 786)\n",
      "(12000, 785)\n",
      "(12000, 786)\n",
      "(12000, 785)\n",
      "(12000, 786)\n",
      "(12000, 785)\n",
      "(12000, 786)\n",
      "(12000, 785)\n"
     ]
    }
   ],
   "source": [
    "fold_index = df_train.kfold.unique() # finding folds\n",
    "\n",
    "for fold in fold_index:\n",
    "    index = df_train.kfold == fold\n",
    "    temp = df_train.loc[index,:]\n",
    "    print(temp.shape)\n",
    "    temp = temp.drop(\"kfold\", axis=1) # Instead of inplace, new dataframe every loop iteration\n",
    "    print(temp.shape)\n",
    "#     temp.drop(\"kfold\", axis=1, inplace=True) \n",
    "#     temp.to_csv(f\"project/input/mnist_fold{fold}.csv\", index=False)"
   ]
  }
 ],
 "metadata": {
  "kernelspec": {
   "display_name": "Python 3",
   "language": "python",
   "name": "python3"
  },
  "language_info": {
   "codemirror_mode": {
    "name": "ipython",
    "version": 3
   },
   "file_extension": ".py",
   "mimetype": "text/x-python",
   "name": "python",
   "nbconvert_exporter": "python",
   "pygments_lexer": "ipython3",
   "version": "3.7.6"
  },
  "toc-autonumbering": false,
  "toc-showmarkdowntxt": true,
  "toc-showtags": false
 },
 "nbformat": 4,
 "nbformat_minor": 5
}
