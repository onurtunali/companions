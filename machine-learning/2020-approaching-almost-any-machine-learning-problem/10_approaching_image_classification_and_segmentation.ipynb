{
 "cells": [
  {
   "cell_type": "markdown",
   "metadata": {
    "id": "XgzPez6jcGpz"
   },
   "source": [
    "# 10. Approaching Image Classification and Segmentation\n",
    "\n"
   ]
  },
  {
   "cell_type": "code",
   "execution_count": 1,
   "metadata": {},
   "outputs": [],
   "source": [
    "import os\n",
    "from dotenv import load_dotenv\n",
    "import matplotlib.pyplot as plt\n",
    "import numpy as np\n",
    "import pandas as pd\n",
    "import seaborn as sns\n",
    "import torch\n",
    "import torch.functional as F\n",
    "import torch.nn as nn\n",
    "from PIL import Image, ImageFile\n",
    "from sklearn import ensemble, metrics, model_selection\n",
    "from tqdm import tqdm\n",
    "\n",
    "load_dotenv()\n",
    "\n",
    "sns.set_theme()\n",
    "\n",
    "M = 0.2 # Sample ratio\n"
   ]
  },
  {
   "cell_type": "markdown",
   "metadata": {},
   "source": [
    "First example is detecting pneumothorax from a given x-ray image. It's skewed dataset meaning there are far more negative samples than negative ones."
   ]
  },
  {
   "cell_type": "code",
   "execution_count": 2,
   "metadata": {},
   "outputs": [],
   "source": [
    "# def create_dataset(training_df, image_dir):\n",
    "#     images = []\n",
    "#     targets = []\n",
    "\n",
    "#     for index, row in tqdm(\n",
    "#         training_df.iterrows(), total=len(training_df), desc=\"Processing images...\"\n",
    "#     ):\n",
    "#         image_id = row[\"ImageId\"]\n",
    "#         image_path = os.path.join(image_dir, image_id)\n",
    "#         image = Image.open(image_path + \".png\")\n",
    "#         image = image.resize((256, 256), resample=Image.BILINEAR)\n",
    "#         image = np.array(image)\n",
    "#         image = image.ravel()\n",
    "#         images.append(image)\n",
    "#         targets.append(int(row[\"target\"]))\n",
    "\n",
    "#     images = np.array(images)\n",
    "#     targets = np.array(targets)\n",
    "#     print(images.shape)\n",
    "#     return images, targets\n",
    "\n",
    "# csv_path = \"data/train.csv\"\n",
    "# image_path = \"data/train_png\"\n",
    "\n",
    "# df = pd.read_csv(csv_path)\n",
    "# df[\"kfold\"] = -1\n",
    "# df = df.sample(frac=M, random_state=42).reset_index(drop=True)\n",
    "# y = df.target.values"
   ]
  },
  {
   "cell_type": "markdown",
   "metadata": {},
   "source": [
    "We load dataset into a numpy array by transversing the directory, however we put a limit to sample size otherwise it would consume too much memory."
   ]
  },
  {
   "cell_type": "code",
   "execution_count": 3,
   "metadata": {},
   "outputs": [],
   "source": [
    "# # Takes a while, run once\n",
    "# try:\n",
    "#     print(f\"Dataset loaded: {X_train.shape}\")\n",
    "# except:\n",
    "#     X_train, y_train = create_dataset(df, image_path)\n"
   ]
  },
  {
   "cell_type": "code",
   "execution_count": 4,
   "metadata": {},
   "outputs": [],
   "source": [
    "# random_forrest = ensemble.RandomForestClassifier(n_jobs=-1)\n",
    "# model_selection.cross_val_score(random_forrest, X_train, y_train, cv=2, n_jobs=-1, scoring=\"roc_auc\")"
   ]
  },
  {
   "cell_type": "markdown",
   "metadata": {},
   "source": [
    "Now we move on to neural network models."
   ]
  },
  {
   "cell_type": "code",
   "execution_count": 5,
   "metadata": {},
   "outputs": [],
   "source": [
    "import torch\n",
    "import torch.nn as nn\n",
    "import torch.functional as F\n",
    "\n",
    "\n",
    "class AlexNet(nn.Module):\n",
    "    def __init__(self):\n",
    "        super(AlexNet, self).__init__()\n",
    "        self.conv1 = nn.Conv2d(\n",
    "            in_channels=3, out_channels=96, kernel_size=11, stride=4, padding=0\n",
    "        )\n",
    "        self.pool1 = nn.MaxPool2d(kernel_size=3, stride=2)\n",
    "        self.conv2 = nn.Conv2d(\n",
    "            in_channels=96, out_channels=256, kernel_size=5, stride=1, padding=2\n",
    "        )\n",
    "        self.pool2 = nn.MaxPool2d(kernel_size=3, stride=2)\n",
    "        self.conv3 = nn.Conv2d(\n",
    "            in_channels=256, out_channels=384, kernel_size=3, stride=1, padding=1\n",
    "        )\n",
    "        self.conv4 = nn.Conv2d(\n",
    "            in_channels=384, out_channels=384, kernel_size=3, stride=1, padding=1\n",
    "        )\n",
    "        self.conv5 = nn.Conv2d(\n",
    "            in_channels=384, out_channels=256, kernel_size=3, stride=1, padding=1\n",
    "        )\n",
    "        self.pool3 = nn.MaxPool2d(kernel_size=3, stride=2)\n",
    "        self.fc1 = nn.Linear(in_features=9216, out_features=4096)\n",
    "        self.dropout1 = nn.Dropout(0.5)\n",
    "        self.fc2 = nn.Linear(in_features=4096, out_features=4096)\n",
    "        self.dropout2 = nn.Dropout(0.5)\n",
    "        self.fc3 = nn.Linear(in_features=4096, out_features=1000)\n",
    "\n",
    "    def forward(self, image):\n",
    "\n",
    "        # original size: (bs, 3, 227, 227)\n",
    "        bs, c, h, w = image.size()\n",
    "        x = F.relu(self.conv1(image))  # size: (bs, 96, 55, 55)\n",
    "        x = self.pool1(x)  # size: (bs, 96, 27, 27)\n",
    "        x = F.relu(self.conv2(x))  # size: (bs, 256, 27, 27)\n",
    "        x = self.pool2(x)  # size: (bs, 256, 13, 13)\n",
    "        x = F.relu(self.conv3(x))  # size: (bs, 384, 13, 13)\n",
    "        x = F.relu(self.conv4(x))  # size: (bs, 384, 13, 13)\n",
    "        x = F.relu(self.conv5(x))  # size: (bs, 256, 13, 13)\n",
    "        x = self.pool3(x)  # size: (bs, 256, 6, 6)\n",
    "        x = x.view(bs, -1)  # size: (bs, 9216)\n",
    "        x = F.relu(self.fc1(x))  # size: (bs, 4096)\n",
    "        x = self.dropout1(x)  # size: (bs, 4096)\n",
    "        # dropout does not change size\n",
    "        # dropout is used for regularization\n",
    "        # 0.3 dropout means that only 70% of the nodes\n",
    "        # of the current layer are used for the next layer\n",
    "        x = F.relu(self.fc2(x))  # size: (bs, 4096)\n",
    "        x = self.dropout2(x)  # size: (bs, 4096)\n",
    "        x = F.relu(self.fc3(x))  # size: (bs, 1000)\n",
    "        # 1000 is number of classes in ImageNet Dataset\n",
    "        # softmax is an activation function that converts\n",
    "        # linear output to probabilities that add up to 1\n",
    "        x = torch.softmax(x, axis=1)\n",
    "        return x\n"
   ]
  },
  {
   "cell_type": "markdown",
   "metadata": {},
   "source": [
    "dataset.py"
   ]
  },
  {
   "cell_type": "code",
   "execution_count": 6,
   "metadata": {},
   "outputs": [],
   "source": [
    "import torch\n",
    "import numpy as np\n",
    "from PIL import Image\n",
    "from PIL import ImageFile\n",
    "\n",
    "ImageFile.LOAD_TRUNCATED_IMAGES = True\n",
    "\n",
    "\n",
    "class ClassificationDataset:\n",
    "    def __init__(self, image_paths, targets, resize=None, augmentations=None):\n",
    "        self.image_paths = image_paths\n",
    "        self.targets = targets\n",
    "        self.resize = resize\n",
    "        self.augmentations = augmentations\n",
    "\n",
    "    def __len__(self):\n",
    "        return len(self.image_paths)\n",
    "\n",
    "    def __getitem__(self, item):\n",
    "        image = Image.open(self.image_paths[item])\n",
    "        image = image.convert(\"RGB\")\n",
    "        targets = self.targets[item]\n",
    "\n",
    "        if self.resize is not None:\n",
    "            image = image.resize(\n",
    "                (self.resize[1], self.resize[0]), resample=Image.BILINEAR\n",
    "            )\n",
    "\n",
    "        image = np.array(image)\n",
    "\n",
    "        if self.augmentations is not None:\n",
    "            augmented = self.augmentations(image=image)\n",
    "            image = augmented[\"image\"]\n",
    "\n",
    "        image = np.transpose(image, (2, 0, 1)).astype(np.float32) # HWC\n",
    "\n",
    "        return {\n",
    "            \"image\": torch.tensor(image, dtype=torch.float),\n",
    "            \"targets\": torch.tensor(targets, dtype=torch.long),\n",
    "        }\n",
    "\n"
   ]
  },
  {
   "cell_type": "markdown",
   "metadata": {},
   "source": [
    "engine.py"
   ]
  },
  {
   "cell_type": "code",
   "execution_count": 7,
   "metadata": {},
   "outputs": [],
   "source": [
    "import torch\n",
    "import torch.nn as nn\n",
    "from tqdm import tqdm\n",
    "\n",
    "\n",
    "def train(data_loader, model, optimizer, device):\n",
    "    model.train()\n",
    "    for data in data_loader:\n",
    "        inputs = data[\"image\"]\n",
    "        targets = data[\"targets\"]\n",
    "\n",
    "        inputs = inputs.to(device, dtype=torch.float)\n",
    "        targets = targets.to(device, dtype=torch.float)\n",
    "\n",
    "        optimizer.zero_grad()\n",
    "        outputs = model(inputs)\n",
    "\n",
    "        loss = nn.BCEWithLogitsLoss()(outputs, targets.view(-1, 1))\n",
    "        loss.backward()\n",
    "        optimizer.step()\n",
    "        # Here scheduler\n",
    "\n",
    "\n",
    "def evaluate(data_loader, model, device):\n",
    "    model.eval()\n",
    "    final_targets = []\n",
    "    final_outputs = []\n",
    "\n",
    "    with torch.no_grad():\n",
    "        for data in data_loader:\n",
    "            inputs = data[\"image\"]\n",
    "            targets = data[\"targets\"]\n",
    "            inputs = inputs.to(device, dtype=torch.float)\n",
    "            targets = targets.to(device, dtype=torch.float)\n",
    "\n",
    "            output = model(inputs)\n",
    "            targets = targets.detach().cpu().numpy().tolist()\n",
    "            output = output.detach().cpu().numpy().tolist()\n",
    "            final_targets.extend(targets)\n",
    "            final_outputs.extend(output)\n",
    "\n",
    "    return final_outputs, final_targets\n"
   ]
  },
  {
   "cell_type": "markdown",
   "metadata": {},
   "source": [
    "model.py"
   ]
  },
  {
   "cell_type": "code",
   "execution_count": 8,
   "metadata": {},
   "outputs": [],
   "source": [
    "import torch.nn as nn\n",
    "import pretrainedmodels\n",
    "\n",
    "\n",
    "def get_model(pretrained):\n",
    "    if pretrained:\n",
    "        model = pretrainedmodels.__dict__[\"alexnet\"](pretrained=\"imagenet\")\n",
    "    else:\n",
    "        model = pretrainedmodels.__dict__[\"alexnet\"](pretrained=None)\n",
    "        \n",
    "    model.last_linear = nn.Sequential(\n",
    "        nn.BatchNorm1d(4096),\n",
    "        nn.Dropout(p=0.25),\n",
    "        nn.Linear(in_features=4096, out_features=2048),\n",
    "        nn.ReLU(),\n",
    "        nn.BatchNorm1d(2048, eps=1e-05, momentum=0.1),\n",
    "        nn.Dropout(p=0.5),\n",
    "        nn.Linear(in_features=2048, out_features=1),\n",
    "    )\n",
    "    return model"
   ]
  },
  {
   "cell_type": "markdown",
   "metadata": {},
   "source": [
    "train.py"
   ]
  },
  {
   "cell_type": "code",
   "execution_count": 9,
   "metadata": {},
   "outputs": [
    {
     "name": "stdout",
     "output_type": "stream",
     "text": [
      "data/train_png/1.2.276.0.7230010.3.1.4.8323329.10773.1517875225.585811.png 32\n"
     ]
    },
    {
     "ename": "RuntimeError",
     "evalue": "Input type (torch.cuda.HalfTensor) and weight type (torch.cuda.FloatTensor) should be the same",
     "output_type": "error",
     "traceback": [
      "\u001b[0;31m---------------------------------------------------------------------------\u001b[0m",
      "\u001b[0;31mRuntimeError\u001b[0m                              Traceback (most recent call last)",
      "\u001b[1;32m/home/onur/companions/aaamlp/10_approaching_image_classification_and_segmentation.ipynb Cell 17'\u001b[0m in \u001b[0;36m<cell line: 48>\u001b[0;34m()\u001b[0m\n\u001b[1;32m     <a href='vscode-notebook-cell:/home/onur/companions/aaamlp/10_approaching_image_classification_and_segmentation.ipynb#ch0000016?line=44'>45</a>\u001b[0m optimizer \u001b[39m=\u001b[39m torch\u001b[39m.\u001b[39moptim\u001b[39m.\u001b[39mAdam(model\u001b[39m.\u001b[39mparameters(), lr\u001b[39m=\u001b[39m\u001b[39m5e-4\u001b[39m)\n\u001b[1;32m     <a href='vscode-notebook-cell:/home/onur/companions/aaamlp/10_approaching_image_classification_and_segmentation.ipynb#ch0000016?line=47'>48</a>\u001b[0m \u001b[39mfor\u001b[39;00m epoch \u001b[39min\u001b[39;00m \u001b[39mrange\u001b[39m(EPOCHS):\n\u001b[0;32m---> <a href='vscode-notebook-cell:/home/onur/companions/aaamlp/10_approaching_image_classification_and_segmentation.ipynb#ch0000016?line=48'>49</a>\u001b[0m     train(train_loader, model, optimizer, device\u001b[39m=\u001b[39;49mdevice)\n\u001b[1;32m     <a href='vscode-notebook-cell:/home/onur/companions/aaamlp/10_approaching_image_classification_and_segmentation.ipynb#ch0000016?line=49'>50</a>\u001b[0m     predictions, valid_targets \u001b[39m=\u001b[39m evaluate(valid_loader, model, device\u001b[39m=\u001b[39mdevice)\n\u001b[1;32m     <a href='vscode-notebook-cell:/home/onur/companions/aaamlp/10_approaching_image_classification_and_segmentation.ipynb#ch0000016?line=50'>51</a>\u001b[0m     roc_auc \u001b[39m=\u001b[39m metrics\u001b[39m.\u001b[39mroc_auc_score(valid_targets, predictions)\n",
      "\u001b[1;32m/home/onur/companions/aaamlp/10_approaching_image_classification_and_segmentation.ipynb Cell 13'\u001b[0m in \u001b[0;36mtrain\u001b[0;34m(data_loader, model, optimizer, device)\u001b[0m\n\u001b[1;32m     <a href='vscode-notebook-cell:/home/onur/companions/aaamlp/10_approaching_image_classification_and_segmentation.ipynb#ch0000012?line=12'>13</a>\u001b[0m targets \u001b[39m=\u001b[39m targets\u001b[39m.\u001b[39mto(device, dtype\u001b[39m=\u001b[39mtorch\u001b[39m.\u001b[39mfloat16)\n\u001b[1;32m     <a href='vscode-notebook-cell:/home/onur/companions/aaamlp/10_approaching_image_classification_and_segmentation.ipynb#ch0000012?line=14'>15</a>\u001b[0m optimizer\u001b[39m.\u001b[39mzero_grad()\n\u001b[0;32m---> <a href='vscode-notebook-cell:/home/onur/companions/aaamlp/10_approaching_image_classification_and_segmentation.ipynb#ch0000012?line=15'>16</a>\u001b[0m outputs \u001b[39m=\u001b[39m model(inputs)\n\u001b[1;32m     <a href='vscode-notebook-cell:/home/onur/companions/aaamlp/10_approaching_image_classification_and_segmentation.ipynb#ch0000012?line=17'>18</a>\u001b[0m loss \u001b[39m=\u001b[39m nn\u001b[39m.\u001b[39mBCEWithLogitsLoss()(outputs, targets\u001b[39m.\u001b[39mview(\u001b[39m-\u001b[39m\u001b[39m1\u001b[39m, \u001b[39m1\u001b[39m))\n\u001b[1;32m     <a href='vscode-notebook-cell:/home/onur/companions/aaamlp/10_approaching_image_classification_and_segmentation.ipynb#ch0000012?line=18'>19</a>\u001b[0m loss\u001b[39m.\u001b[39mbackward()\n",
      "File \u001b[0;32m~/companions/aaamlp/venv/lib/python3.8/site-packages/torch/nn/modules/module.py:1102\u001b[0m, in \u001b[0;36mModule._call_impl\u001b[0;34m(self, *input, **kwargs)\u001b[0m\n\u001b[1;32m   <a href='file:///home/onur/companions/aaamlp/venv/lib/python3.8/site-packages/torch/nn/modules/module.py?line=1097'>1098</a>\u001b[0m \u001b[39m# If we don't have any hooks, we want to skip the rest of the logic in\u001b[39;00m\n\u001b[1;32m   <a href='file:///home/onur/companions/aaamlp/venv/lib/python3.8/site-packages/torch/nn/modules/module.py?line=1098'>1099</a>\u001b[0m \u001b[39m# this function, and just call forward.\u001b[39;00m\n\u001b[1;32m   <a href='file:///home/onur/companions/aaamlp/venv/lib/python3.8/site-packages/torch/nn/modules/module.py?line=1099'>1100</a>\u001b[0m \u001b[39mif\u001b[39;00m \u001b[39mnot\u001b[39;00m (\u001b[39mself\u001b[39m\u001b[39m.\u001b[39m_backward_hooks \u001b[39mor\u001b[39;00m \u001b[39mself\u001b[39m\u001b[39m.\u001b[39m_forward_hooks \u001b[39mor\u001b[39;00m \u001b[39mself\u001b[39m\u001b[39m.\u001b[39m_forward_pre_hooks \u001b[39mor\u001b[39;00m _global_backward_hooks\n\u001b[1;32m   <a href='file:///home/onur/companions/aaamlp/venv/lib/python3.8/site-packages/torch/nn/modules/module.py?line=1100'>1101</a>\u001b[0m         \u001b[39mor\u001b[39;00m _global_forward_hooks \u001b[39mor\u001b[39;00m _global_forward_pre_hooks):\n\u001b[0;32m-> <a href='file:///home/onur/companions/aaamlp/venv/lib/python3.8/site-packages/torch/nn/modules/module.py?line=1101'>1102</a>\u001b[0m     \u001b[39mreturn\u001b[39;00m forward_call(\u001b[39m*\u001b[39;49m\u001b[39minput\u001b[39;49m, \u001b[39m*\u001b[39;49m\u001b[39m*\u001b[39;49mkwargs)\n\u001b[1;32m   <a href='file:///home/onur/companions/aaamlp/venv/lib/python3.8/site-packages/torch/nn/modules/module.py?line=1102'>1103</a>\u001b[0m \u001b[39m# Do not call functions when jit is used\u001b[39;00m\n\u001b[1;32m   <a href='file:///home/onur/companions/aaamlp/venv/lib/python3.8/site-packages/torch/nn/modules/module.py?line=1103'>1104</a>\u001b[0m full_backward_hooks, non_full_backward_hooks \u001b[39m=\u001b[39m [], []\n",
      "File \u001b[0;32m~/companions/aaamlp/venv/lib/python3.8/site-packages/pretrainedmodels/models/torchvision_models.py:160\u001b[0m, in \u001b[0;36mmodify_alexnet.<locals>.forward\u001b[0;34m(self, input)\u001b[0m\n\u001b[1;32m    <a href='file:///home/onur/companions/aaamlp/venv/lib/python3.8/site-packages/pretrainedmodels/models/torchvision_models.py?line=158'>159</a>\u001b[0m \u001b[39mdef\u001b[39;00m \u001b[39mforward\u001b[39m(\u001b[39mself\u001b[39m, \u001b[39minput\u001b[39m):\n\u001b[0;32m--> <a href='file:///home/onur/companions/aaamlp/venv/lib/python3.8/site-packages/pretrainedmodels/models/torchvision_models.py?line=159'>160</a>\u001b[0m     x \u001b[39m=\u001b[39m \u001b[39mself\u001b[39;49m\u001b[39m.\u001b[39;49mfeatures(\u001b[39minput\u001b[39;49m)\n\u001b[1;32m    <a href='file:///home/onur/companions/aaamlp/venv/lib/python3.8/site-packages/pretrainedmodels/models/torchvision_models.py?line=160'>161</a>\u001b[0m     x \u001b[39m=\u001b[39m \u001b[39mself\u001b[39m\u001b[39m.\u001b[39mlogits(x)\n\u001b[1;32m    <a href='file:///home/onur/companions/aaamlp/venv/lib/python3.8/site-packages/pretrainedmodels/models/torchvision_models.py?line=161'>162</a>\u001b[0m     \u001b[39mreturn\u001b[39;00m x\n",
      "File \u001b[0;32m~/companions/aaamlp/venv/lib/python3.8/site-packages/pretrainedmodels/models/torchvision_models.py:145\u001b[0m, in \u001b[0;36mmodify_alexnet.<locals>.features\u001b[0;34m(self, input)\u001b[0m\n\u001b[1;32m    <a href='file:///home/onur/companions/aaamlp/venv/lib/python3.8/site-packages/pretrainedmodels/models/torchvision_models.py?line=143'>144</a>\u001b[0m \u001b[39mdef\u001b[39;00m \u001b[39mfeatures\u001b[39m(\u001b[39mself\u001b[39m, \u001b[39minput\u001b[39m):\n\u001b[0;32m--> <a href='file:///home/onur/companions/aaamlp/venv/lib/python3.8/site-packages/pretrainedmodels/models/torchvision_models.py?line=144'>145</a>\u001b[0m     x \u001b[39m=\u001b[39m \u001b[39mself\u001b[39;49m\u001b[39m.\u001b[39;49m_features(\u001b[39minput\u001b[39;49m)\n\u001b[1;32m    <a href='file:///home/onur/companions/aaamlp/venv/lib/python3.8/site-packages/pretrainedmodels/models/torchvision_models.py?line=145'>146</a>\u001b[0m     x \u001b[39m=\u001b[39m x\u001b[39m.\u001b[39mview(x\u001b[39m.\u001b[39msize(\u001b[39m0\u001b[39m), \u001b[39m256\u001b[39m \u001b[39m*\u001b[39m \u001b[39m6\u001b[39m \u001b[39m*\u001b[39m \u001b[39m6\u001b[39m)\n\u001b[1;32m    <a href='file:///home/onur/companions/aaamlp/venv/lib/python3.8/site-packages/pretrainedmodels/models/torchvision_models.py?line=146'>147</a>\u001b[0m     x \u001b[39m=\u001b[39m \u001b[39mself\u001b[39m\u001b[39m.\u001b[39mdropout0(x)\n",
      "File \u001b[0;32m~/companions/aaamlp/venv/lib/python3.8/site-packages/torch/nn/modules/module.py:1102\u001b[0m, in \u001b[0;36mModule._call_impl\u001b[0;34m(self, *input, **kwargs)\u001b[0m\n\u001b[1;32m   <a href='file:///home/onur/companions/aaamlp/venv/lib/python3.8/site-packages/torch/nn/modules/module.py?line=1097'>1098</a>\u001b[0m \u001b[39m# If we don't have any hooks, we want to skip the rest of the logic in\u001b[39;00m\n\u001b[1;32m   <a href='file:///home/onur/companions/aaamlp/venv/lib/python3.8/site-packages/torch/nn/modules/module.py?line=1098'>1099</a>\u001b[0m \u001b[39m# this function, and just call forward.\u001b[39;00m\n\u001b[1;32m   <a href='file:///home/onur/companions/aaamlp/venv/lib/python3.8/site-packages/torch/nn/modules/module.py?line=1099'>1100</a>\u001b[0m \u001b[39mif\u001b[39;00m \u001b[39mnot\u001b[39;00m (\u001b[39mself\u001b[39m\u001b[39m.\u001b[39m_backward_hooks \u001b[39mor\u001b[39;00m \u001b[39mself\u001b[39m\u001b[39m.\u001b[39m_forward_hooks \u001b[39mor\u001b[39;00m \u001b[39mself\u001b[39m\u001b[39m.\u001b[39m_forward_pre_hooks \u001b[39mor\u001b[39;00m _global_backward_hooks\n\u001b[1;32m   <a href='file:///home/onur/companions/aaamlp/venv/lib/python3.8/site-packages/torch/nn/modules/module.py?line=1100'>1101</a>\u001b[0m         \u001b[39mor\u001b[39;00m _global_forward_hooks \u001b[39mor\u001b[39;00m _global_forward_pre_hooks):\n\u001b[0;32m-> <a href='file:///home/onur/companions/aaamlp/venv/lib/python3.8/site-packages/torch/nn/modules/module.py?line=1101'>1102</a>\u001b[0m     \u001b[39mreturn\u001b[39;00m forward_call(\u001b[39m*\u001b[39;49m\u001b[39minput\u001b[39;49m, \u001b[39m*\u001b[39;49m\u001b[39m*\u001b[39;49mkwargs)\n\u001b[1;32m   <a href='file:///home/onur/companions/aaamlp/venv/lib/python3.8/site-packages/torch/nn/modules/module.py?line=1102'>1103</a>\u001b[0m \u001b[39m# Do not call functions when jit is used\u001b[39;00m\n\u001b[1;32m   <a href='file:///home/onur/companions/aaamlp/venv/lib/python3.8/site-packages/torch/nn/modules/module.py?line=1103'>1104</a>\u001b[0m full_backward_hooks, non_full_backward_hooks \u001b[39m=\u001b[39m [], []\n",
      "File \u001b[0;32m~/companions/aaamlp/venv/lib/python3.8/site-packages/torch/nn/modules/container.py:141\u001b[0m, in \u001b[0;36mSequential.forward\u001b[0;34m(self, input)\u001b[0m\n\u001b[1;32m    <a href='file:///home/onur/companions/aaamlp/venv/lib/python3.8/site-packages/torch/nn/modules/container.py?line=138'>139</a>\u001b[0m \u001b[39mdef\u001b[39;00m \u001b[39mforward\u001b[39m(\u001b[39mself\u001b[39m, \u001b[39minput\u001b[39m):\n\u001b[1;32m    <a href='file:///home/onur/companions/aaamlp/venv/lib/python3.8/site-packages/torch/nn/modules/container.py?line=139'>140</a>\u001b[0m     \u001b[39mfor\u001b[39;00m module \u001b[39min\u001b[39;00m \u001b[39mself\u001b[39m:\n\u001b[0;32m--> <a href='file:///home/onur/companions/aaamlp/venv/lib/python3.8/site-packages/torch/nn/modules/container.py?line=140'>141</a>\u001b[0m         \u001b[39minput\u001b[39m \u001b[39m=\u001b[39m module(\u001b[39minput\u001b[39;49m)\n\u001b[1;32m    <a href='file:///home/onur/companions/aaamlp/venv/lib/python3.8/site-packages/torch/nn/modules/container.py?line=141'>142</a>\u001b[0m     \u001b[39mreturn\u001b[39;00m \u001b[39minput\u001b[39m\n",
      "File \u001b[0;32m~/companions/aaamlp/venv/lib/python3.8/site-packages/torch/nn/modules/module.py:1102\u001b[0m, in \u001b[0;36mModule._call_impl\u001b[0;34m(self, *input, **kwargs)\u001b[0m\n\u001b[1;32m   <a href='file:///home/onur/companions/aaamlp/venv/lib/python3.8/site-packages/torch/nn/modules/module.py?line=1097'>1098</a>\u001b[0m \u001b[39m# If we don't have any hooks, we want to skip the rest of the logic in\u001b[39;00m\n\u001b[1;32m   <a href='file:///home/onur/companions/aaamlp/venv/lib/python3.8/site-packages/torch/nn/modules/module.py?line=1098'>1099</a>\u001b[0m \u001b[39m# this function, and just call forward.\u001b[39;00m\n\u001b[1;32m   <a href='file:///home/onur/companions/aaamlp/venv/lib/python3.8/site-packages/torch/nn/modules/module.py?line=1099'>1100</a>\u001b[0m \u001b[39mif\u001b[39;00m \u001b[39mnot\u001b[39;00m (\u001b[39mself\u001b[39m\u001b[39m.\u001b[39m_backward_hooks \u001b[39mor\u001b[39;00m \u001b[39mself\u001b[39m\u001b[39m.\u001b[39m_forward_hooks \u001b[39mor\u001b[39;00m \u001b[39mself\u001b[39m\u001b[39m.\u001b[39m_forward_pre_hooks \u001b[39mor\u001b[39;00m _global_backward_hooks\n\u001b[1;32m   <a href='file:///home/onur/companions/aaamlp/venv/lib/python3.8/site-packages/torch/nn/modules/module.py?line=1100'>1101</a>\u001b[0m         \u001b[39mor\u001b[39;00m _global_forward_hooks \u001b[39mor\u001b[39;00m _global_forward_pre_hooks):\n\u001b[0;32m-> <a href='file:///home/onur/companions/aaamlp/venv/lib/python3.8/site-packages/torch/nn/modules/module.py?line=1101'>1102</a>\u001b[0m     \u001b[39mreturn\u001b[39;00m forward_call(\u001b[39m*\u001b[39;49m\u001b[39minput\u001b[39;49m, \u001b[39m*\u001b[39;49m\u001b[39m*\u001b[39;49mkwargs)\n\u001b[1;32m   <a href='file:///home/onur/companions/aaamlp/venv/lib/python3.8/site-packages/torch/nn/modules/module.py?line=1102'>1103</a>\u001b[0m \u001b[39m# Do not call functions when jit is used\u001b[39;00m\n\u001b[1;32m   <a href='file:///home/onur/companions/aaamlp/venv/lib/python3.8/site-packages/torch/nn/modules/module.py?line=1103'>1104</a>\u001b[0m full_backward_hooks, non_full_backward_hooks \u001b[39m=\u001b[39m [], []\n",
      "File \u001b[0;32m~/companions/aaamlp/venv/lib/python3.8/site-packages/torch/nn/modules/conv.py:446\u001b[0m, in \u001b[0;36mConv2d.forward\u001b[0;34m(self, input)\u001b[0m\n\u001b[1;32m    <a href='file:///home/onur/companions/aaamlp/venv/lib/python3.8/site-packages/torch/nn/modules/conv.py?line=444'>445</a>\u001b[0m \u001b[39mdef\u001b[39;00m \u001b[39mforward\u001b[39m(\u001b[39mself\u001b[39m, \u001b[39minput\u001b[39m: Tensor) \u001b[39m-\u001b[39m\u001b[39m>\u001b[39m Tensor:\n\u001b[0;32m--> <a href='file:///home/onur/companions/aaamlp/venv/lib/python3.8/site-packages/torch/nn/modules/conv.py?line=445'>446</a>\u001b[0m     \u001b[39mreturn\u001b[39;00m \u001b[39mself\u001b[39;49m\u001b[39m.\u001b[39;49m_conv_forward(\u001b[39minput\u001b[39;49m, \u001b[39mself\u001b[39;49m\u001b[39m.\u001b[39;49mweight, \u001b[39mself\u001b[39;49m\u001b[39m.\u001b[39;49mbias)\n",
      "File \u001b[0;32m~/companions/aaamlp/venv/lib/python3.8/site-packages/torch/nn/modules/conv.py:442\u001b[0m, in \u001b[0;36mConv2d._conv_forward\u001b[0;34m(self, input, weight, bias)\u001b[0m\n\u001b[1;32m    <a href='file:///home/onur/companions/aaamlp/venv/lib/python3.8/site-packages/torch/nn/modules/conv.py?line=437'>438</a>\u001b[0m \u001b[39mif\u001b[39;00m \u001b[39mself\u001b[39m\u001b[39m.\u001b[39mpadding_mode \u001b[39m!=\u001b[39m \u001b[39m'\u001b[39m\u001b[39mzeros\u001b[39m\u001b[39m'\u001b[39m:\n\u001b[1;32m    <a href='file:///home/onur/companions/aaamlp/venv/lib/python3.8/site-packages/torch/nn/modules/conv.py?line=438'>439</a>\u001b[0m     \u001b[39mreturn\u001b[39;00m F\u001b[39m.\u001b[39mconv2d(F\u001b[39m.\u001b[39mpad(\u001b[39minput\u001b[39m, \u001b[39mself\u001b[39m\u001b[39m.\u001b[39m_reversed_padding_repeated_twice, mode\u001b[39m=\u001b[39m\u001b[39mself\u001b[39m\u001b[39m.\u001b[39mpadding_mode),\n\u001b[1;32m    <a href='file:///home/onur/companions/aaamlp/venv/lib/python3.8/site-packages/torch/nn/modules/conv.py?line=439'>440</a>\u001b[0m                     weight, bias, \u001b[39mself\u001b[39m\u001b[39m.\u001b[39mstride,\n\u001b[1;32m    <a href='file:///home/onur/companions/aaamlp/venv/lib/python3.8/site-packages/torch/nn/modules/conv.py?line=440'>441</a>\u001b[0m                     _pair(\u001b[39m0\u001b[39m), \u001b[39mself\u001b[39m\u001b[39m.\u001b[39mdilation, \u001b[39mself\u001b[39m\u001b[39m.\u001b[39mgroups)\n\u001b[0;32m--> <a href='file:///home/onur/companions/aaamlp/venv/lib/python3.8/site-packages/torch/nn/modules/conv.py?line=441'>442</a>\u001b[0m \u001b[39mreturn\u001b[39;00m F\u001b[39m.\u001b[39;49mconv2d(\u001b[39minput\u001b[39;49m, weight, bias, \u001b[39mself\u001b[39;49m\u001b[39m.\u001b[39;49mstride,\n\u001b[1;32m    <a href='file:///home/onur/companions/aaamlp/venv/lib/python3.8/site-packages/torch/nn/modules/conv.py?line=442'>443</a>\u001b[0m                 \u001b[39mself\u001b[39;49m\u001b[39m.\u001b[39;49mpadding, \u001b[39mself\u001b[39;49m\u001b[39m.\u001b[39;49mdilation, \u001b[39mself\u001b[39;49m\u001b[39m.\u001b[39;49mgroups)\n",
      "\u001b[0;31mRuntimeError\u001b[0m: Input type (torch.cuda.HalfTensor) and weight type (torch.cuda.FloatTensor) should be the same"
     ]
    }
   ],
   "source": [
    "import os\n",
    "\n",
    "import albumentations\n",
    "import numpy as np\n",
    "import pandas as pd\n",
    "import torch\n",
    "from sklearn import metrics\n",
    "from sklearn.model_selection import train_test_split\n",
    "\n",
    " import torch\n",
    " torch.cuda.empty_cache()\n",
    "\n",
    "data_path = \"data\"\n",
    "device = \"cuda\" if torch.cuda.is_available() else \"cpu\"\n",
    "\n",
    "EPOCHS = 1\n",
    "df = pd.read_csv(os.path.join(data_path, \"train.csv\")).sample(frac=0.05).reset_index(drop=True)\n",
    "images = df.ImageId.values.tolist()\n",
    "\n",
    "images = [os.path.join(data_path, \"train_png\", i + \".png\") for i in images]\n",
    "\n",
    "# image example and length\n",
    "print(images[0], len(images))\n",
    "\n",
    "targets = df.target.values\n",
    "model = get_model(pretrained=True)\n",
    "model.to(device)\n",
    "\n",
    "mean = (0.485, 0.456, 0.406)\n",
    "std = (0.229, 0.224, 0.225)\n",
    "\n",
    "aug = albumentations.Compose(\n",
    "    [albumentations.Normalize(mean, std, max_pixel_value=255.0, always_apply=True)]\n",
    ")\n",
    "train_images, valid_images, train_targets, valid_targets = train_test_split(\n",
    "    images, targets, stratify=targets, random_state=42\n",
    ")\n",
    "\n",
    "train_dataset = ClassificationDataset(image_paths=train_images,targets=train_targets,resize=(227,227),augmentations=aug)\n",
    "train_loader = torch.utils.data.DataLoader(train_dataset, batch_size=2, shuffle=True, num_workers=4)\n",
    "\n",
    "valid_dataset = ClassificationDataset(image_paths=valid_images, targets=valid_targets, resize=(227, 227), augmentations=aug)\n",
    "valid_loader = torch.utils.data.DataLoader(valid_dataset, batch_size=2, shuffle=False, num_workers=4)\n",
    "\n",
    "optimizer = torch.optim.Adam(model.parameters(), lr=5e-4)\n",
    "\n",
    "\n",
    "for epoch in range(EPOCHS):\n",
    "    train(train_loader, model, optimizer, device=device)\n",
    "    predictions, valid_targets = evaluate(valid_loader, model, device=device)\n",
    "    roc_auc = metrics.roc_auc_score(valid_targets, predictions)\n",
    "    print(f\"Epoch={epoch}, Valid ROC AUC={roc_auc}\")\n"
   ]
  },
  {
   "cell_type": "code",
   "execution_count": null,
   "metadata": {},
   "outputs": [
    {
     "data": {
      "text/plain": [
       "21"
      ]
     },
     "execution_count": 11,
     "metadata": {},
     "output_type": "execute_result"
    }
   ],
   "source": [
    "len(images)"
   ]
  }
 ],
 "metadata": {
  "colab": {
   "collapsed_sections": [],
   "name": "9_approaching_image_classification_and_segmentation.ipynb",
   "provenance": []
  },
  "kernelspec": {
   "display_name": "Python 3",
   "language": "python",
   "name": "python3"
  },
  "language_info": {
   "codemirror_mode": {
    "name": "ipython",
    "version": 3
   },
   "file_extension": ".py",
   "mimetype": "text/x-python",
   "name": "python",
   "nbconvert_exporter": "python",
   "pygments_lexer": "ipython3",
   "version": "3.8.12"
  }
 },
 "nbformat": 4,
 "nbformat_minor": 4
}
