{
 "cells": [
  {
   "cell_type": "markdown",
   "id": "cognitive-blink",
   "metadata": {},
   "source": [
    "# Evaluation Metrics\n",
    "\n",
    "Evaluation metrics are used to measure model performance and shouldn't be confused with loss functions. Metrics are related to our target or task indicating our expectations. Loss functions are used for optimization process of model learning and generally they are differentiable. For example cross entropy loss is differentiable but accuracy is not."
   ]
  },
  {
   "cell_type": "code",
   "execution_count": 2,
   "id": "continental-huntington",
   "metadata": {},
   "outputs": [],
   "source": [
    "import importlib\n",
    "import numpy as np\n",
    "import matplotlib as mpl\n",
    "import matplotlib.pyplot as plt\n",
    "import pandas as pd\n",
    "import seaborn as sns\n",
    "\n",
    "# Precatuion in case content of utilities is changed and\n",
    "# need to be reloaded\n",
    "import utilities\n",
    "importlib.reload(utilities)\n",
    "from utilities import create_folds\n",
    "\n",
    "sns.set_theme()"
   ]
  },
  {
   "cell_type": "markdown",
   "id": "engaged-wages",
   "metadata": {},
   "source": [
    "Most common evaluation metrics for classification and regression are as follows:\n",
    "\n",
    "| Classification | Regression |\n",
    "|:--|:--|\n",
    "| Accuracy | Mean absolute error (MAE) |\n",
    "| Precision (P) |  Mean squared error (MSE)|\n",
    "| Recall (R) |  Root mean squared error (RMSE)|\n",
    "| F1 score (F1)| Root mean squared logarithmic error (RMSLE)\n",
    "| Area under the ROC curve or simply (AUC)| Mean percentage error (MPE)\n",
    "| Log loss| Mean absolute percentage error (MAPE)|\n",
    "||$R^{2}$ |\n",
    "|**Multi-label Classification**| |\n",
    "| Precision at k (P@k)|  |\n",
    "| Average precision at k (AP@k)| |\n",
    "| Mean average precision at k (MAP@k)|| \n",
    "\n",
    "Most metrics are self explanatory except $R^{2}$. This metric is called Coefficient of determination and measures goodness of fit of a model.\n"
   ]
  },
  {
   "cell_type": "markdown",
   "id": "elder-andrew",
   "metadata": {},
   "source": [
    "### Classification of Predictions\n",
    "\n",
    "Using a fine-grained terminology for our predictions helps to construct and analyze our results.\n",
    "\n",
    "|| Classification of Prediction Results||\n",
    "|:---|:---|:---|\n",
    "|**Actual**|**Prediciton**| **Term** |\n",
    "|Positive | Positive | True Positive (**TP**) |\n",
    "|Positive | Negative | False Negative (**FN**) |\n",
    "|Negative | Negative | True Negative (**TN**) |\n",
    "|Negative | Positive | False Negative (**FN**) |\n",
    "\n",
    "**Precision:** How precise your prediction is. Meaning, percentage of true positive predictions amongst all the positive predictions:\n",
    "$$\\text{Precision } = \\frac{TP}{TP + FP}$$\n",
    "\n",
    "**Recall (Sensitivity, True Positive Rate (TPR)):** How much of the actual positives your predictions cover. Meaning, percentage of true positive predictions amongst all the actual positives.\n",
    "$$\\text{Recall } = \\frac{TP}{TP + FN}$$\n",
    "\n",
    "![](fig/precision_recall_CC_BY_SA_4.0.png)\n",
    "\n",
    "**Fig 1**: Visualization of precision and recall (License: [CC-BY-SA-4.0](https://commons.wikimedia.org/wiki/File:Precisionrecall.svg))\n",
    "\n",
    "**F1 score:** Harmonic mean of precision and recall. A better metric when class distribution is skewed:\n",
    "\n",
    "$$\\text{F1 } = \\frac{2}{\\frac{1}{P} + \\frac{1}{R}} = \\frac{2PR}{P + R}$$\n",
    "\n",
    "- If the threshold is too high, then you will have a few true positives (**TP**) and many false negatives (**FN**).\n",
    "\n",
    "- Predictions and threshold values are changed because the ones in the book were little unreasonable."
   ]
  },
  {
   "cell_type": "code",
   "execution_count": 3,
   "id": "hazardous-glasgow",
   "metadata": {},
   "outputs": [
    {
     "data": {
      "image/png": "[encoded data removed]",
      "text/plain": [
       "<Figure size 432x432 with 2 Axes>"
      ]
     },
     "metadata": {},
     "output_type": "display_data"
    },
    {
     "data": {
      "text/html": [
       "<div>\n",
       "<style scoped>\n",
       "    .dataframe tbody tr th:only-of-type {\n",
       "        vertical-align: middle;\n",
       "    }\n",
       "\n",
       "    .dataframe tbody tr th {\n",
       "        vertical-align: top;\n",
       "    }\n",
       "\n",
       "    .dataframe thead th {\n",
       "        text-align: right;\n",
       "    }\n",
       "</style>\n",
       "<table border=\"1\" class=\"dataframe\">\n",
       "  <thead>\n",
       "    <tr style=\"text-align: right;\">\n",
       "      <th></th>\n",
       "      <th>Threshold</th>\n",
       "      <th>TN</th>\n",
       "      <th>FP</th>\n",
       "      <th>FN</th>\n",
       "      <th>TP</th>\n",
       "      <th>Prec</th>\n",
       "      <th>Reca</th>\n",
       "      <th>f1</th>\n",
       "    </tr>\n",
       "  </thead>\n",
       "  <tbody>\n",
       "    <tr>\n",
       "      <th>0</th>\n",
       "      <td>0.05</td>\n",
       "      <td>0</td>\n",
       "      <td>9</td>\n",
       "      <td>0</td>\n",
       "      <td>6</td>\n",
       "      <td>0.400</td>\n",
       "      <td>1.000</td>\n",
       "      <td>0.571</td>\n",
       "    </tr>\n",
       "    <tr>\n",
       "      <th>1</th>\n",
       "      <td>0.10</td>\n",
       "      <td>1</td>\n",
       "      <td>8</td>\n",
       "      <td>0</td>\n",
       "      <td>6</td>\n",
       "      <td>0.429</td>\n",
       "      <td>1.000</td>\n",
       "      <td>0.600</td>\n",
       "    </tr>\n",
       "    <tr>\n",
       "      <th>2</th>\n",
       "      <td>0.20</td>\n",
       "      <td>2</td>\n",
       "      <td>7</td>\n",
       "      <td>0</td>\n",
       "      <td>6</td>\n",
       "      <td>0.462</td>\n",
       "      <td>1.000</td>\n",
       "      <td>0.632</td>\n",
       "    </tr>\n",
       "    <tr>\n",
       "      <th>3</th>\n",
       "      <td>0.30</td>\n",
       "      <td>5</td>\n",
       "      <td>4</td>\n",
       "      <td>0</td>\n",
       "      <td>6</td>\n",
       "      <td>0.600</td>\n",
       "      <td>1.000</td>\n",
       "      <td>0.750</td>\n",
       "    </tr>\n",
       "    <tr>\n",
       "      <th>4</th>\n",
       "      <td>0.40</td>\n",
       "      <td>7</td>\n",
       "      <td>2</td>\n",
       "      <td>1</td>\n",
       "      <td>5</td>\n",
       "      <td>0.714</td>\n",
       "      <td>0.833</td>\n",
       "      <td>0.769</td>\n",
       "    </tr>\n",
       "    <tr>\n",
       "      <th>5</th>\n",
       "      <td>0.50</td>\n",
       "      <td>7</td>\n",
       "      <td>2</td>\n",
       "      <td>1</td>\n",
       "      <td>5</td>\n",
       "      <td>0.714</td>\n",
       "      <td>0.833</td>\n",
       "      <td>0.769</td>\n",
       "    </tr>\n",
       "    <tr>\n",
       "      <th>6</th>\n",
       "      <td>0.60</td>\n",
       "      <td>8</td>\n",
       "      <td>1</td>\n",
       "      <td>1</td>\n",
       "      <td>5</td>\n",
       "      <td>0.833</td>\n",
       "      <td>0.833</td>\n",
       "      <td>0.833</td>\n",
       "    </tr>\n",
       "    <tr>\n",
       "      <th>7</th>\n",
       "      <td>0.70</td>\n",
       "      <td>9</td>\n",
       "      <td>0</td>\n",
       "      <td>2</td>\n",
       "      <td>4</td>\n",
       "      <td>1.000</td>\n",
       "      <td>0.667</td>\n",
       "      <td>0.800</td>\n",
       "    </tr>\n",
       "    <tr>\n",
       "      <th>8</th>\n",
       "      <td>0.80</td>\n",
       "      <td>9</td>\n",
       "      <td>0</td>\n",
       "      <td>2</td>\n",
       "      <td>4</td>\n",
       "      <td>1.000</td>\n",
       "      <td>0.667</td>\n",
       "      <td>0.800</td>\n",
       "    </tr>\n",
       "    <tr>\n",
       "      <th>9</th>\n",
       "      <td>0.90</td>\n",
       "      <td>9</td>\n",
       "      <td>0</td>\n",
       "      <td>4</td>\n",
       "      <td>2</td>\n",
       "      <td>1.000</td>\n",
       "      <td>0.333</td>\n",
       "      <td>0.500</td>\n",
       "    </tr>\n",
       "  </tbody>\n",
       "</table>\n",
       "</div>"
      ],
      "text/plain": [
       "   Threshold  TN  FP  FN  TP   Prec   Reca     f1\n",
       "0       0.05   0   9   0   6  0.400  1.000  0.571\n",
       "1       0.10   1   8   0   6  0.429  1.000  0.600\n",
       "2       0.20   2   7   0   6  0.462  1.000  0.632\n",
       "3       0.30   5   4   0   6  0.600  1.000  0.750\n",
       "4       0.40   7   2   1   5  0.714  0.833  0.769\n",
       "5       0.50   7   2   1   5  0.714  0.833  0.769\n",
       "6       0.60   8   1   1   5  0.833  0.833  0.833\n",
       "7       0.70   9   0   2   4  1.000  0.667  0.800\n",
       "8       0.80   9   0   2   4  1.000  0.667  0.800\n",
       "9       0.90   9   0   4   2  1.000  0.333  0.500"
      ]
     },
     "execution_count": 3,
     "metadata": {},
     "output_type": "execute_result"
    }
   ],
   "source": [
    "from sklearn.metrics import confusion_matrix, precision_score, recall_score, accuracy_score, f1_score\n",
    "\n",
    "\n",
    "thresholds = [0.05, 0.1,0.2,0.3,\n",
    "             0.4,0.5, 0.6,\n",
    "              0.7,0.8,0.9]\n",
    "\n",
    "y_true = [0,1,0,1,1,0,\n",
    "          1,0,0,0,0,0,\n",
    "          1,0,1]\n",
    "\n",
    "# We assume that our predictions come from a model\n",
    "\n",
    "y_pred = [0.2, 0.3, 0.2, 0.6, 0.8, 0.05, \n",
    "          0.9, 0.5, 0.3, 0.66, 0.3, 0.2, \n",
    "          0.85, 0.15, 0.99]\n",
    "\n",
    "\n",
    "columns = [\"Threshold\", \"TN\", \"FP\", \"FN\", \"TP\", \"Prec\", \"Reca\", \"f1\"]\n",
    "data_list = []\n",
    "\n",
    "\n",
    "for thr in thresholds:\n",
    "    predictions = []\n",
    "    for pred in y_pred:\n",
    "        if pred >= thr:\n",
    "            predictions.append(1)\n",
    "        else:\n",
    "            predictions.append(0)\n",
    "    row = [thr] + list(confusion_matrix(y_true, predictions).ravel()) + [round(precision_score(y_true, predictions),3), round(recall_score(y_true, predictions),3), round(f1_score(y_true, predictions),3)]\n",
    "    data_list.append(row)\n",
    "\n",
    "results = pd.DataFrame(data=data_list, columns=columns)\n",
    "\n",
    "prc_fig, ax = plt.subplots(figsize=(6,6))\n",
    "\n",
    "ax.plot(results['Reca'],results['Prec'],\"-s\")\n",
    "ax.set_xlabel(\"Recall\", )\n",
    "ax.set_xlim((0,1.1))\n",
    "ax.set_ylim((0,1.1))\n",
    "# ax.set_yticks([0.4,0.8,1])\n",
    "ax.set_ylabel(\"Precision\")\n",
    "ax2=ax.twinx()\n",
    "ax2.scatter(results['Reca'],thresholds,c='red')\n",
    "ax2.set_ylabel(\"Thresholds\",color=\"red\")\n",
    "ax2.set_ylim((0,1.1))\n",
    "\n",
    "# ax2.set_yticks([0.4,0.8,1])\n",
    "plt.show()\n",
    "results"
   ]
  },
  {
   "cell_type": "markdown",
   "id": "indoor-baking",
   "metadata": {},
   "source": [
    "- Another evaluation of a classifier is receiver operation curve (**ROC**) metric. It uses true positive rate (**TPR**) which is the percentage of **TP** amongst all the actual positive instances and false positive rate (**FPR**) which is the percentage of **FP** amongst all the actual negative instances:\n",
    "\n",
    "$$TPR = \\frac{TP}{TP + FN}, FPR = \\frac{FP}{FP + TN}$$"
   ]
  },
  {
   "cell_type": "code",
   "execution_count": 4,
   "id": "distinct-advocacy",
   "metadata": {},
   "outputs": [
    {
     "data": {
      "image/png": "[encoded data removed]",
      "text/plain": [
       "<Figure size 432x432 with 2 Axes>"
      ]
     },
     "metadata": {},
     "output_type": "display_data"
    },
    {
     "name": "stdout",
     "output_type": "stream",
     "text": [
      "Area Under Curve (AUC) score is 0.8300000000000001\n"
     ]
    }
   ],
   "source": [
    "from sklearn.metrics import roc_auc_score, roc_curve\n",
    "from sklearn.metrics import RocCurveDisplay\n",
    "\n",
    "y_true = [0, 0, 0, 0, 1, 0, 1, \n",
    "          0, 0, 1, 0, 1, 0, 0, 1]\n",
    "\n",
    "y_pred = [0.1, 0.3, 0.2, 0.6, 0.8, 0.05, \n",
    "          0.9, 0.5, 0.3, 0.66, 0.3, 0.2, \n",
    "          0.85, 0.15, 0.99]\n",
    "\n",
    "\n",
    "auc = roc_auc_score(y_true, y_pred)\n",
    "fpr, tpr, thresholds = roc_curve(y_true, y_pred)\n",
    "\n",
    "# thresholds[0] represents no instances being predicted and is arbitrarily set to max(y_score) + 1\n",
    "# that's why we are exlcuding first values such as fpr[1:], tpr[1:] and thresholds[1:]\n",
    "\n",
    "fig_roc, ax = plt.subplots(figsize=(6,6))\n",
    "ax.fill_between(fpr[1:],tpr[1:],label=\"ROC Curve\",color=\"blue\", alpha=0.5)\n",
    "# ax.plot(fpr[1:],tpr[1:],label=\"ROC Curve\",color=\"blue\")\n",
    "ax.set_xlabel('FPR',fontsize=15)\n",
    "ax.set_ylabel(\"TPR\",fontsize=15,color=\"blue\")\n",
    "ax.set_xlim((-0.1,1.1))\n",
    "ax.set_ylim((0,1.1))\n",
    "ax.tick_params(axis='y', labelcolor=\"blue\")\n",
    "ax.legend(loc=\"upper left\")\n",
    "\n",
    "ax_second = ax.twinx()  # instantiate a second axes that shares the same x-axis\n",
    "\n",
    "ax_second.scatter(fpr[1:], thresholds[1:], label=\"Thresholds\",color=\"red\")\n",
    "ax_second.set_ylabel(\"Thresholds\",fontsize=15,color=\"red\")  # we already handled the x-label with ax1\n",
    "ax_second.tick_params(axis='y', labelcolor=\"red\")\n",
    "ax_second.legend(loc=\"upper right\")\n",
    "ax_second.set_xlim((-0.1,1.1))\n",
    "ax_second.set_ylim((0,1.1))\n",
    "plt.show()\n",
    "\n",
    "print(f'Area Under Curve (AUC) score is {auc}')"
   ]
  },
  {
   "cell_type": "markdown",
   "id": "severe-disposal",
   "metadata": {},
   "source": [
    "AUC interpretation goes like this: Given a positive and negative instance, probability such that positive one will be ranked higher than negative one is the value of AUC. It's stated in the book that AUC is widely used for skewed datasets. However, AUC of precision-recall curve demonstrates the class imbalance more clearly and accepted as a better practice. \n",
    "\n",
    "**Log loss:** Used in binary classification such that $t \\in \\{0,1\\}$ and $p \\in [0,1]$\n",
    "$$L(t,p) = -[ t.log(p) + (1-t).log(1-p)]$$\n",
    "\n",
    "Let's check how log loss changes with our confidence of predictions. Higher $p$ means we are sure that datapoint in question is a positive (t=1) instance."
   ]
  },
  {
   "cell_type": "code",
   "execution_count": 6,
   "id": "helpful-budget",
   "metadata": {},
   "outputs": [
    {
     "name": "stdout",
     "output_type": "stream",
     "text": [
      "LOSS VALUES\n",
      "Confident true predictions: 42.14420626313056\n",
      "Non-confident true predictions: 269.3378213055072\n",
      "Non-confident wrong predictions: 320.98960143224934\n",
      "Confident wrong predictions: 921.0340371976151\n"
     ]
    }
   ],
   "source": [
    "def log_loss(p,t):\n",
    "    return -t * np.log(p) - (1-t) * np.log(1-p)\n",
    "\n",
    "size = 200\n",
    "target = [0] * size + [1] * size # Half of dataset positive and the rest is negative\n",
    "\n",
    "confident_true_pred = [0.1] * size + [0.9] * size\n",
    "nonconfident_true_pred = [0.49] * size + [0.51] * size\n",
    "nonconfident_wrong_pred = [0.51] * size + [0.41] * size\n",
    "confident_wrong_pred = [0.9] * size + [0.1] * size\n",
    "\n",
    "\n",
    "predictions = {\"Confident true predictions:\": confident_true_pred, \n",
    "               \"Non-confident true predictions:\": nonconfident_true_pred,\n",
    "               \"Non-confident wrong predictions:\": nonconfident_wrong_pred, \n",
    "               \"Confident wrong predictions:\": confident_wrong_pred}\n",
    "\n",
    "\n",
    "print(\"LOSS VALUES\")\n",
    "for case, pred in predictions.items():\n",
    "    \n",
    "    loss = sum([log_loss(p,t) for p,t in zip(pred,target)])\n",
    "    print(case, loss)"
   ]
  },
  {
   "cell_type": "markdown",
   "id": "combined-harvey",
   "metadata": {},
   "source": [
    "- As clear from the results, log loss is generally high for even true predictions.\n",
    "- Also, log loss is drastically high for even true but non-confident predictions.\n",
    "- Finally, log loss punishes confident but wrong predictions severely."
   ]
  },
  {
   "cell_type": "markdown",
   "id": "nuclear-academy",
   "metadata": {},
   "source": [
    "## Multi-class Classification Metrics\n",
    "\n",
    "- Macro averaged precision: calculate precision for all classes individually and then average them\n",
    "- Micro averaged precision: calculate class wise true positive and false positive and then use that to calculate overall precision\n",
    "- Weighted precision: same as macro but in this case, it is weighted average depending on the number of items in each class"
   ]
  },
  {
   "cell_type": "code",
   "execution_count": 7,
   "id": "illegal-telephone",
   "metadata": {},
   "outputs": [],
   "source": [
    "def macro_precision(y_true, y_pred):\n",
    "    \n",
    "    n_class = len(set(y_true))\n",
    "    precision = 0\n",
    "    \n",
    "    for class_ in range(n_class):\n",
    "        \n",
    "        tp = 0\n",
    "        fp = 0\n",
    "        \n",
    "        for target, pred in zip(y_true, y_pred):\n",
    "            if target == pred and target == class_:\n",
    "                tp += 1\n",
    "            if pred == class_ and target != class_:\n",
    "                fp += 1\n",
    "                \n",
    "        precision += tp / (tp + fp)\n",
    "        \n",
    "    return precision / n_class\n",
    "\n",
    "\n",
    "def micro_precision(y_true, y_pred):\n",
    "    \n",
    "    n_class = len(set(y_true))\n",
    "    tp = 0\n",
    "    fp = 0    \n",
    "    \n",
    "    for class_ in range(n_class):\n",
    "    \n",
    "        for target, pred in zip(y_true, y_pred):\n",
    "            if target == pred and target == class_:\n",
    "                tp += 1\n",
    "            if pred == class_ and target != class_:\n",
    "                fp += 1\n",
    "            \n",
    "    precision = tp / (tp + fp)\n",
    "    \n",
    "    return precision\n",
    "\n",
    "\n",
    "def weighted_precision(y_true, y_pred):\n",
    "    \n",
    "\n",
    "    n_class = len(set(y_true))\n",
    "    size_class = [0] * n_class\n",
    "    \n",
    "    for target in y_true:\n",
    "        size_class[target] += 1\n",
    "    \n",
    "    \n",
    "    precision = 0\n",
    "    \n",
    "    for class_ in range(n_class):\n",
    "        \n",
    "        tp = 0\n",
    "        fp = 0\n",
    "        \n",
    "        for target, pred in zip(y_true, y_pred):\n",
    "            if target == pred and target == class_:\n",
    "                tp += 1\n",
    "            if pred == class_ and target != class_:\n",
    "                fp += 1\n",
    "                \n",
    "        precision += (tp * size_class[class_]) / (tp + fp)\n",
    "        \n",
    "    return precision / len(y_true)"
   ]
  },
  {
   "cell_type": "markdown",
   "id": "portuguese-place",
   "metadata": {},
   "source": [
    "- Let's confirm our implementation against `scikit-learn` library methods:"
   ]
  },
  {
   "cell_type": "code",
   "execution_count": 8,
   "id": "permanent-village",
   "metadata": {},
   "outputs": [
    {
     "name": "stdout",
     "output_type": "stream",
     "text": [
      "Macro: 0.3611111111111111 0.3611111111111111\n",
      "Micro: 0.4444444444444444 0.4444444444444444\n",
      "Weighted: 0.39814814814814814 0.39814814814814814\n"
     ]
    }
   ],
   "source": [
    "from sklearn.metrics import precision_score\n",
    "\n",
    "y_true = [0,1,2,0,1,2,0,2,2]\n",
    "y_pred = [0,2,1,0,2,1,0,0,2]\n",
    "\n",
    "print(\"Macro:\",macro_precision(y_true, y_pred), precision_score(y_true, y_pred, average=\"macro\"))\n",
    "print(\"Micro:\",micro_precision(y_true, y_pred), precision_score(y_true, y_pred, average=\"micro\"))\n",
    "print(\"Weighted:\", weighted_precision(y_true, y_pred), precision_score(y_true, y_pred, average=\"weighted\"))"
   ]
  },
  {
   "cell_type": "markdown",
   "id": "indirect-plasma",
   "metadata": {},
   "source": [
    "- Finally, we can draw confusion matrix for multiclass classification using `scikit-learn`. Book implements its own visualization, nevertheless I believe using a standard library is more useful since producing confusion matrices is a common task"
   ]
  },
  {
   "cell_type": "code",
   "execution_count": 9,
   "id": "integral-visit",
   "metadata": {},
   "outputs": [
    {
     "data": {
      "image/png": "[encoded data removed]",
      "text/plain": [
       "<Figure size 432x288 with 2 Axes>"
      ]
     },
     "metadata": {},
     "output_type": "display_data"
    }
   ],
   "source": [
    "import matplotlib.pyplot as plt\n",
    "from sklearn import metrics\n",
    "\n",
    "y_true = [0, 1, 2, 0, 1, 2, 0, 2, 2]\n",
    "y_pred = [0, 2, 1, 0, 2, 1, 0, 0, 2]\n",
    "\n",
    "cm = metrics.confusion_matrix(y_true, y_pred)\n",
    "\n",
    "metrics.ConfusionMatrixDisplay(cm, display_labels=[\"Dog\",\"Cat\",\"Unicorn\"]).plot()\n",
    "plt.show()\n",
    "# We can also use `metrics.plot_confusion_matrix()` however it requires an estimator"
   ]
  },
  {
   "cell_type": "markdown",
   "id": "sporting-baseline",
   "metadata": {},
   "source": [
    "- Reading confusion matrix for a single class goes like this:\n",
    "    - Diagonal element indicates true positives (**TP**)\n",
    "    - Columnwise elements indicate false positives (**FP**) except diagonal of course.\n",
    "    - Rowwise elements indicate false negatives (**FN**)  except diagonal of course.\n",
    "    - The rest of the elements (excluding the row and column of corresponding diagonal) indicate true negatives (**TN**)\n",
    "\n",
    "- One should note the orientation of true and predicted label, if transposed then columnwise corresponds to false negatives (**FN**) and rowwise corresponds to false positives (**FP**)."
   ]
  },
  {
   "cell_type": "markdown",
   "id": "academic-persian",
   "metadata": {},
   "source": [
    "## Multi-label Classification Metrics\n",
    "\n",
    "- Given a datapoint, we can assign more than one label to it. For example, a picture might contain a cat, a dog, a chair and so on. Therefore, prediction is a list containing the corresponding numerical values of the labels. Considering a picture dataset composed of datapoints with 10 different possible objects in each, our prediction might be either a list y = [2,6,8] or one-hot encoding list y = [0,0,1,0,0,0,1,0,1,0]."
   ]
  },
  {
   "cell_type": "code",
   "execution_count": 10,
   "id": "julian-composite",
   "metadata": {},
   "outputs": [],
   "source": [
    "def pak(y_true, y_pred, k):\n",
    "    \n",
    "    y_local = y_pred[:k]\n",
    "    pred_set = set(y_local)\n",
    "    true_set = set(y_true)\n",
    "    common_values = pred_set.intersection(true_set)\n",
    "    return len(common_values) / len(y_local) # how many predictions are made \n",
    "\n",
    "\n",
    "def apak(y_true, y_pred, k):\n",
    "    \n",
    "    pak_values = 0\n",
    "    \n",
    "    for i in range(1,k+1):\n",
    "        pak_values += pak(y_true, y_pred, i)\n",
    "        \n",
    "    return pak_values / k\n",
    "\n",
    "\n",
    "def mapak(y_true, y_pred, k):\n",
    "    \n",
    "    result = 0\n",
    "    for target, pred in zip(y_true, y_pred):\n",
    "        result += apak(target, pred, k)\n",
    "        \n",
    "    return result / len(y_true)"
   ]
  },
  {
   "cell_type": "code",
   "execution_count": 11,
   "id": "reported-thong",
   "metadata": {},
   "outputs": [
    {
     "name": "stdout",
     "output_type": "stream",
     "text": [
      "0.3333333333333333\n",
      "0.375\n",
      "0.3611111111111111\n",
      "0.34722222222222215\n"
     ]
    }
   ],
   "source": [
    "y_true = [[1, 2, 3], [0, 2], [1],[2, 3],[1, 0],[]]\n",
    "y_pred = [[0, 1, 2], [1], [0,2,3], [2,3,4,0], [0,1,2],[0]]\n",
    "\n",
    "for k in range(1,5):\n",
    "    print(mapak(y_true, y_pred,k))"
   ]
  },
  {
   "cell_type": "markdown",
   "id": "distinguished-agency",
   "metadata": {},
   "source": [
    "## Regression Evaluation Metrics\n",
    "\n",
    "- So far we have only covered classification metrics. Now, it's time for regression metrics. The easiest metric is $\\bf{Error}$ which goes like this given that true label $y$ and prediction $\\hat{y}(x)$:\n",
    "\n",
    "$$\\mathbf{Error} = y - \\hat{y}(x)$$\n",
    "\n",
    "- More grounded version is absolute error since positive and negative error results might cancel each other out producing zero error. Generally an averaged version is used called mean absolute error (MAE):\n",
    "\n",
    "$$\\mathbf{Absolute~Error} = | y - \\hat{y}(x)|$$\n",
    "$$\\mathbf{MAE} = \\frac{1}{m} \\sum_{i=1}^{m}| y - \\hat{y}(x)|$$\n",
    "\n",
    "- Finally, the most common metric is root mean squared error (RMSE):\n",
    "$$\\mathbf{RMSE} = \\sqrt{\\frac{1}{m} \\sum_{i=1}^{m} (y - \\hat{y}(x))^{2}}$$\n",
    "\n",
    "- Additionally, we have coefficient of determination $R^{2}$:\n",
    "$$ R^{2} = 1 - \\frac{\\sum_{i=1}^{m} (y_{i} - y_{pred})^{2}}{\\sum_{i=1}^{m} (y_{i} - y_{mean})^{2}} $$\n",
    "\n",
    "Let's implement the last one and compare it with `sklearn`:\n"
   ]
  },
  {
   "cell_type": "code",
   "execution_count": 114,
   "id": "2b90389a",
   "metadata": {},
   "outputs": [
    {
     "name": "stdout",
     "output_type": "stream",
     "text": [
      "Implemented: 0.9992012535732114, sklearn: 0.9992012535732114\n"
     ]
    }
   ],
   "source": [
    "def r_squared_score(y_true, y_pred):\n",
    "    y_mean = np.mean(y_true)\n",
    "    rss = np.sum((y_true - y_pred) ** 2)\n",
    "    var = np.sum((y_true - y_mean) ** 2)\n",
    "    result = 1 - rss / var\n",
    "    return result\n",
    "\n",
    "X = (np.linspace(-100, 100, 1000)).reshape(-1, 1)\n",
    "y = X * 0.6 + np.random.normal(0,1,size=(1000, 1)) + 10\n",
    "\n",
    "from sklearn.linear_model import LinearRegression\n",
    "from sklearn.metrics import r2_score\n",
    "\n",
    "linear_regression = LinearRegression()\n",
    "linear_regression.fit(X, y)\n",
    "\n",
    "y_pred = linear_regression.predict(X)\n",
    "print(f\"Implemented: {r_squared_score(y, y_pred)}, sklearn: {r2_score(y, y_pred)}\")\n"
   ]
  }
 ],
 "metadata": {
  "kernelspec": {
   "display_name": "Python 3",
   "language": "python",
   "name": "python3"
  },
  "language_info": {
   "codemirror_mode": {
    "name": "ipython",
    "version": 3
   },
   "file_extension": ".py",
   "mimetype": "text/x-python",
   "name": "python",
   "nbconvert_exporter": "python",
   "pygments_lexer": "ipython3",
   "version": "3.8.12"
  }
 },
 "nbformat": 4,
 "nbformat_minor": 5
}
