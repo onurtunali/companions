{
 "cells": [
  {
   "cell_type": "markdown",
   "id": "f8d68179-8724-4f87-bcc3-51e1a77e4b67",
   "metadata": {},
   "source": [
    "# 9. Hyperparameter Optimization\n",
    "\n",
    "- So far, we have only been interested in model parameters such as the weight values of a linear regression. Now, hyperparameters are parameters about the model and the whole process itself such as how many weights should a linear regression have or the learning rate of stochastic gradient descent."
   ]
  },
  {
   "cell_type": "code",
   "execution_count": 7,
   "id": "78398006-7676-4b2a-9c01-7c8fcc8c95ed",
   "metadata": {},
   "outputs": [],
   "source": [
    "import numpy as np\n",
    "import pandas as pd\n",
    "\n",
    "from sklearn import ensemble, metrics, model_selection\n",
    "\n",
    "df = pd.read_csv('data/mobile_train.csv')\n",
    "X = df.drop('price_range', axis=1).values\n",
    "y = df.price_range.values"
   ]
  },
  {
   "cell_type": "markdown",
   "id": "97830b6e-be31-4489-a570-273b6f2a04ed",
   "metadata": {},
   "source": [
    "- As a first approach, we will use **grid search** which runs the learning or training process for every combination of given parameters."
   ]
  },
  {
   "cell_type": "code",
   "execution_count": 10,
   "id": "2ae17c31-f915-412a-947c-aefb84561026",
   "metadata": {
    "tags": []
   },
   "outputs": [
    {
     "name": "stdout",
     "output_type": "stream",
     "text": [
      "Fitting 5 folds for each of 60 candidates, totalling 300 fits\n"
     ]
    },
    {
     "name": "stderr",
     "output_type": "stream",
     "text": [
      "[Parallel(n_jobs=-1)]: Using backend LokyBackend with 8 concurrent workers.\n",
      "[Parallel(n_jobs=-1)]: Done  34 tasks      | elapsed:    6.5s\n",
      "[Parallel(n_jobs=-1)]: Done 184 tasks      | elapsed:   40.6s\n",
      "[Parallel(n_jobs=-1)]: Done 300 out of 300 | elapsed:  1.3min finished\n"
     ]
    },
    {
     "name": "stdout",
     "output_type": "stream",
     "text": [
      "Model best score 0.8869999999999999\n",
      "Best parameter set\n",
      "\tcriterion: entropy\n",
      "\tmax_depth: 11\n",
      "\tn_estimators: 500\n"
     ]
    }
   ],
   "source": [
    "classifier = ensemble.RandomForestClassifier(n_jobs=-1)\n",
    "\n",
    "param_grid = {\n",
    "    'n_estimators': [100*(x+1) for x in range(5)],\n",
    "    'max_depth': [2*x+1 for x in range(6)],\n",
    "    'criterion': ['gini', 'entropy']\n",
    "}\n",
    "\n",
    "model = model_selection.GridSearchCV(estimator=classifier, param_grid=param_grid, scoring='accuracy', verbose=1, n_jobs=-1, cv=5)\n",
    "\n",
    "model.fit(X,y)\n",
    "\n",
    "print(f'Model best score {model.best_score_}')\n",
    "print('Best parameter set')\n",
    "\n",
    "best_parameters = model.best_estimator_.get_params()\n",
    "\n",
    "for par in sorted(param_grid.keys()):\n",
    "    print(f'\\t{par}: {best_parameters[par]}')"
   ]
  },
  {
   "cell_type": "markdown",
   "id": "0addf7b1-b8ce-4a32-99d0-a9f1785129b9",
   "metadata": {},
   "source": [
    "- This approach checks all the values in `param_grid` and chooses the ones giving best score, in this case accuracy. Another approach is using **random search** which checks parameter combinations randomly as the name suggests. "
   ]
  },
  {
   "cell_type": "code",
   "execution_count": 11,
   "id": "94a10ffa-473d-424d-a5d3-665a929fb107",
   "metadata": {
    "tags": []
   },
   "outputs": [
    {
     "name": "stdout",
     "output_type": "stream",
     "text": [
      "Fitting 5 folds for each of 20 candidates, totalling 100 fits\n"
     ]
    },
    {
     "name": "stderr",
     "output_type": "stream",
     "text": [
      "[Parallel(n_jobs=-1)]: Using backend LokyBackend with 8 concurrent workers.\n",
      "[Parallel(n_jobs=-1)]: Done  34 tasks      | elapsed:   31.0s\n",
      "[Parallel(n_jobs=-1)]: Done 100 out of 100 | elapsed:  1.2min finished\n"
     ]
    },
    {
     "name": "stdout",
     "output_type": "stream",
     "text": [
      "Model best score 0.8865000000000001\n",
      "Best parameter set\n",
      "\tcriterion: entropy\n",
      "\tmax_depth: 13\n",
      "\tn_estimators: 1400\n"
     ]
    }
   ],
   "source": [
    "classifier = ensemble.RandomForestClassifier(n_jobs=-1)\n",
    "\n",
    "param_grid = {\n",
    "    'n_estimators': np.arange(100, 1500, 100),\n",
    "    'max_depth': np.arange(1,31),\n",
    "    'criterion': ['gini', 'entropy']\n",
    "}\n",
    "\n",
    "model = model_selection.RandomizedSearchCV(estimator=classifier, param_distributions=param_grid, n_iter=20, scoring='accuracy',\n",
    "                                          verbose=1, n_jobs=-1, cv=5)\n",
    "\n",
    "model.fit(X,y)\n",
    "\n",
    "print(f'Model best score {model.best_score_}')\n",
    "print('Best parameter set')\n",
    "\n",
    "best_parameters = model.best_estimator_.get_params()\n",
    "\n",
    "for par in sorted(param_grid.keys()):\n",
    "    print(f'\\t{par}: {best_parameters[par]}')"
   ]
  },
  {
   "cell_type": "markdown",
   "id": "7d19d18c-8909-4ed8-83e1-83b1dcdbeda4",
   "metadata": {},
   "source": [
    "- When dealing with a single model, it's easier to manage hyperparameter optimization process manually. However, feeding the result of a model into another model requires pipeline for better management. Sadly, training data is not available for SVD and SVM optimization example in the book.\n",
    "\n",
    "- Finally, we use 2 optimization libraries: `scikit-optimize` and `hyperopt`. The first one is bayesian optimization using Gaussian processes and the second one function optimization through a chosen search algorithm. "
   ]
  },
  {
   "cell_type": "code",
   "execution_count": 68,
   "id": "6b62d1ec-97bf-41cd-b48c-ff80afc38be1",
   "metadata": {
    "tags": []
   },
   "outputs": [
    {
     "name": "stdout",
     "output_type": "stream",
     "text": [
      "Iteration No: 1 started. Evaluating function at random point.\n",
      "Iteration No: 1 ended. Evaluation done at random point.\n",
      "Time taken: 2.2814\n",
      "Function value obtained: -0.9100\n",
      "Current minimum: -0.9100\n",
      "Iteration No: 2 started. Evaluating function at random point.\n",
      "Iteration No: 2 ended. Evaluation done at random point.\n",
      "Time taken: 0.8714\n",
      "Function value obtained: -0.7900\n",
      "Current minimum: -0.9100\n",
      "Iteration No: 3 started. Evaluating function at random point.\n",
      "Iteration No: 3 ended. Evaluation done at random point.\n",
      "Time taken: 3.3967\n",
      "Function value obtained: -0.9150\n",
      "Current minimum: -0.9150\n",
      "Iteration No: 4 started. Evaluating function at random point.\n",
      "Iteration No: 4 ended. Evaluation done at random point.\n",
      "Time taken: 3.1661\n",
      "Function value obtained: -0.9000\n",
      "Current minimum: -0.9150\n",
      "Iteration No: 5 started. Evaluating function at random point.\n",
      "Iteration No: 5 ended. Evaluation done at random point.\n",
      "Time taken: 2.7983\n",
      "Function value obtained: -0.8300\n",
      "Current minimum: -0.9150\n",
      "Iteration No: 6 started. Evaluating function at random point.\n",
      "Iteration No: 6 ended. Evaluation done at random point.\n",
      "Time taken: 1.9977\n",
      "Function value obtained: -0.8800\n",
      "Current minimum: -0.9150\n",
      "Iteration No: 7 started. Evaluating function at random point.\n",
      "Iteration No: 7 ended. Evaluation done at random point.\n",
      "Time taken: 1.2558\n",
      "Function value obtained: -0.8325\n",
      "Current minimum: -0.9150\n",
      "Iteration No: 8 started. Evaluating function at random point.\n",
      "Iteration No: 8 ended. Evaluation done at random point.\n",
      "Time taken: 2.0453\n",
      "Function value obtained: -0.8800\n",
      "Current minimum: -0.9150\n",
      "Iteration No: 9 started. Evaluating function at random point.\n",
      "Iteration No: 9 ended. Evaluation done at random point.\n",
      "Time taken: 2.9410\n",
      "Function value obtained: -0.9150\n",
      "Current minimum: -0.9150\n",
      "Iteration No: 10 started. Evaluating function at random point.\n",
      "Iteration No: 10 ended. Evaluation done at random point.\n",
      "Time taken: 1.9755\n",
      "Function value obtained: -0.9000\n",
      "Current minimum: -0.9150\n",
      "Iteration No: 11 started. Searching for the next optimal point.\n",
      "Iteration No: 11 ended. Search finished for the next optimal point.\n",
      "Time taken: 5.6309\n",
      "Function value obtained: -0.9150\n",
      "Current minimum: -0.9150\n",
      "Iteration No: 12 started. Searching for the next optimal point.\n",
      "Iteration No: 12 ended. Search finished for the next optimal point.\n",
      "Time taken: 5.7174\n",
      "Function value obtained: -0.9150\n",
      "Current minimum: -0.9150\n",
      "Iteration No: 13 started. Searching for the next optimal point.\n",
      "Iteration No: 13 ended. Search finished for the next optimal point.\n",
      "Time taken: 1.2089\n",
      "Function value obtained: -0.9050\n",
      "Current minimum: -0.9150\n",
      "Iteration No: 14 started. Searching for the next optimal point.\n",
      "Iteration No: 14 ended. Search finished for the next optimal point.\n",
      "Time taken: 5.7861\n",
      "Function value obtained: -0.9150\n",
      "Current minimum: -0.9150\n",
      "Iteration No: 15 started. Searching for the next optimal point.\n",
      "Iteration No: 15 ended. Search finished for the next optimal point.\n",
      "Time taken: 0.9207\n",
      "Function value obtained: -0.9150\n",
      "Current minimum: -0.9150\n",
      "\n",
      "Model best score 0.915\n",
      "\tmax_depth:x\n",
      "\tn_estimators:fun\n",
      "\tcriterion:func_vals\n",
      "\tmax_features:x_iters\n"
     ]
    }
   ],
   "source": [
    "from functools import partial\n",
    "from skopt import gp_minimize, space\n",
    "\n",
    "def optimize(params, param_names, x, y):\n",
    "    \n",
    "    params = dict(zip(param_names, params))\n",
    "    model = ensemble.RandomForestClassifier(n_jobs=-1, **params)\n",
    "    \n",
    "    kf = model_selection.StratifiedKFold(n_splits=5)\n",
    "    accuracies = []\n",
    "    \n",
    "    for idx in kf.split(X=x,y=y):\n",
    "        train_idx, test_idx = idx[0], idx[1]\n",
    "        xtrain = x[train_idx]\n",
    "        ytrain = y[train_idx]\n",
    "        \n",
    "        xtest = x[test_idx]\n",
    "        ytest = y[test_idx]\n",
    "        \n",
    "        model.fit(xtrain, ytrain)\n",
    "        preds = model.predict(xtest)\n",
    "        \n",
    "        fold_accuracy = metrics.accuracy_score(ytest, preds)\n",
    "        accuracies.append(fold_accuracy)\n",
    "        \n",
    "        return -1 * np.mean(accuracies)\n",
    "    \n",
    "param_space = [space.Integer(3,15,name='max_depth'), \n",
    "              space.Integer(100,1500, name='n_estimators'),\n",
    "              space.Categorical(['gini','entropy'], name='criterion'),\n",
    "              space.Real(0.01,1,prior='uniform', name='max_features')\n",
    "              ]\n",
    "\n",
    "param_names = ['max_depth', 'n_estimators', 'criterion', 'max_features']\n",
    "\n",
    "optimization_function = partial(optimize, param_names=param_names, x=X, y=y)\n",
    "\n",
    "result = gp_minimize(optimization_function, dimensions=param_space, n_calls=15, n_random_starts=10, verbose=1)\n",
    "best_parameters = dict(zip(param_names, result))\n",
    "\n",
    "print(f'\\nModel best score {-1*result.fun}')\n",
    "\n",
    "for i, j in best_parameters.items():\n",
    "    print(f'\\t{i}:{j}')"
   ]
  },
  {
   "cell_type": "code",
   "execution_count": 69,
   "id": "3746618f-4dd8-4b95-a813-4951c16c4a2c",
   "metadata": {},
   "outputs": [
    {
     "data": {
      "text/plain": [
       "<matplotlib.axes._subplots.AxesSubplot at 0x7f0f0efe0e50>"
      ]
     },
     "execution_count": 69,
     "metadata": {},
     "output_type": "execute_result"
    },
    {
     "data": {
      "image/png": "[encoded data removed]",
      "text/plain": [
       "<Figure size 432x288 with 1 Axes>"
      ]
     },
     "metadata": {
      "needs_background": "light"
     },
     "output_type": "display_data"
    }
   ],
   "source": [
    "from skopt.plots import plot_convergence\n",
    "plot_convergence(result)"
   ]
  },
  {
   "cell_type": "code",
   "execution_count": 73,
   "id": "e1756ae4-3d32-418c-b593-4f9d15de4541",
   "metadata": {},
   "outputs": [
    {
     "name": "stdout",
     "output_type": "stream",
     "text": [
      "100%|██████████| 15/15 [00:30<00:00,  2.06s/trial, best loss: -0.915]\n",
      "{'criterion': 'entropy', 'max_depth': 15, 'max_features': 0.7088721086225478, 'n_estimators': 1165}\n"
     ]
    }
   ],
   "source": [
    "from functools import partial\n",
    "\n",
    "from hyperopt import hp, fmin, tpe, Trials\n",
    "from hyperopt.pyll.base import scope\n",
    "\n",
    "def optimize(params, x, y):\n",
    "    model = ensemble.RandomForestClassifier(n_jobs=-1, **params)\n",
    "    kf = model_selection.StratifiedKFold(n_splits=5)\n",
    "\n",
    "    accuracies = []\n",
    "    \n",
    "    for idx in kf.split(X=x,y=y):\n",
    "        train_idx, test_idx = idx[0], idx[1]\n",
    "        xtrain = x[train_idx]\n",
    "        ytrain = y[train_idx]\n",
    "        \n",
    "        xtest = x[test_idx]\n",
    "        ytest = y[test_idx]\n",
    "        \n",
    "        model.fit(xtrain, ytrain)\n",
    "        preds = model.predict(xtest)\n",
    "        \n",
    "        fold_accuracy = metrics.accuracy_score(ytest, preds)\n",
    "        accuracies.append(fold_accuracy)\n",
    "        \n",
    "        return -1 * np.mean(accuracies)\n",
    "\n",
    "param_space = {'max_depth': scope.int(hp.quniform('max_depth', 1, 15, 1)),\n",
    "              'n_estimators': scope.int(hp.quniform('n_estimators', 100, 1500, 1)),\n",
    "              'criterion': hp.choice('criterion', ['gini', 'entropy']),\n",
    "              'max_features': hp.uniform('max_features', 0, 1)\n",
    "              }\n",
    "optimization_function = partial(optimize, x=X, y=y)\n",
    "\n",
    "trials = Trials()\n",
    "\n",
    "hopt = fmin(fn=optimization_function, space=param_space, \n",
    "            algo=tpe.suggest, max_evals=15, trials=trials, \n",
    "            verbose=True, return_argmin=False)\n",
    "\n",
    "print(hopt)"
   ]
  }
 ],
 "metadata": {
  "kernelspec": {
   "display_name": "Python 3",
   "language": "python",
   "name": "python3"
  },
  "language_info": {
   "codemirror_mode": {
    "name": "ipython",
    "version": 3
   },
   "file_extension": ".py",
   "mimetype": "text/x-python",
   "name": "python",
   "nbconvert_exporter": "python",
   "pygments_lexer": "ipython3",
   "version": "3.7.6"
  }
 },
 "nbformat": 4,
 "nbformat_minor": 5
}
