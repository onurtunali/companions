{
 "cells": [
  {
   "cell_type": "markdown",
   "id": "biological-florida",
   "metadata": {},
   "source": [
    "# 8 Feature Selection\n",
    "\n",
    "- Feature selection is about eliminating uninformative features so that computational complexity of training and inference decrease. Two main ideas play a role in the process:\n",
    "    - **Variance limit**: Eliminating inputs with low variance\n",
    "    - **Target relationship**: Measuring the relationship of a feature with the target variable through a chosen criteria such as correlation, mutual information etc. and then eliminating the ones with values lower than a threshold."
   ]
  },
  {
   "cell_type": "code",
   "execution_count": 49,
   "id": "framed-sharp",
   "metadata": {},
   "outputs": [],
   "source": [
    "%matplotlib inline\n",
    "import matplotlib.pyplot as plt\n",
    "import numpy as np\n",
    "import sklearn\n",
    "from sklearn import datasets\n",
    "import pandas as pd"
   ]
  },
  {
   "cell_type": "markdown",
   "id": "fantastic-edinburgh",
   "metadata": {},
   "source": [
    "- Let's start with variance limit. Using the Iris data, we can transform dataset features with variances lower than 0.2."
   ]
  },
  {
   "cell_type": "code",
   "execution_count": 2,
   "id": "exposed-cardiff",
   "metadata": {},
   "outputs": [
    {
     "name": "stdout",
     "output_type": "stream",
     "text": [
      "sepal_length    0.685694\n",
      "sepal_width     0.189979\n",
      "petal_length    3.116278\n",
      "petal_width     0.581006\n",
      "target          0.671141\n",
      "dtype: float64\n"
     ]
    },
    {
     "data": {
      "text/plain": [
       "sepal_length    0.685694\n",
       "petal_length    3.116278\n",
       "petal_width     0.581006\n",
       "target          0.671141\n",
       "dtype: float64"
      ]
     },
     "execution_count": 2,
     "metadata": {},
     "output_type": "execute_result"
    }
   ],
   "source": [
    "iris_data = datasets.load_iris()\n",
    "df = pd.DataFrame(data=np.c_[iris_data.data, iris_data.target], \n",
    "                  columns=list(iris_data.feature_names) + ['target'])\n",
    "\n",
    "df.columns = ['sepal_length', 'sepal_width', \n",
    "              'petal_length', 'petal_width', \n",
    "              'target']\n",
    "print(df.var())\n",
    "var_limit = 0.2\n",
    "\n",
    "drops = [item for item in df.var().index if df.var()[item] < 0.2]\n",
    "df.drop(drops, inplace=True, axis=1)\n",
    "df.var()"
   ]
  },
  {
   "cell_type": "markdown",
   "id": "selective-supply",
   "metadata": {},
   "source": [
    "- Or we can `sklearn` library, however results is not a `DataFrame` rather it's a numpy array."
   ]
  },
  {
   "cell_type": "code",
   "execution_count": 3,
   "id": "dense-queens",
   "metadata": {},
   "outputs": [
    {
     "data": {
      "text/plain": [
       "array([[5.1, 1.4, 0.2, 0. ],\n",
       "       [4.9, 1.4, 0.2, 0. ],\n",
       "       [4.7, 1.3, 0.2, 0. ],\n",
       "       [4.6, 1.5, 0.2, 0. ],\n",
       "       [5. , 1.4, 0.2, 0. ],\n",
       "       [5.4, 1.7, 0.4, 0. ],\n",
       "       [4.6, 1.4, 0.3, 0. ],\n",
       "       [5. , 1.5, 0.2, 0. ],\n",
       "       [4.4, 1.4, 0.2, 0. ],\n",
       "       [4.9, 1.5, 0.1, 0. ]])"
      ]
     },
     "execution_count": 3,
     "metadata": {},
     "output_type": "execute_result"
    }
   ],
   "source": [
    "from sklearn.feature_selection import VarianceThreshold\n",
    "df = pd.DataFrame(data=np.c_[iris_data.data, iris_data.target], \n",
    "                  columns=list(iris_data.feature_names) + ['target'])\n",
    "\n",
    "df.columns = ['sepal_length', 'sepal_width', \n",
    "              'petal_length', 'petal_width', \n",
    "              'target']\n",
    "\n",
    "var_limit = VarianceThreshold(threshold=0.2)\n",
    "data_transformed = var_limit.fit_transform(df)\n",
    "data_transformed[:10]"
   ]
  },
  {
   "cell_type": "markdown",
   "id": "5337ddf8-7be2-4707-97f9-a771e19e7bb3",
   "metadata": {},
   "source": [
    "- A key point is that scaling features change the mean and variance. For example given a random variable $X \\sim D$ and $E[X]=\\mu, Var[X] = \\sigma^{2}$, scaling would generate a new random variable $Z=\\frac{x - \\mu}{\\sigma}$ with (using linearity of expected value and variance formulas) $E[Z] = 0, Var[Z] = 1$.\n",
    "\n",
    "- Another approach removing features with high correlation. Following example shows that `sepal_length` and `sl_square` are highly correlated, therefore a candidate for removal. "
   ]
  },
  {
   "cell_type": "code",
   "execution_count": 4,
   "id": "random-finland",
   "metadata": {},
   "outputs": [
    {
     "data": {
      "text/html": [
       "<div>\n",
       "<style scoped>\n",
       "    .dataframe tbody tr th:only-of-type {\n",
       "        vertical-align: middle;\n",
       "    }\n",
       "\n",
       "    .dataframe tbody tr th {\n",
       "        vertical-align: top;\n",
       "    }\n",
       "\n",
       "    .dataframe thead th {\n",
       "        text-align: right;\n",
       "    }\n",
       "</style>\n",
       "<table border=\"1\" class=\"dataframe\">\n",
       "  <thead>\n",
       "    <tr style=\"text-align: right;\">\n",
       "      <th></th>\n",
       "      <th>sepal_length</th>\n",
       "      <th>sepal_width</th>\n",
       "      <th>petal_length</th>\n",
       "      <th>petal_width</th>\n",
       "      <th>target</th>\n",
       "      <th>sl_squar</th>\n",
       "    </tr>\n",
       "  </thead>\n",
       "  <tbody>\n",
       "    <tr>\n",
       "      <th>sepal_length</th>\n",
       "      <td>1.000000</td>\n",
       "      <td>-0.117570</td>\n",
       "      <td>0.871754</td>\n",
       "      <td>0.817941</td>\n",
       "      <td>0.782561</td>\n",
       "      <td>0.996842</td>\n",
       "    </tr>\n",
       "    <tr>\n",
       "      <th>sepal_width</th>\n",
       "      <td>-0.117570</td>\n",
       "      <td>1.000000</td>\n",
       "      <td>-0.428440</td>\n",
       "      <td>-0.366126</td>\n",
       "      <td>-0.426658</td>\n",
       "      <td>-0.104895</td>\n",
       "    </tr>\n",
       "    <tr>\n",
       "      <th>petal_length</th>\n",
       "      <td>0.871754</td>\n",
       "      <td>-0.428440</td>\n",
       "      <td>1.000000</td>\n",
       "      <td>0.962865</td>\n",
       "      <td>0.949035</td>\n",
       "      <td>0.858514</td>\n",
       "    </tr>\n",
       "    <tr>\n",
       "      <th>petal_width</th>\n",
       "      <td>0.817941</td>\n",
       "      <td>-0.366126</td>\n",
       "      <td>0.962865</td>\n",
       "      <td>1.000000</td>\n",
       "      <td>0.956547</td>\n",
       "      <td>0.801247</td>\n",
       "    </tr>\n",
       "    <tr>\n",
       "      <th>target</th>\n",
       "      <td>0.782561</td>\n",
       "      <td>-0.426658</td>\n",
       "      <td>0.949035</td>\n",
       "      <td>0.956547</td>\n",
       "      <td>1.000000</td>\n",
       "      <td>0.768566</td>\n",
       "    </tr>\n",
       "    <tr>\n",
       "      <th>sl_squar</th>\n",
       "      <td>0.996842</td>\n",
       "      <td>-0.104895</td>\n",
       "      <td>0.858514</td>\n",
       "      <td>0.801247</td>\n",
       "      <td>0.768566</td>\n",
       "      <td>1.000000</td>\n",
       "    </tr>\n",
       "  </tbody>\n",
       "</table>\n",
       "</div>"
      ],
      "text/plain": [
       "              sepal_length  sepal_width  petal_length  petal_width    target  \\\n",
       "sepal_length      1.000000    -0.117570      0.871754     0.817941  0.782561   \n",
       "sepal_width      -0.117570     1.000000     -0.428440    -0.366126 -0.426658   \n",
       "petal_length      0.871754    -0.428440      1.000000     0.962865  0.949035   \n",
       "petal_width       0.817941    -0.366126      0.962865     1.000000  0.956547   \n",
       "target            0.782561    -0.426658      0.949035     0.956547  1.000000   \n",
       "sl_squar          0.996842    -0.104895      0.858514     0.801247  0.768566   \n",
       "\n",
       "              sl_squar  \n",
       "sepal_length  0.996842  \n",
       "sepal_width  -0.104895  \n",
       "petal_length  0.858514  \n",
       "petal_width   0.801247  \n",
       "target        0.768566  \n",
       "sl_squar      1.000000  "
      ]
     },
     "execution_count": 4,
     "metadata": {},
     "output_type": "execute_result"
    }
   ],
   "source": [
    "df['sl_squar'] = df.sepal_length.apply(np.square)\n",
    "df.corr()"
   ]
  },
  {
   "cell_type": "markdown",
   "id": "f973ebe6-7f25-411a-8adb-dcbc7b39ab1c",
   "metadata": {},
   "source": [
    "- Now, we can move on to target relationship which is named as *univariate feature selection*. In short, we choose a feature and measure its relationship with the target variable using a certain criteria. Note that $\\chi^{2}$ is only for non-negative data. \n",
    "\n",
    "- Following `class` chooses either k best features or percentage of feature ranked according to given criteria."
   ]
  },
  {
   "cell_type": "code",
   "execution_count": 5,
   "id": "actual-accountability",
   "metadata": {},
   "outputs": [],
   "source": [
    "from sklearn.feature_selection import chi2\n",
    "from sklearn.feature_selection import f_classif\n",
    "from sklearn.feature_selection import f_regression\n",
    "from sklearn.feature_selection import mutual_info_classif\n",
    "from sklearn.feature_selection import mutual_info_regression\n",
    "from sklearn.feature_selection import SelectKBest\n",
    "from sklearn.feature_selection import SelectPercentile\n",
    "\n",
    "\n",
    "class UnivariateFeatureSelection:\n",
    "    def __init__(self, n_features, problem_type, scoring):\n",
    "        \n",
    "        if problem_type == \"classification\":\n",
    "            valid_scoring = {\n",
    "                'f_classif': f_classif,\n",
    "                'chi2' : chi2,\n",
    "                'mutual_info_classif': mutual_info_classif\n",
    "            }\n",
    "        else:\n",
    "            valid_scoring = {\n",
    "                'f_regression': f_regression,\n",
    "                'mutual_info_regression': mutual_info_regression\n",
    "            }\n",
    "            \n",
    "        if scoring not in valid_scoring:\n",
    "            raise Exception('Invalid Scoring Function')\n",
    "        \n",
    "        if isinstance(n_features, int):\n",
    "            self.selection = SelectKBest(\n",
    "            valid_scoring[scoring],\n",
    "            k=n_features)\n",
    "            \n",
    "        elif isinstance(n_features, float):\n",
    "            self.selection = SelectPercentile(\n",
    "            valid_scoring[scoring],\n",
    "            percentile=int(n_features*100)\n",
    "            )\n",
    "        else:\n",
    "            raise Exception('Invalid type of features')\n",
    "            \n",
    "    def fit(self, X, y):\n",
    "        return self.selection.fit(X, y)\n",
    "    \n",
    "    def transform(self, X):\n",
    "        return self.selection.transform(X)\n",
    "    \n",
    "    def fit_transform(self, X, y):\n",
    "        return self.selection.fit_transform(X, y)\n",
    "                "
   ]
  },
  {
   "cell_type": "markdown",
   "id": "99cdf038-0158-499a-a073-ff06eee51947",
   "metadata": {},
   "source": [
    "- Using `iris` dataset, we can show how selection works."
   ]
  },
  {
   "cell_type": "code",
   "execution_count": 7,
   "id": "controlled-circumstances",
   "metadata": {
    "tags": []
   },
   "outputs": [
    {
     "data": {
      "text/plain": [
       "array([[5.1, 1.4, 0.2],\n",
       "       [4.9, 1.4, 0.2],\n",
       "       [4.7, 1.3, 0.2],\n",
       "       [4.6, 1.5, 0.2],\n",
       "       [5. , 1.4, 0.2],\n",
       "       [5.4, 1.7, 0.4],\n",
       "       [4.6, 1.4, 0.3],\n",
       "       [5. , 1.5, 0.2],\n",
       "       [4.4, 1.4, 0.2],\n",
       "       [4.9, 1.5, 0.1]])"
      ]
     },
     "execution_count": 7,
     "metadata": {},
     "output_type": "execute_result"
    }
   ],
   "source": [
    "X, y = datasets.load_iris(return_X_y=True)\n",
    "\n",
    "ufs = UnivariateFeatureSelection(n_features=3, \n",
    "                                 problem_type='regression', scoring='f_regression')\n",
    "\n",
    "ufs.fit(X,y)\n",
    "X_transformed = ufs.transform(X)\n",
    "X_transformed[:10]"
   ]
  },
  {
   "cell_type": "markdown",
   "id": "6164164d-b01d-45ce-b726-33bdddcbf1e1",
   "metadata": {},
   "source": [
    "- Greedy feature selection first evaluates the score of a single feature, then adds another to check whether is the score improved. If no improvement is achieved, it stops and returns the selected features. Since model performance is measured over and over again with different combinations of features, it's rather costly."
   ]
  },
  {
   "cell_type": "code",
   "execution_count": 36,
   "id": "powered-treasure",
   "metadata": {},
   "outputs": [
    {
     "name": "stdout",
     "output_type": "stream",
     "text": [
      "Feature size (1000, 10)\n",
      "Feature size transformed (1000, 7)\n",
      "Scores [0.9218507496119938, 0.9276388422214754, 0.9280748491975872, 0.9282468519496312, 0.9283868541896669, 0.9283988543816701, 0.9284068545096722]\n",
      "Iterations[10, 20, 30, 40, 50, 60, 70]\n"
     ]
    }
   ],
   "source": [
    "from sklearn import linear_model\n",
    "from sklearn import metrics\n",
    "from sklearn.datasets import make_classification, make_regression\n",
    "iterations = [0]\n",
    "\n",
    "class GreedyFeatureSelection:\n",
    "    \n",
    "    def evaluate_score(self, X, y):\n",
    "        \n",
    "        model = linear_model.LogisticRegression()\n",
    "        model.fit(X, y)\n",
    "        predictions = model.predict_proba(X)[:,1]\n",
    "        auc = metrics.roc_auc_score(y, predictions)\n",
    "        return auc\n",
    "    \n",
    "    def _feature_selection(self, X, y):\n",
    "        global iterations\n",
    "        good_features = []\n",
    "        best_scores = []\n",
    "        \n",
    "        num_features = X.shape[1]\n",
    "        \n",
    "        while True:\n",
    "            count = 0\n",
    "            \n",
    "            this_feature = None\n",
    "            best_score = 0\n",
    "            \n",
    "            for feature in range(num_features):\n",
    "                count += 1\n",
    "                if feature in good_features:\n",
    "                    continue\n",
    "                selected_features = good_features + [feature]\n",
    "                xtrain = X[:, selected_features]\n",
    "                score = self.evaluate_score(xtrain, y)\n",
    "                \n",
    "                if score > best_score:\n",
    "                    this_feature = feature\n",
    "                    best_score = score\n",
    "                    \n",
    "            if this_feature != None:\n",
    "                good_features.append(this_feature)\n",
    "                best_scores.append(best_score)\n",
    "            iterations.append(iterations[-1]+count)\n",
    "            if len(best_scores) > 2:\n",
    "                if best_scores[-1] < best_scores[-2]:\n",
    "                    break\n",
    "                    \n",
    "        return best_scores[:-1], good_features[:-1]\n",
    "    \n",
    "    def __call__(self, X, y):\n",
    "        scores, features = self._feature_selection(X, y)\n",
    "        return X[:,features], scores\n",
    "    \n",
    "X, y = make_classification(n_samples=1000, n_features=10)\n",
    "print(f'Feature size {X.shape}')\n",
    "X_transformed, scores = GreedyFeatureSelection()(X, y)\n",
    "print(f'Feature size transformed {X_transformed.shape}')\n",
    "\n",
    "print(f'Scores {scores}\\nIterations{iterations[1:-1]}')"
   ]
  },
  {
   "cell_type": "markdown",
   "id": "5129c71b-b3c2-4027-9286-d84ddcf90dff",
   "metadata": {},
   "source": [
    "- Recursive feature elimination"
   ]
  },
  {
   "cell_type": "code",
   "execution_count": 46,
   "id": "ee61b002-2d45-4254-8f27-86746b0fce57",
   "metadata": {},
   "outputs": [],
   "source": [
    "import pandas as pd\n",
    "\n",
    "from sklearn.feature_selection import RFE\n",
    "from sklearn.linear_model import LinearRegression\n",
    "from sklearn.datasets import fetch_california_housing\n",
    "\n",
    "data = fetch_california_housing()\n",
    "X = data['data']\n",
    "col_names = data['feature_names']\n",
    "y = data['target']\n",
    "\n",
    "model = LinearRegression()\n",
    "\n",
    "rfe = RFE(estimator=model, n_features_to_select=3)\n",
    "\n",
    "X_transformed = rfe.fit_transform(X, y)"
   ]
  },
  {
   "cell_type": "markdown",
   "id": "9af28e6c-f5ab-473e-a503-36e6ac05a8e7",
   "metadata": {},
   "source": [
    "- Feature importance "
   ]
  },
  {
   "cell_type": "code",
   "execution_count": 52,
   "id": "3b3587af-b057-491d-9ff9-d5b250baf594",
   "metadata": {},
   "outputs": [
    {
     "data": {
      "image/png": "[encoded data removed]",
      "text/plain": [
       "<Figure size 432x288 with 1 Axes>"
      ]
     },
     "metadata": {
      "needs_background": "light"
     },
     "output_type": "display_data"
    }
   ],
   "source": [
    "from sklearn.datasets import load_diabetes\n",
    "from sklearn.ensemble import RandomForestRegressor\n",
    "\n",
    "data = load_diabetes()\n",
    "X = data['data']\n",
    "col_names = data['feature_names']\n",
    "y = data['target']\n",
    "\n",
    "model = RandomForestRegressor()\n",
    "model.fit(X,y)\n",
    "\n",
    "importances = model.feature_importances_\n",
    "idxs = np.argsort(importances)\n",
    "\n",
    "plt.barh(range(len(idxs)), importances[idxs], align='center')\n",
    "plt.yticks(range(len(idxs)), [col_names[i] for i in idxs])\n",
    "plt.xlabel('Random forest feature importances')\n",
    "plt.show()"
   ]
  },
  {
   "cell_type": "markdown",
   "id": "28e08240-2c5b-4c58-bb32-5a7c48fa5ec3",
   "metadata": {},
   "source": [
    "- Also we can use or interpret another model's parameters as feature importance metric."
   ]
  },
  {
   "cell_type": "code",
   "execution_count": 53,
   "id": "512f1d1c-da2f-4d0a-b45c-266b4006d798",
   "metadata": {},
   "outputs": [
    {
     "name": "stdout",
     "output_type": "stream",
     "text": [
      "['bmi', 's5']\n"
     ]
    }
   ],
   "source": [
    "from sklearn.datasets import load_diabetes\n",
    "from sklearn.feature_selection import SelectFromModel\n",
    "from sklearn.ensemble import RandomForestRegressor\n",
    "\n",
    "data = load_diabetes()\n",
    "X = data['data']\n",
    "y = data['target']\n",
    "col_names = data['feature_names']\n",
    "\n",
    "model = RandomForestRegressor()\n",
    "sfm = SelectFromModel(estimator=model)\n",
    "X_transform = sfm.fit_transform(X, y)\n",
    "\n",
    "support = sfm.get_support()\n",
    "\n",
    "print([x for x, y in zip(col_names, support) if y == True])"
   ]
  }
 ],
 "metadata": {
  "kernelspec": {
   "display_name": "Python 3",
   "language": "python",
   "name": "python3"
  },
  "language_info": {
   "codemirror_mode": {
    "name": "ipython",
    "version": 3
   },
   "file_extension": ".py",
   "mimetype": "text/x-python",
   "name": "python",
   "nbconvert_exporter": "python",
   "pygments_lexer": "ipython3",
   "version": "3.7.6"
  }
 },
 "nbformat": 4,
 "nbformat_minor": 5
}
