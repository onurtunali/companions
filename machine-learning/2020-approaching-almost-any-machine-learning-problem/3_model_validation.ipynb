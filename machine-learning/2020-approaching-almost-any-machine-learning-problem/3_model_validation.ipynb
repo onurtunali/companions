{
 "cells": [
  {
   "cell_type": "markdown",
   "id": "satellite-ethiopia",
   "metadata": {},
   "source": [
    "# Model-validation (Cross-validation)\n",
    "\n",
    "Every statistical or machine learning model need to be validated, which is called [statistical model validation](https://en.wikipedia.org/wiki/Statistical_model_validation), before used in real world or production. This means testing the model against never seen before data (out of sample data) and comparing the predictions with dataset results. \n",
    "\n",
    "- k-fold cross-validation\n",
    "- stratified k-fold cross-validation\n",
    "- hold-out based validation\n",
    "- leave-one-out cross-validation\n",
    "- group k-fold cross-validation\n",
    "\n",
    "In this section, we will use [Wine Quality Dataset](https://archive.ics.uci.edu/ml/datasets/wine+quality)."
   ]
  },
  {
   "cell_type": "code",
   "execution_count": 10,
   "id": "basic-pilot",
   "metadata": {},
   "outputs": [],
   "source": [
    "import matplotlib as mpl\n",
    "import matplotlib.pyplot as plt\n",
    "import numpy as np\n",
    "import pandas as pd\n",
    "import seaborn as sns\n",
    "\n",
    "from utilities import create_folds\n",
    "\n",
    "sns.set_theme()\n"
   ]
  },
  {
   "cell_type": "markdown",
   "id": "heated-wheat",
   "metadata": {},
   "source": [
    "Let's load the data, wine quality dataset, and check what kind of features we have:"
   ]
  },
  {
   "cell_type": "code",
   "execution_count": 27,
   "id": "dutch-stone",
   "metadata": {},
   "outputs": [
    {
     "name": "stdout",
     "output_type": "stream",
     "text": [
      "Data type: fixed acidity           float64\n",
      "volatile acidity        float64\n",
      "citric acid             float64\n",
      "residual sugar          float64\n",
      "chlorides               float64\n",
      "free sulfur dioxide     float64\n",
      "total sulfur dioxide    float64\n",
      "density                 float64\n",
      "pH                      float64\n",
      "sulphates               float64\n",
      "alcohol                 float64\n",
      "quality                   int64\n",
      "dtype: object\n"
     ]
    },
    {
     "data": {
      "text/html": [
       "<div>\n",
       "<style scoped>\n",
       "    .dataframe tbody tr th:only-of-type {\n",
       "        vertical-align: middle;\n",
       "    }\n",
       "\n",
       "    .dataframe tbody tr th {\n",
       "        vertical-align: top;\n",
       "    }\n",
       "\n",
       "    .dataframe thead th {\n",
       "        text-align: right;\n",
       "    }\n",
       "</style>\n",
       "<table border=\"1\" class=\"dataframe\">\n",
       "  <thead>\n",
       "    <tr style=\"text-align: right;\">\n",
       "      <th></th>\n",
       "      <th>fixed acidity</th>\n",
       "      <th>volatile acidity</th>\n",
       "      <th>citric acid</th>\n",
       "      <th>residual sugar</th>\n",
       "      <th>chlorides</th>\n",
       "      <th>free sulfur dioxide</th>\n",
       "      <th>total sulfur dioxide</th>\n",
       "      <th>density</th>\n",
       "      <th>pH</th>\n",
       "      <th>sulphates</th>\n",
       "      <th>alcohol</th>\n",
       "      <th>quality</th>\n",
       "    </tr>\n",
       "  </thead>\n",
       "  <tbody>\n",
       "    <tr>\n",
       "      <th>0</th>\n",
       "      <td>7.4</td>\n",
       "      <td>0.70</td>\n",
       "      <td>0.00</td>\n",
       "      <td>1.9</td>\n",
       "      <td>0.076</td>\n",
       "      <td>11.0</td>\n",
       "      <td>34.0</td>\n",
       "      <td>0.9978</td>\n",
       "      <td>3.51</td>\n",
       "      <td>0.56</td>\n",
       "      <td>9.4</td>\n",
       "      <td>2</td>\n",
       "    </tr>\n",
       "    <tr>\n",
       "      <th>1</th>\n",
       "      <td>7.8</td>\n",
       "      <td>0.88</td>\n",
       "      <td>0.00</td>\n",
       "      <td>2.6</td>\n",
       "      <td>0.098</td>\n",
       "      <td>25.0</td>\n",
       "      <td>67.0</td>\n",
       "      <td>0.9968</td>\n",
       "      <td>3.20</td>\n",
       "      <td>0.68</td>\n",
       "      <td>9.8</td>\n",
       "      <td>2</td>\n",
       "    </tr>\n",
       "    <tr>\n",
       "      <th>2</th>\n",
       "      <td>7.8</td>\n",
       "      <td>0.76</td>\n",
       "      <td>0.04</td>\n",
       "      <td>2.3</td>\n",
       "      <td>0.092</td>\n",
       "      <td>15.0</td>\n",
       "      <td>54.0</td>\n",
       "      <td>0.9970</td>\n",
       "      <td>3.26</td>\n",
       "      <td>0.65</td>\n",
       "      <td>9.8</td>\n",
       "      <td>2</td>\n",
       "    </tr>\n",
       "    <tr>\n",
       "      <th>3</th>\n",
       "      <td>11.2</td>\n",
       "      <td>0.28</td>\n",
       "      <td>0.56</td>\n",
       "      <td>1.9</td>\n",
       "      <td>0.075</td>\n",
       "      <td>17.0</td>\n",
       "      <td>60.0</td>\n",
       "      <td>0.9980</td>\n",
       "      <td>3.16</td>\n",
       "      <td>0.58</td>\n",
       "      <td>9.8</td>\n",
       "      <td>3</td>\n",
       "    </tr>\n",
       "    <tr>\n",
       "      <th>4</th>\n",
       "      <td>7.4</td>\n",
       "      <td>0.70</td>\n",
       "      <td>0.00</td>\n",
       "      <td>1.9</td>\n",
       "      <td>0.076</td>\n",
       "      <td>11.0</td>\n",
       "      <td>34.0</td>\n",
       "      <td>0.9978</td>\n",
       "      <td>3.51</td>\n",
       "      <td>0.56</td>\n",
       "      <td>9.4</td>\n",
       "      <td>2</td>\n",
       "    </tr>\n",
       "  </tbody>\n",
       "</table>\n",
       "</div>"
      ],
      "text/plain": [
       "   fixed acidity  volatile acidity  citric acid  residual sugar  chlorides  \\\n",
       "0            7.4              0.70         0.00             1.9      0.076   \n",
       "1            7.8              0.88         0.00             2.6      0.098   \n",
       "2            7.8              0.76         0.04             2.3      0.092   \n",
       "3           11.2              0.28         0.56             1.9      0.075   \n",
       "4            7.4              0.70         0.00             1.9      0.076   \n",
       "\n",
       "   free sulfur dioxide  total sulfur dioxide  density    pH  sulphates  \\\n",
       "0                 11.0                  34.0   0.9978  3.51       0.56   \n",
       "1                 25.0                  67.0   0.9968  3.20       0.68   \n",
       "2                 15.0                  54.0   0.9970  3.26       0.65   \n",
       "3                 17.0                  60.0   0.9980  3.16       0.58   \n",
       "4                 11.0                  34.0   0.9978  3.51       0.56   \n",
       "\n",
       "   alcohol  quality  \n",
       "0      9.4        2  \n",
       "1      9.8        2  \n",
       "2      9.8        2  \n",
       "3      9.8        3  \n",
       "4      9.4        2  "
      ]
     },
     "execution_count": 27,
     "metadata": {},
     "output_type": "execute_result"
    }
   ],
   "source": [
    "df = pd.read_csv(\"data/winequality-red.csv\")\n",
    "df_org = df.copy(deep=True)\n",
    "mapping = {3: 0, 4: 1, 5: 2, 6: 3, 7: 4, 8: 5}\n",
    "\n",
    "df.quality = df.quality.map(mapping)\n",
    "print(f\"Data type: {df.dtypes}\")\n",
    "df.head()"
   ]
  },
  {
   "cell_type": "markdown",
   "id": "disturbed-nancy",
   "metadata": {},
   "source": [
    "We don't have any categorical features and target variable is `quality`. We can map this to a more easily interpretable values."
   ]
  },
  {
   "cell_type": "code",
   "execution_count": 37,
   "id": "intellectual-approval",
   "metadata": {},
   "outputs": [],
   "source": [
    "from sklearn.model_selection import train_test_split\n",
    "\n",
    "\n",
    "X = df.drop(\"quality\", axis=1).values\n",
    "y = df.quality\n",
    "\n",
    "X_train, X_test, y_train, y_test = train_test_split(\n",
    "    X, y, shuffle=True, test_size=0.2, stratify=y, random_state=42\n",
    ")\n"
   ]
  },
  {
   "cell_type": "markdown",
   "id": "danish-might",
   "metadata": {},
   "source": [
    "## Overfitting\n",
    "\n",
    "Fine tuning the model to a specific dataset instead of generalizing to underlying distribution of population from which dataset comes from. However, overfitting is a muddy concept and the definition given is far from being a consensus. So to be practical, in quantitative terms, overfitting starts to occur while training error decreases, validation error increases."
   ]
  },
  {
   "cell_type": "code",
   "execution_count": 29,
   "id": "historical-panic",
   "metadata": {},
   "outputs": [
    {
     "name": "stdout",
     "output_type": "stream",
     "text": [
      "Best test accuracy is 0.625 \n",
      "Optimum depth is 23\n"
     ]
    },
    {
     "data": {
      "image/png": "[encoded data removed]",
      "text/plain": [
       "<Figure size 432x288 with 1 Axes>"
      ]
     },
     "metadata": {},
     "output_type": "display_data"
    }
   ],
   "source": [
    "from sklearn import tree\n",
    "from sklearn import metrics\n",
    "\n",
    "fig_cv, ax = plt.subplots(figsize=(6,4))\n",
    "fig_cv.tight_layout()\n",
    "\n",
    "\n",
    "train_accuracies = [0.5]\n",
    "test_accuracies = [0.5]\n",
    "\n",
    "depths = list(range(1,25))\n",
    "\n",
    "for depth in depths:\n",
    "    \n",
    "    decision_tree = tree.DecisionTreeClassifier(max_depth=depth)\n",
    "    decision_tree.fit(X_train, y_train)\n",
    "    \n",
    "    train_accuracy = decision_tree.score(X_train, y_train)\n",
    "    train_accuracies.append(train_accuracy)\n",
    "    \n",
    "    test_accuracy = decision_tree.score(X_test, y_test)\n",
    "    test_accuracies.append(test_accuracy)\n",
    "    \n",
    "\n",
    "print(\"Best test accuracy is\", max(test_accuracies), \"\\nOptimum depth is\",\n",
    "      test_accuracies.index(max(test_accuracies)))\n",
    "\n",
    "ax.plot(train_accuracies, label=\"Train Accuracies\", linestyle=\"dashed\")\n",
    "ax.plot(test_accuracies, label=\"Test Accuracies\")\n",
    "ax.legend(loc=\"upper left\", prop={\"size\":12})\n",
    "ax.set_xlabel(\"max_depth\")\n",
    "ax.set_ylabel(\"accuracy\")\n",
    "plt.show()"
   ]
  },
  {
   "cell_type": "markdown",
   "id": "stupid-wildlife",
   "metadata": {},
   "source": [
    "Splitting data into train and test set is called **holdout validation**. We train the data on train set and check the accuracy on test set. The reason you are getting a different result from the book is that `sample` method chooses datapoints randomly unless given a `random_state` parameter. The book does not declare a specific random state. However, here we use `sklearn` method with a given explicit `random_state`.\n",
    "\n",
    "So far sampling procedure (`wine_df.sample(frac=1)`) did not take into account the distribution of datapoints. We have 6 different quality of wines and ideally distributions of trainingset and testset data points should mimic the entire dataset. Let's check the distributions of all sets. As you can see they are pretty similar, so we can say training set and test set are representative of whole dataset in terms of `quality` (target) variable."
   ]
  },
  {
   "cell_type": "code",
   "execution_count": 33,
   "id": "499d5c85",
   "metadata": {},
   "outputs": [
    {
     "data": {
      "text/plain": [
       "1    0.0375\n",
       "2    0.5075\n",
       "3    0.3550\n",
       "4    0.0925\n",
       "5    0.0075\n",
       "Name: quality, dtype: float64"
      ]
     },
     "execution_count": 33,
     "metadata": {},
     "output_type": "execute_result"
    }
   ],
   "source": [
    "trainset_dist"
   ]
  },
  {
   "cell_type": "code",
   "execution_count": 38,
   "id": "classified-camcorder",
   "metadata": {},
   "outputs": [
    {
     "data": {
      "image/png": "[encoded data removed]",
      "text/plain": [
       "<Figure size 864x576 with 6 Axes>"
      ]
     },
     "metadata": {},
     "output_type": "display_data"
    }
   ],
   "source": [
    "wine_fold = create_folds(df, \"quality\")\n",
    "index = wine_fold[\"kfold\"] == 1\n",
    "wine_fold_1 = wine_fold.loc[index,:]\n",
    "wine_train_df = df.iloc[:1000,:]\n",
    "\n",
    "dataset_dist = df.quality.value_counts().sort_index() / len(df)\n",
    "trainset_dist = wine_train_df.quality.value_counts().sort_index() / len(wine_train_df)\n",
    "winefold_dist = wine_fold_1.quality.value_counts().sort_index().values / len(wine_fold_1)\n",
    "\n",
    "quality_index = [x for x in range(6)]\n",
    "\n",
    "\n",
    "fig, ((ax1, ax2, ax3), (ax4, ax5, ax6)) = plt.subplots(2,3, figsize=(12,8))\n",
    "\n",
    "ax1.bar(quality_index, dataset_dist, label=\"Dataset Dist\")\n",
    "ax1.legend()\n",
    "ax1.set_xticks(quality_index)\n",
    "ax1.set_xlabel(\"quality\")\n",
    "ax1.set_ylabel(\"Ratio\")\n",
    "\n",
    "ax2.bar(quality_index,trainset_dist, label=\"Trainset Dist\")\n",
    "ax2.set_xticks(quality_index)\n",
    "ax2.legend()\n",
    "ax2.set_xlabel(\"quality\")\n",
    "ax2.set_ylabel(\"Ratio\")\n",
    "\n",
    "ax3.bar(quality_index,abs(trainset_dist - dataset_dist)*100, label=\"Difference\", color=\"red\")\n",
    "ax3.set_xticks(quality_index)\n",
    "ax3.legend()\n",
    "ax3.set_xlabel(\"quality\")\n",
    "ax3.set_ylabel(\"Difference(%)\")\n",
    "ax3.set_ylim(0,4)\n",
    "\n",
    "ax4.bar(quality_index,dataset_dist, label=\"Dataset Dist\")\n",
    "ax4.legend()\n",
    "ax4.set_xticks(quality_index)\n",
    "ax4.set_xlabel(\"quality\")\n",
    "ax4.set_ylabel(\"Ratio\")\n",
    "\n",
    "ax5.bar(quality_index,winefold_dist, label=\"Fold Dist\")\n",
    "ax5.set_xticks(quality_index)\n",
    "ax5.legend()\n",
    "ax5.set_xlabel(\"quality\")\n",
    "ax5.set_ylabel(\"Ratio\")\n",
    "\n",
    "ax6.bar(quality_index,abs(winefold_dist - dataset_dist)*100, label=\"Difference\", color=\"red\")\n",
    "ax6.set_xticks(quality_index)\n",
    "ax6.legend()\n",
    "ax6.set_xlabel(\"quality\")\n",
    "ax6.set_ylabel(\"Difference(%)\")\n",
    "ax6.set_ylim(0,4)\n",
    "\n",
    "fig.tight_layout()"
   ]
  },
  {
   "cell_type": "code",
   "execution_count": 21,
   "id": "friendly-pavilion",
   "metadata": {},
   "outputs": [
    {
     "name": "stderr",
     "output_type": "stream",
     "text": [
      "/home/onur/companions/aaamlp/venv/lib/python3.8/site-packages/sklearn/model_selection/_split.py:676: UserWarning: The least populated class in y has only 2 members, which is less than n_splits=5.\n",
      "  warnings.warn(\n"
     ]
    }
   ],
   "source": [
    "from sklearn import datasets\n",
    "from sklearn import model_selection\n",
    "\n",
    "\n",
    "X, y = datasets.make_regression(n_samples=1500, n_features=100,n_targets=1, random_state=40)\n",
    "\n",
    "df = pd.DataFrame(data=X, columns=[f\"x{i}\" for i in range(X.shape[1])])\n",
    "\n",
    "df.loc[:,\"target\"] = y\n",
    "df = create_folds(df,\"target\",binning=True)\n"
   ]
  },
  {
   "cell_type": "markdown",
   "id": "oriental-newton",
   "metadata": {},
   "source": [
    "- why the warning above  is shown? Because the last bin has less data points than 5. Let's count how many data points each bin has:"
   ]
  },
  {
   "cell_type": "code",
   "execution_count": 22,
   "id": "rubber-hampton",
   "metadata": {},
   "outputs": [
    {
     "data": {
      "text/plain": [
       "{'0.Bin': 20,\n",
       " '1.Bin': 50,\n",
       " '2.Bin': 144,\n",
       " '3.Bin': 246,\n",
       " '4.Bin': 325,\n",
       " '5.Bin': 325,\n",
       " '6.Bin': 228,\n",
       " '7.Bin': 115,\n",
       " '8.Bin': 36,\n",
       " '9.Bin': 9,\n",
       " '10.Bin': 2}"
      ]
     },
     "execution_count": 22,
     "metadata": {},
     "output_type": "execute_result"
    }
   ],
   "source": [
    "df.loc[:,\"bins\"] = pd.cut(df[\"target\"], bins=11, labels=False) # 11 comes from Sturge's law\n",
    "bin_count = {}\n",
    "for i in range(11):\n",
    "    index = df[\"bins\"] == i\n",
    "    bin_count[f\"{i}.Bin\"] = len(df[index])\n",
    "    #bin_count.append(len(df[index]))\n",
    "bin_count"
   ]
  }
 ],
 "metadata": {
  "kernelspec": {
   "display_name": "Python 3",
   "language": "python",
   "name": "python3"
  },
  "language_info": {
   "codemirror_mode": {
    "name": "ipython",
    "version": 3
   },
   "file_extension": ".py",
   "mimetype": "text/x-python",
   "name": "python",
   "nbconvert_exporter": "python",
   "pygments_lexer": "ipython3",
   "version": "3.8.12"
  }
 },
 "nbformat": 4,
 "nbformat_minor": 5
}
