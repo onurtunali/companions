{
 "cells": [
  {
   "cell_type": "markdown",
   "id": "dietary-premiere",
   "metadata": {},
   "source": [
    "# Approaching Categorical Variables I \n",
    "\n",
    "There are 2 main categorical variable types: nominal and ordinal. Nominal variables do not have any order to them. On the contrary, ordinal variables can be ranked. In this section, we use [\"cat in the dat\"](https://www.kaggle.com/c/cat-in-the-dat-ii/data) categorical challenge. Purpose of this dataset is to decide whether given datapoint is a cat or not, therefore `target` variable is binary {0,1}."
   ]
  },
  {
   "cell_type": "code",
   "execution_count": 1,
   "id": "deluxe-simulation",
   "metadata": {
    "tags": []
   },
   "outputs": [],
   "source": [
    "import numpy as np\n",
    "import pandas as pd\n",
    "import seaborn as sns\n",
    "\n",
    "sns.set()"
   ]
  },
  {
   "cell_type": "markdown",
   "id": "fa03fcad",
   "metadata": {
    "tags": []
   },
   "source": [
    "This is initial dataset loading step. Feature values will be constantly changing so it's a good idea to keep an original as `df_org`"
   ]
  },
  {
   "cell_type": "code",
   "execution_count": 3,
   "id": "engaging-mills",
   "metadata": {},
   "outputs": [
    {
     "data": {
      "text/plain": [
       "(Index(['bin_0', 'bin_1', 'bin_2', 'bin_3', 'bin_4', 'nom_0', 'nom_1', 'nom_2',\n",
       "        'nom_3', 'nom_4', 'nom_5', 'nom_6', 'nom_7', 'nom_8', 'nom_9', 'ord_0',\n",
       "        'ord_1', 'ord_2', 'ord_3', 'ord_4', 'ord_5', 'day', 'month', 'target'],\n",
       "       dtype='object'),\n",
       " bin_0     float64\n",
       " bin_1     float64\n",
       " bin_2     float64\n",
       " bin_3      object\n",
       " bin_4      object\n",
       " nom_0      object\n",
       " nom_1      object\n",
       " nom_2      object\n",
       " nom_3      object\n",
       " nom_4      object\n",
       " nom_5      object\n",
       " nom_6      object\n",
       " nom_7      object\n",
       " nom_8      object\n",
       " nom_9      object\n",
       " ord_0     float64\n",
       " ord_1      object\n",
       " ord_2      object\n",
       " ord_3      object\n",
       " ord_4      object\n",
       " ord_5      object\n",
       " day       float64\n",
       " month     float64\n",
       " target      int64\n",
       " dtype: object)"
      ]
     },
     "execution_count": 3,
     "metadata": {},
     "output_type": "execute_result"
    }
   ],
   "source": [
    "df_org = pd.read_csv(\"data/catinthedat_train.csv\").drop(\"id\", axis=1)\n",
    "df = df_org.copy(deep=True)\n",
    "df.columns, df.dtypes"
   ]
  },
  {
   "cell_type": "code",
   "execution_count": 5,
   "id": "injured-inquiry",
   "metadata": {},
   "outputs": [
    {
     "data": {
      "text/plain": [
       "<AxesSubplot:xlabel='target', ylabel='Count'>"
      ]
     },
     "execution_count": 5,
     "metadata": {},
     "output_type": "execute_result"
    },
    {
     "data": {
      "image/png": "[encoded data removed]",
      "text/plain": [
       "<Figure size 432x288 with 1 Axes>"
      ]
     },
     "metadata": {},
     "output_type": "display_data"
    }
   ],
   "source": [
    "sns.histplot(data=df, x=\"target\")"
   ]
  },
  {
   "cell_type": "markdown",
   "id": "clear-premiere",
   "metadata": {},
   "source": [
    "Target is skewed so accuracy metric is out the door. We need an appropriate metric such as AUC for ROC or precision/recall. Before mapping a feature to new values, let's show value counts of feature `ord_2`."
   ]
  },
  {
   "cell_type": "code",
   "execution_count": 13,
   "id": "superb-pharmacy",
   "metadata": {},
   "outputs": [
    {
     "data": {
      "text/plain": [
       "Freezing       142726\n",
       "Warm           124239\n",
       "Cold            97822\n",
       "Boiling Hot     84790\n",
       "Hot             67508\n",
       "Lava Hot        64840\n",
       "Name: ord_2, dtype: int64"
      ]
     },
     "execution_count": 13,
     "metadata": {},
     "output_type": "execute_result"
    }
   ],
   "source": [
    "df.ord_2.value_counts()"
   ]
  },
  {
   "cell_type": "markdown",
   "id": "elementary-sucking",
   "metadata": {},
   "source": [
    "Now we can employ **label encoding** which is turning the values of categorical features into numerical values."
   ]
  },
  {
   "cell_type": "code",
   "execution_count": 14,
   "id": "boolean-theater",
   "metadata": {},
   "outputs": [
    {
     "data": {
      "text/plain": [
       "0.0    142726\n",
       "2.0    124239\n",
       "1.0     97822\n",
       "4.0     84790\n",
       "3.0     67508\n",
       "5.0     64840\n",
       "Name: ord_2, dtype: int64"
      ]
     },
     "execution_count": 14,
     "metadata": {},
     "output_type": "execute_result"
    }
   ],
   "source": [
    "df = df_org.copy()\n",
    "\n",
    "mapping = {\n",
    "    \"Freezing\":0,\n",
    "    \"Cold\":1,\n",
    "    \"Warm\":2,\n",
    "    \"Hot\":3,\n",
    "    \"Boiling Hot\":4,\n",
    "    \"Lava Hot\":5\n",
    "}\n",
    "\n",
    "df.loc[:,\"ord_2\"] = df_org.ord_2.map(mapping)\n",
    "print(df.ord_2.value_counts())\n",
    "\n",
    "from sklearn.preprocessing import OrdinalEncoder\n",
    "\n",
    "ordinal_encoder = OrdinalEncoder()\n"
   ]
  },
  {
   "cell_type": "markdown",
   "id": "banner-application",
   "metadata": {},
   "source": [
    "This time we use label encoding method of scikit-learn library. Since Scikit-learn doesn't handle nan valuess we need to fill them with our preference. However one should note that the official documentation discourages using `LabelEncoder` for feature processing. It's recommended such that this class should be used for target encoding."
   ]
  },
  {
   "cell_type": "code",
   "execution_count": 20,
   "id": "elect-cedar",
   "metadata": {},
   "outputs": [
    {
     "name": "stdout",
     "output_type": "stream",
     "text": [
      "0     84790\n",
      "1     97822\n",
      "2    142726\n",
      "3     67508\n",
      "4     64840\n",
      "5     18075\n",
      "6    124239\n",
      "Name: ord_2, dtype: int64 \n",
      "\n",
      "Boiling Hot     84790\n",
      "Cold            97822\n",
      "Freezing       142726\n",
      "Hot             67508\n",
      "Lava Hot        64840\n",
      "Warm           124239\n",
      "Name: ord_2, dtype: int64\n"
     ]
    }
   ],
   "source": [
    "from sklearn.preprocessing import LabelEncoder\n",
    "\n",
    "df = df_org.copy()\n",
    "df.ord_2 = df.ord_2.fillna(\"NONE\") \n",
    "\n",
    "# Label encoder uses string and assigns values alphabetically \n",
    "label_encoder = LabelEncoder()\n",
    "df.loc[:,\"ord_2\"] = label_encoder.fit_transform(df.ord_2.values)\n",
    "\n",
    "# Let's compare the order with the original categories\n",
    "print(f'{df.ord_2.value_counts().sort_index()} \\n\\n{df_org.ord_2.value_counts().sort_index()}')"
   ]
  },
  {
   "cell_type": "markdown",
   "id": "adolescent-mixer",
   "metadata": {},
   "source": [
    "Be aware of the mechanism `label_encoder` assigns values. Instead of literal meanings, order is given alphabetically. If numerical values were to indicate a rank, giving the value 0 to `freezing` would be more appropriate. Instead, it is ranked third. Additionally, 'nan' values are also taken care of in scikit method.\n",
    "\n",
    "Categorical encoding cannot be used with linear models, svm and neural networks which expect data to be normalized or standardized. Numerically, values must be between 0 and 1. "
   ]
  },
  {
   "cell_type": "code",
   "execution_count": 21,
   "id": "aware-intranet",
   "metadata": {},
   "outputs": [
    {
     "name": "stdout",
     "output_type": "stream",
     "text": [
      "Size of dense array: 5.248 MBs\n",
      "Size of sparse array: 0.008 MBs\n"
     ]
    }
   ],
   "source": [
    "from sklearn.preprocessing import OneHotEncoder\n",
    "\n",
    "example = np.random.randint(1000, size=1000)\n",
    "ohe = OneHotEncoder(sparse=False)\n",
    "ohe_example = ohe.fit_transform(example.reshape(-1,1))\n",
    "print(f\"Size of dense array: {ohe_example.nbytes / 1_000_000} MBs\")\n",
    "\n",
    "ohe = OneHotEncoder(sparse=True)\n",
    "ohe_example = ohe.fit_transform(example.reshape(-1,1))\n",
    "print(f\"Size of sparse array: {ohe_example.data.nbytes / 1_000_000} MBs\")"
   ]
  },
  {
   "cell_type": "markdown",
   "id": "prostate-christmas",
   "metadata": {},
   "source": [
    "When dealing with categorical features, a value not inside defined range of feature causes errors. Your production model needs to be robust in these new occasions. This new value is known as the “rare”. A rare value is not seen very often and might differ drastically. You can also try to “predict” the unknown category by using a nearest neighbour model. Remember, if you predict this category, it will become one of the categories from the training data."
   ]
  },
  {
   "cell_type": "code",
   "execution_count": 22,
   "id": "humanitarian-terrorist",
   "metadata": {},
   "outputs": [],
   "source": [
    "train = pd.read_csv(\"data/catinthedat_train.csv\")\n",
    "test = pd.read_csv(\"data/catinthedat_test.csv\")\n",
    "test[\"target\"] = -1"
   ]
  },
  {
   "cell_type": "code",
   "execution_count": 23,
   "id": "blond-botswana",
   "metadata": {
    "collapsed": true,
    "jupyter": {
     "outputs_hidden": true
    }
   },
   "outputs": [
    {
     "name": "stdout",
     "output_type": "stream",
     "text": [
      "bin_0 [ 0.  1. nan]\n",
      "bin_1 [ 0.  1. nan]\n",
      "bin_2 [ 0.  1. nan]\n",
      "bin_3 ['F' 'T' nan]\n",
      "bin_4 ['N' 'Y' nan]\n",
      "nom_0 ['Red' 'Blue' 'Green' nan]\n",
      "nom_1 ['Trapezoid' 'Star' nan 'Circle' 'Triangle']\n",
      "nom_2 ['Hamster' 'Axolotl' 'Lion' 'Dog' 'Cat']\n",
      "nom_3 ['Russia' nan 'Canada' 'Finland' 'Costa Rica']\n",
      "nom_4 ['Bassoon' 'Theremin' nan 'Oboe' 'Piano']\n",
      "nom_5 ['de4c57ee2' '2bb3c3e5c' 'b574c9841' '673bdf1f6' '777d1ac2c']\n",
      "nom_6 ['a64bc7ddf' '3a3a936e8' '708248125' '23edb8da3' '3a7975e46']\n",
      "nom_7 ['598080a91' '1dddb8473' '5ddc9a726' '3a33ef960' 'bc9cc2a94']\n",
      "nom_8 ['0256c7a4b' '52ead350c' '745b909d1' 'bdaa56dd1' nan]\n",
      "nom_9 ['02e7c8990' 'f37df64af' nan 'f9d456e57' 'c5361037c']\n",
      "ord_0 [ 3.  1.  2. nan]\n",
      "ord_1 ['Contributor' 'Grandmaster' nan 'Novice' 'Expert']\n",
      "ord_2 ['Hot' 'Warm' 'Freezing' 'Lava Hot' 'Cold']\n",
      "ord_3 ['c' 'e' 'n' 'a' 'h']\n",
      "ord_4 ['U' 'X' 'P' 'C' 'Q']\n",
      "ord_5 ['Pw' 'pE' 'eN' nan 'OZ']\n",
      "day [6. 7. 5. 3. 1.]\n",
      "month [ 3.  7.  9. 12.  4.]\n",
      "target [0 1]\n"
     ]
    }
   ],
   "source": [
    "for col in train.columns[1:]: #excluding id\n",
    "    print(col, train[col].unique()[:5])"
   ]
  },
  {
   "cell_type": "markdown",
   "id": "dependent-plaza",
   "metadata": {},
   "source": [
    "We have some `nan` values in certain features. Before transforming the values let's fill `nan` values with 'NONE' string."
   ]
  },
  {
   "cell_type": "code",
   "execution_count": 24,
   "id": "medical-result",
   "metadata": {},
   "outputs": [],
   "source": [
    "train = train.fillna('NONE')\n",
    "test = test.fillna('NONE')"
   ]
  },
  {
   "cell_type": "markdown",
   "id": "occupational-membrane",
   "metadata": {},
   "source": [
    "Now we need to confirm all `nan` values are replaced with 'NONE'."
   ]
  },
  {
   "cell_type": "code",
   "execution_count": 25,
   "id": "signal-patrol",
   "metadata": {
    "collapsed": true,
    "jupyter": {
     "outputs_hidden": true
    }
   },
   "outputs": [
    {
     "name": "stdout",
     "output_type": "stream",
     "text": [
      "bin_0 [0.0 1.0 'NONE']\n",
      "bin_1 [0.0 1.0 'NONE']\n",
      "bin_2 [0.0 1.0 'NONE']\n",
      "bin_3 ['F' 'T' 'NONE']\n",
      "bin_4 ['N' 'Y' 'NONE']\n",
      "nom_0 ['Red' 'Blue' 'Green' 'NONE']\n",
      "nom_1 ['Trapezoid' 'Star' 'NONE' 'Circle' 'Triangle' 'Polygon' 'Square']\n",
      "nom_2 ['Hamster' 'Axolotl' 'Lion' 'Dog' 'Cat' 'Snake' 'NONE']\n",
      "nom_3 ['Russia' 'NONE' 'Canada' 'Finland' 'Costa Rica' 'China' 'India']\n",
      "nom_4 ['Bassoon' 'Theremin' 'NONE' 'Oboe' 'Piano']\n",
      "nom_5 ['de4c57ee2' '2bb3c3e5c' 'b574c9841' '673bdf1f6' '777d1ac2c' 'a2e1bf0b1'\n",
      " '87a5be0d7' '104aee31d' '024efa364' '9fa084b36']\n",
      "nom_6 ['a64bc7ddf' '3a3a936e8' '708248125' '23edb8da3' '3a7975e46' 'ae6737c29'\n",
      " 'cdc35bd00' '2a50808ba' 'a4a81ab45' 'e7aa94f40']\n",
      "nom_7 ['598080a91' '1dddb8473' '5ddc9a726' '3a33ef960' 'bc9cc2a94' '8c30b9b0b'\n",
      " '1cba571fa' '81d67e1bb' '429114096' '56d35c774']\n",
      "nom_8 ['0256c7a4b' '52ead350c' '745b909d1' 'bdaa56dd1' 'NONE' '690411ac0'\n",
      " 'b8e63cace' 'bd9643a20' '94c5fd40c' '0279391c5']\n",
      "nom_9 ['02e7c8990' 'f37df64af' 'NONE' 'f9d456e57' 'c5361037c' '05afc0f8b'\n",
      " '4d3766412' 'a651dec43' '79b29d54c' '9bfe3ee22']\n",
      "ord_0 [3.0 1.0 2.0 'NONE']\n",
      "ord_1 ['Contributor' 'Grandmaster' 'NONE' 'Novice' 'Expert' 'Master']\n",
      "ord_2 ['Hot' 'Warm' 'Freezing' 'Lava Hot' 'Cold' 'Boiling Hot' 'NONE']\n",
      "ord_3 ['c' 'e' 'n' 'a' 'h' 'b' 'd' 'k' 'g' 'o']\n",
      "ord_4 ['U' 'X' 'P' 'C' 'Q' 'R' 'Y' 'N' 'I' 'O']\n",
      "ord_5 ['Pw' 'pE' 'eN' 'NONE' 'OZ' 'wa' 'rg' 'PS' 'mX' 'hG']\n",
      "day [6.0 7.0 5.0 3.0 1.0 2.0 'NONE' 4.0]\n",
      "month [3.0 7.0 9.0 12.0 4.0 6.0 1.0 8.0 5.0 11.0]\n",
      "target [0 1]\n"
     ]
    }
   ],
   "source": [
    "for col in train.columns[1:]: #excluding id\n",
    "    print(col, train[col].unique()[:10])"
   ]
  },
  {
   "cell_type": "markdown",
   "id": "73bf1880",
   "metadata": {},
   "source": [
    "Let's write a function to check unique values between train and test. We exclude the id feature because all the values are unique and throws a warning"
   ]
  },
  {
   "cell_type": "code",
   "execution_count": 26,
   "id": "vocational-circuit",
   "metadata": {},
   "outputs": [
    {
     "name": "stdout",
     "output_type": "stream",
     "text": [
      "Rare feature: nom_5\n",
      "{'b3ad70fcb'}\n",
      "Rare feature: nom_6\n",
      "{'a885aacec', 'f0732a795', '3a121fefb', 'ee6983c6d'}\n",
      "Rare feature: nom_9\n",
      "{'3d19cd31d', '1065f10dd'}\n",
      "Rare feature: target\n",
      "{0, 1, -1}\n"
     ]
    }
   ],
   "source": [
    "def check_unique(train, test):    \n",
    "    unique_values = {}\n",
    "    \n",
    "    for col in train.columns:\n",
    "        if 'id' == col:\n",
    "            continue\n",
    "        \n",
    "        train_array = list(train[col].unique())\n",
    "        if 'NONE' in train_array:\n",
    "            train_array.remove('NONE')\n",
    "        train_set = set(train_array)\n",
    "        \n",
    "        test_array = list(test[col].unique())\n",
    "        if 'NONE' in test_array:\n",
    "            test_array.remove('NONE')\n",
    "        test_set = set(test_array)\n",
    "        \n",
    "        \n",
    "        difference = set(list(test_set.difference(train_set)) + list(train_set.difference(test_set)))\n",
    "        \n",
    "        if len(difference) > 0:\n",
    "            print(f'Rare feature: {col}')\n",
    "            unique_values[col] = difference\n",
    "            print(difference)\n",
    "            \n",
    "    return unique_values\n",
    "    \n",
    "unique_values = check_unique(train, test)"
   ]
  },
  {
   "cell_type": "markdown",
   "id": "toxic-mistake",
   "metadata": {},
   "source": [
    "We need to exclude `id` feature due to excessive amount of unique elements. Now we can run label encoder on every feature using scikit-learn. "
   ]
  },
  {
   "cell_type": "code",
   "execution_count": 29,
   "id": "under-facial",
   "metadata": {},
   "outputs": [],
   "source": [
    "data = pd.concat([train, test], axis=0).reset_index(drop=True)\n",
    "features = [x for x in data.columns if x not in [\"id\", \"target\"]]\n",
    "\n",
    "for feat in features:\n",
    "    lbl_enc = LabelEncoder()\n",
    "    temp_col = data[feat].fillna(\"NONE\").astype(str).values\n",
    "    data.loc[:,feat] = lbl_enc.fit_transform(temp_col)\n",
    "    \n",
    "train = data[data.target != -1].reset_index(drop=True)\n",
    "test = data[data.target == -1].reset_index(drop=True)"
   ]
  },
  {
   "cell_type": "markdown",
   "id": "quality-influence",
   "metadata": {},
   "source": [
    "Going back to original dataset, this time we determine a criteria to identify certain values of a feature as rare and label them as such."
   ]
  },
  {
   "cell_type": "code",
   "execution_count": 32,
   "id": "lucky-shepherd",
   "metadata": {
    "collapsed": true,
    "jupyter": {
     "outputs_hidden": true
    }
   },
   "outputs": [
    {
     "data": {
      "text/plain": [
       "N       39978\n",
       "P       37890\n",
       "Y       36657\n",
       "A       36633\n",
       "R       33045\n",
       "U       32897\n",
       "M       32504\n",
       "X       32347\n",
       "C       32112\n",
       "H       31189\n",
       "Q       30145\n",
       "T       29723\n",
       "O       25610\n",
       "B       25212\n",
       "E       21871\n",
       "K       21676\n",
       "I       19805\n",
       "NONE    17930\n",
       "D       17284\n",
       "F       16721\n",
       "W        8268\n",
       "Z        5790\n",
       "S        4595\n",
       "G        3404\n",
       "V        3107\n",
       "J        1950\n",
       "L        1657\n",
       "Name: ord_4, dtype: int64"
      ]
     },
     "execution_count": 32,
     "metadata": {},
     "output_type": "execute_result"
    }
   ],
   "source": [
    "df = df_org.copy(deep=True)\n",
    "df.ord_4 = df.ord_4.fillna('NONE')\n",
    "df.ord_4.value_counts()"
   ]
  },
  {
   "cell_type": "markdown",
   "id": "reasonable-timing",
   "metadata": {},
   "source": [
    "We have approximately 18000 `nan` values and some values fewer than 2000. For values occurring less than 2000 times, they will be changed to 'Rare'. However, there is a little bit `pandas` magic in the book and needs to be explained in detail. Code in the book is as follow:\n",
    "\n",
    "```python\n",
    ">> df.ord_4 = df.ord_4.fillna(\"NONE\")\n",
    ">> df.loc[\n",
    "    df[\"ord_4\"].value_counts()[df[\"ord_4\"]].values < 2000, \"ord_4\"\n",
    "] = \"RARE\"\n",
    "```\n",
    "- This will map every value with count less than 2000 to 'RARE'. So how does it work? Let's decompose the code.\n",
    "\n",
    "- We need an index for all rows of `df['ord_4']`, in this case a boolean mask, indicating values having counts more than 2000. But, at first look it's not clear how `df['ord_4']` indexes `df[\"ord_4\"].value_counts()[]`. We know that bracket `[]` operator chooses according to the column names. The key insights here are\n",
    "   - First, `df['ord_4']` and `df[\"ord_4\"].value_counts()` are pandas series so they are indexed through their indexes not columns.\n",
    "   - Second,`df['ord_4']` choosing the corresponding value in `df[\"ord_4\"].value_counts()[]` again and again. Finally this creates a mapping between the values in `df[\"ord_4\"]` to their counts. \n",
    "  \n",
    "Let's show this with a dataframe first and then a series."
   ]
  },
  {
   "cell_type": "code",
   "execution_count": 33,
   "id": "powerful-jacksonville",
   "metadata": {},
   "outputs": [
    {
     "data": {
      "text/html": [
       "<div>\n",
       "<style scoped>\n",
       "    .dataframe tbody tr th:only-of-type {\n",
       "        vertical-align: middle;\n",
       "    }\n",
       "\n",
       "    .dataframe tbody tr th {\n",
       "        vertical-align: top;\n",
       "    }\n",
       "\n",
       "    .dataframe thead th {\n",
       "        text-align: right;\n",
       "    }\n",
       "</style>\n",
       "<table border=\"1\" class=\"dataframe\">\n",
       "  <thead>\n",
       "    <tr style=\"text-align: right;\">\n",
       "      <th></th>\n",
       "      <th>a</th>\n",
       "      <th>b</th>\n",
       "      <th>c</th>\n",
       "    </tr>\n",
       "  </thead>\n",
       "  <tbody>\n",
       "    <tr>\n",
       "      <th>101</th>\n",
       "      <td>3</td>\n",
       "      <td>2</td>\n",
       "      <td>1</td>\n",
       "    </tr>\n",
       "    <tr>\n",
       "      <th>102</th>\n",
       "      <td>3</td>\n",
       "      <td>-1</td>\n",
       "      <td>10</td>\n",
       "    </tr>\n",
       "    <tr>\n",
       "      <th>103</th>\n",
       "      <td>8</td>\n",
       "      <td>7</td>\n",
       "      <td>9</td>\n",
       "    </tr>\n",
       "    <tr>\n",
       "      <th>104</th>\n",
       "      <td>8</td>\n",
       "      <td>-1</td>\n",
       "      <td>10</td>\n",
       "    </tr>\n",
       "    <tr>\n",
       "      <th>105</th>\n",
       "      <td>1</td>\n",
       "      <td>-1</td>\n",
       "      <td>10</td>\n",
       "    </tr>\n",
       "  </tbody>\n",
       "</table>\n",
       "</div>"
      ],
      "text/plain": [
       "     a  b   c\n",
       "101  3  2   1\n",
       "102  3 -1  10\n",
       "103  8  7   9\n",
       "104  8 -1  10\n",
       "105  1 -1  10"
      ]
     },
     "execution_count": 33,
     "metadata": {},
     "output_type": "execute_result"
    }
   ],
   "source": [
    "data = [[3,2,1],[3,-1,10],[8,7,9],[8,-1,10],[1,-1,10]]\n",
    "features = [\"a\", \"b\", \"c\"]\n",
    "idx = [101,102,103,104,105]\n",
    "df_ex= pd.DataFrame(data=data, columns=features, index=idx)\n",
    "df_ex"
   ]
  },
  {
   "cell_type": "markdown",
   "id": "danish-cameroon",
   "metadata": {},
   "source": [
    "And now let's index this with choosing the same column again and again."
   ]
  },
  {
   "cell_type": "code",
   "execution_count": 34,
   "id": "phantom-behalf",
   "metadata": {},
   "outputs": [
    {
     "data": {
      "text/html": [
       "<div>\n",
       "<style scoped>\n",
       "    .dataframe tbody tr th:only-of-type {\n",
       "        vertical-align: middle;\n",
       "    }\n",
       "\n",
       "    .dataframe tbody tr th {\n",
       "        vertical-align: top;\n",
       "    }\n",
       "\n",
       "    .dataframe thead th {\n",
       "        text-align: right;\n",
       "    }\n",
       "</style>\n",
       "<table border=\"1\" class=\"dataframe\">\n",
       "  <thead>\n",
       "    <tr style=\"text-align: right;\">\n",
       "      <th></th>\n",
       "      <th>a</th>\n",
       "      <th>a</th>\n",
       "      <th>c</th>\n",
       "      <th>b</th>\n",
       "      <th>b</th>\n",
       "      <th>c</th>\n",
       "    </tr>\n",
       "  </thead>\n",
       "  <tbody>\n",
       "    <tr>\n",
       "      <th>101</th>\n",
       "      <td>3</td>\n",
       "      <td>3</td>\n",
       "      <td>1</td>\n",
       "      <td>2</td>\n",
       "      <td>2</td>\n",
       "      <td>1</td>\n",
       "    </tr>\n",
       "    <tr>\n",
       "      <th>102</th>\n",
       "      <td>3</td>\n",
       "      <td>3</td>\n",
       "      <td>10</td>\n",
       "      <td>-1</td>\n",
       "      <td>-1</td>\n",
       "      <td>10</td>\n",
       "    </tr>\n",
       "    <tr>\n",
       "      <th>103</th>\n",
       "      <td>8</td>\n",
       "      <td>8</td>\n",
       "      <td>9</td>\n",
       "      <td>7</td>\n",
       "      <td>7</td>\n",
       "      <td>9</td>\n",
       "    </tr>\n",
       "    <tr>\n",
       "      <th>104</th>\n",
       "      <td>8</td>\n",
       "      <td>8</td>\n",
       "      <td>10</td>\n",
       "      <td>-1</td>\n",
       "      <td>-1</td>\n",
       "      <td>10</td>\n",
       "    </tr>\n",
       "    <tr>\n",
       "      <th>105</th>\n",
       "      <td>1</td>\n",
       "      <td>1</td>\n",
       "      <td>10</td>\n",
       "      <td>-1</td>\n",
       "      <td>-1</td>\n",
       "      <td>10</td>\n",
       "    </tr>\n",
       "  </tbody>\n",
       "</table>\n",
       "</div>"
      ],
      "text/plain": [
       "     a  a   c  b  b   c\n",
       "101  3  3   1  2  2   1\n",
       "102  3  3  10 -1 -1  10\n",
       "103  8  8   9  7  7   9\n",
       "104  8  8  10 -1 -1  10\n",
       "105  1  1  10 -1 -1  10"
      ]
     },
     "execution_count": 34,
     "metadata": {},
     "output_type": "execute_result"
    }
   ],
   "source": [
    "index = ['a','a','c','b','b','c']\n",
    "df_ex[index]"
   ]
  },
  {
   "cell_type": "markdown",
   "id": "incredible-alexander",
   "metadata": {},
   "source": [
    "Nevertheless, a series needs to be indexed through its indexes. Bracket `[]` operator works differently. "
   ]
  },
  {
   "cell_type": "code",
   "execution_count": 35,
   "id": "defined-drawing",
   "metadata": {},
   "outputs": [
    {
     "name": "stdout",
     "output_type": "stream",
     "text": [
      "Series 1\n",
      "101    a\n",
      "102    b\n",
      "103    a\n",
      "104    c\n",
      "105    b\n",
      "106    a\n",
      "dtype: object\n",
      "\n",
      "Series2\n",
      "a    3\n",
      "b    2\n",
      "c    1\n",
      "dtype: int64\n",
      "Mapping the count to all values\n",
      "a    3\n",
      "b    2\n",
      "a    3\n",
      "c    1\n",
      "b    2\n",
      "a    3\n",
      "dtype: int64\n",
      "Checking counts\n",
      "[False False False  True False False]\n",
      "Remapping as \"RARE\" counts\n",
      "101       a\n",
      "102       b\n",
      "103       a\n",
      "104    RARE\n",
      "105       b\n",
      "106       a\n",
      "dtype: object\n"
     ]
    }
   ],
   "source": [
    "series = pd.Series(['a','b','a','c','b','a'], index=[101,102,103,104,105,106])\n",
    "value_count = pd.Series([3,2,1], index=['a','b','c'])\n",
    "\n",
    "print(f'Series 1\\n{series}\\n\\nSeries2\\n{value_count}')\n",
    "print(f'Mapping the count to all values\\n{value_count[series]}')\n",
    "# Checking whether values are less than 1 \n",
    "print(f'Checking counts\\n{value_count[series].values < 2}')\n",
    "series[value_count[series].values < 2] = \"RARE\"\n",
    "print(f'Remapping as \"RARE\" counts\\n{series}')\n"
   ]
  },
  {
   "cell_type": "markdown",
   "id": "adjustable-storm",
   "metadata": {},
   "source": [
    "Finally, we assign `'RARE'` values."
   ]
  },
  {
   "cell_type": "code",
   "execution_count": 36,
   "id": "similar-width",
   "metadata": {},
   "outputs": [],
   "source": [
    "df.loc[\n",
    "    df[\"ord_4\"].value_counts()[df[\"ord_4\"]].values < 2000, \"ord_4\"\n",
    "] = \"RARE\""
   ]
  },
  {
   "cell_type": "markdown",
   "id": "referenced-fundamental",
   "metadata": {},
   "source": [
    "Finally, we can get one hot encoding with `pd.get_dummies` method. First, we choose non number columns and change the data types to category. And then method easily transforms the given column into encoding. One should note that final column would be dropped since it doesn't bring any extra information such that full 0 columns indicate the last category. In other words, assuming we have 4 different unique categories for a column, placing a 1 in any three columns indicates the first 3 categories and placing a 0 in every three columns indicates the last category. No need to increase number of columns "
   ]
  },
  {
   "cell_type": "code",
   "execution_count": 24,
   "id": "respiratory-architecture",
   "metadata": {},
   "outputs": [
    {
     "name": "stdout",
     "output_type": "stream",
     "text": [
      "['Red', 'Blue', 'Green', NaN]\n",
      "Categories (3, object): ['Blue', 'Green', 'Red']\n"
     ]
    },
    {
     "data": {
      "text/html": [
       "<div>\n",
       "<style scoped>\n",
       "    .dataframe tbody tr th:only-of-type {\n",
       "        vertical-align: middle;\n",
       "    }\n",
       "\n",
       "    .dataframe tbody tr th {\n",
       "        vertical-align: top;\n",
       "    }\n",
       "\n",
       "    .dataframe thead th {\n",
       "        text-align: right;\n",
       "    }\n",
       "</style>\n",
       "<table border=\"1\" class=\"dataframe\">\n",
       "  <thead>\n",
       "    <tr style=\"text-align: right;\">\n",
       "      <th></th>\n",
       "      <th>Blue</th>\n",
       "      <th>Green</th>\n",
       "      <th>Red</th>\n",
       "    </tr>\n",
       "  </thead>\n",
       "  <tbody>\n",
       "    <tr>\n",
       "      <th>0</th>\n",
       "      <td>0</td>\n",
       "      <td>0</td>\n",
       "      <td>1</td>\n",
       "    </tr>\n",
       "    <tr>\n",
       "      <th>1</th>\n",
       "      <td>0</td>\n",
       "      <td>0</td>\n",
       "      <td>1</td>\n",
       "    </tr>\n",
       "    <tr>\n",
       "      <th>2</th>\n",
       "      <td>0</td>\n",
       "      <td>0</td>\n",
       "      <td>1</td>\n",
       "    </tr>\n",
       "    <tr>\n",
       "      <th>3</th>\n",
       "      <td>0</td>\n",
       "      <td>0</td>\n",
       "      <td>1</td>\n",
       "    </tr>\n",
       "    <tr>\n",
       "      <th>4</th>\n",
       "      <td>0</td>\n",
       "      <td>0</td>\n",
       "      <td>1</td>\n",
       "    </tr>\n",
       "    <tr>\n",
       "      <th>...</th>\n",
       "      <td>...</td>\n",
       "      <td>...</td>\n",
       "      <td>...</td>\n",
       "    </tr>\n",
       "    <tr>\n",
       "      <th>599995</th>\n",
       "      <td>0</td>\n",
       "      <td>0</td>\n",
       "      <td>1</td>\n",
       "    </tr>\n",
       "    <tr>\n",
       "      <th>599996</th>\n",
       "      <td>1</td>\n",
       "      <td>0</td>\n",
       "      <td>0</td>\n",
       "    </tr>\n",
       "    <tr>\n",
       "      <th>599997</th>\n",
       "      <td>0</td>\n",
       "      <td>0</td>\n",
       "      <td>1</td>\n",
       "    </tr>\n",
       "    <tr>\n",
       "      <th>599998</th>\n",
       "      <td>0</td>\n",
       "      <td>0</td>\n",
       "      <td>0</td>\n",
       "    </tr>\n",
       "    <tr>\n",
       "      <th>599999</th>\n",
       "      <td>1</td>\n",
       "      <td>0</td>\n",
       "      <td>0</td>\n",
       "    </tr>\n",
       "  </tbody>\n",
       "</table>\n",
       "<p>600000 rows × 3 columns</p>\n",
       "</div>"
      ],
      "text/plain": [
       "        Blue  Green  Red\n",
       "0          0      0    1\n",
       "1          0      0    1\n",
       "2          0      0    1\n",
       "3          0      0    1\n",
       "4          0      0    1\n",
       "...      ...    ...  ...\n",
       "599995     0      0    1\n",
       "599996     1      0    0\n",
       "599997     0      0    1\n",
       "599998     0      0    0\n",
       "599999     1      0    0\n",
       "\n",
       "[600000 rows x 3 columns]"
      ]
     },
     "execution_count": 24,
     "metadata": {},
     "output_type": "execute_result"
    }
   ],
   "source": [
    "df = pd.read_csv(\"data/catinthedat_train.csv\").drop(\"id\", axis=1)\n",
    "categorical_columns = df.select_dtypes(exclude=\"number\").columns\n",
    "df[categorical_columns] = df[categorical_columns].astype(\"category\")\n",
    "c = 2\n",
    "print(df[categorical_columns[c]].unique())\n",
    "pd.get_dummies(df[categorical_columns[c]])"
   ]
  }
 ],
 "metadata": {
  "kernelspec": {
   "display_name": "Python 3 (ipykernel)",
   "language": "python",
   "name": "python3"
  },
  "language_info": {
   "codemirror_mode": {
    "name": "ipython",
    "version": 3
   },
   "file_extension": ".py",
   "mimetype": "text/x-python",
   "name": "python",
   "nbconvert_exporter": "python",
   "pygments_lexer": "ipython3",
   "version": "3.8.12"
  }
 },
 "nbformat": 4,
 "nbformat_minor": 5
}
