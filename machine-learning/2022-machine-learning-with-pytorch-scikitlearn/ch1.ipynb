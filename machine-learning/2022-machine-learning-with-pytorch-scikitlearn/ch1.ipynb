{
 "cells": [
  {
   "cell_type": "markdown",
   "metadata": {},
   "source": [
    "# 1 Giving Computers the Ability to Learn from Data\n",
    "\n",
    "\n",
    "## Notation\n",
    "\n",
    "- Vectors are lower case bold, matrices are upper case bold. \n",
    "- Every data point $\\bf{x}^{(i)} \\in \\mathbb{R}^{1 \\times m}$ denoted with superscript and  a row vector. Single elements are italic $x_{m}^{(i)}$\n",
    "- All data points $\\bf{X}\\in \\mathbb{R}^{ n\\times m}$ denoted with a matrix composed of row vectors as data points.\n",
    "- Target variables are column vectors $\\bf{y} \\in \\mathbb{R}^{n \\times 1}$"
   ]
  }
 ],
 "metadata": {
  "kernelspec": {
   "display_name": "ml",
   "language": "python",
   "name": "python3"
  },
  "language_info": {
   "name": "python",
   "version": "3.10.14"
  }
 },
 "nbformat": 4,
 "nbformat_minor": 2
}
