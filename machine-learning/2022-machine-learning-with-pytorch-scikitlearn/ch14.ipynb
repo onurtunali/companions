{
 "cells": [
  {
   "cell_type": "markdown",
   "metadata": {},
   "source": [
    "# Classifying Images with Deep Convolutional Neural Networks\n",
    "\n",
    "- Convolutions are denoted with $*$ and for $y = \\bf{x} * \\bf{w},~\\bf{w}$ is called filter or kernel\n",
    "- "
   ]
  },
  {
   "cell_type": "code",
   "execution_count": null,
   "metadata": {},
   "outputs": [],
   "source": []
  }
 ],
 "metadata": {
  "kernelspec": {
   "display_name": "ml",
   "language": "python",
   "name": "python3"
  },
  "language_info": {
   "name": "python",
   "version": "3.10.12"
  }
 },
 "nbformat": 4,
 "nbformat_minor": 2
}
