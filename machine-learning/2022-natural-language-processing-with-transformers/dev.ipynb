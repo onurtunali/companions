{
 "cells": [
  {
   "cell_type": "code",
   "execution_count": null,
   "metadata": {},
   "outputs": [
    {
     "name": "stdout",
     "output_type": "stream",
     "text": [
      "4 7\n",
      "6 7\n"
     ]
    },
    {
     "data": {
      "text/plain": [
       "6"
      ]
     },
     "execution_count": 28,
     "metadata": {},
     "output_type": "execute_result"
    }
   ],
   "source": [
    "def binary_search(array, value):\n",
    "    high, low = len(array), 0\n",
    "    while low <= high:\n",
    "        mid = (high + low) // 2\n",
    "        if value < array[mid]:\n",
    "            high, low = mid - 1, low\n",
    "        elif array[mid] == value:\n",
    "            return mid\n",
    "        elif array[mid] < value:\n",
    "            high, low = high, mid + 1\n",
    "        print(low, high)\n",
    "    print(\"Not in the array\")\n",
    "    return None\n",
    "\n",
    "\n",
    "binary_search(\n",
    "    [\n",
    "        1,\n",
    "        3,\n",
    "        6,\n",
    "        7,\n",
    "        12,\n",
    "        25,\n",
    "        89,\n",
    "        100,\n",
    "    ],\n",
    "    89,\n",
    ")\n"
   ]
  },
  {
   "cell_type": "code",
   "execution_count": null,
   "metadata": {},
   "outputs": [],
   "source": [
    "import os\n",
    "\n",
    "import evaluate\n",
    "import torch\n",
    "from datasets import load_dataset\n",
    "from transformers import (\n",
    "    AutoConfig,\n",
    "    AutoModelForSequenceClassification,\n",
    "    AutoTokenizer,\n",
    "    DataCollatorWithPadding,\n",
    "    Trainer,\n",
    "    TrainingArguments,\n",
    ")\n",
    "\n",
    "# Load dataset\n",
    "datasets = load_dataset(\"csv\", data_files={\"train\": \"train.csv\", \"valid\": \"valid.csv\"})\n",
    "datasets = datasets.class_encode_column(\"category_id\")\n",
    "datasets = datasets.rename_column(\"category_id\", \"labels\")\n",
    "\n",
    "\n",
    "num_labels = len(datasets[\"train\"].features[\"labels\"].names)\n",
    "# Load pre-trained model and tokenizer\n",
    "model_name = \"./matcher\"\n",
    "config = AutoConfig.from_pretrained(model_name)\n",
    "config.num_labels = num_labels\n",
    "model = AutoModelForSequenceClassification.from_config(config)\n",
    "tokenizer = AutoTokenizer.from_pretrained(model_name)\n",
    "# Freeze the base model weights\n",
    "for param in model.bert.parameters():\n",
    "    param.requires_grad = False\n",
    "\n",
    "\n",
    "# Tokenize the dataset (without padding)\n",
    "def tokenize_function(examples):\n",
    "    return tokenizer(examples[\"title\"], truncation=True)  # No padding here\n",
    "\n",
    "\n",
    "tokenized_datasets = datasets.map(tokenize_function, batched=True, num_proc=os.cpu_count())\n",
    "\n",
    "# Prepare the dataset for training\n",
    "train_dataset = tokenized_datasets[\"train\"].shuffle(seed=42)  # Adjust the size as needed\n",
    "eval_dataset = tokenized_datasets[\"valid\"].shuffle(seed=42).select(range(10_000))  # Adjust the size as needed\n",
    "\n",
    "# Define a data collator for dynamic padding\n",
    "data_collator = DataCollatorWithPadding(tokenizer=tokenizer)\n",
    "\n",
    "# Define training arguments\n",
    "training_args = TrainingArguments(\n",
    "    output_dir=\"./results\",\n",
    "    evaluation_strategy=\"steps\",\n",
    "    eval_steps=int(0.05 * (len(train_dataset) // 32)),\n",
    "    learning_rate=2e-5,\n",
    "    per_device_train_batch_size=32,\n",
    "    per_device_eval_batch_size=32,\n",
    "    num_train_epochs=1,\n",
    "    weight_decay=0.01,\n",
    "    logging_dir=\"./logs\",\n",
    "    logging_steps=10,\n",
    "    report_to=\"tensorboard\",\n",
    "    resume_from_checkpoint=\"./results\",\n",
    ")\n",
    "\n",
    "# Define the metric for evaluation\n",
    "metric = evaluate.load(\"precision\")\n",
    "\n",
    "\n",
    "def compute_metrics(eval_pred):\n",
    "    logits, labels = eval_pred\n",
    "    predictions = torch.argmax(logits, axis=-1)\n",
    "    return metric.compute(predictions=predictions, references=labels)\n",
    "\n",
    "\n",
    "# Initialize the Trainer\n",
    "trainer = Trainer(\n",
    "    model=model,\n",
    "    args=training_args,\n",
    "    train_dataset=train_dataset,\n",
    "    eval_dataset=eval_dataset,\n",
    "    compute_metrics=compute_metrics,\n",
    "    data_collator=data_collator,  # Add the data collator here\n",
    ")\n",
    "\n",
    "# Train the model\n",
    "# trainer.train()\n",
    "\n",
    "# Evaluate the model\n",
    "# trainer.evaluate()"
   ]
  },
  {
   "cell_type": "code",
   "execution_count": null,
   "metadata": {},
   "outputs": [],
   "source": [
    "datasets.features"
   ]
  },
  {
   "cell_type": "code",
   "execution_count": null,
   "metadata": {},
   "outputs": [],
   "source": [
    "train_dataset[:10][\"labels\"]"
   ]
  },
  {
   "cell_type": "code",
   "execution_count": null,
   "metadata": {},
   "outputs": [],
   "source": [
    "tokenizer = AutoTokenizer.from_pretrained(model_name)\n",
    "dir(tokenizer)"
   ]
  },
  {
   "cell_type": "code",
   "execution_count": null,
   "metadata": {},
   "outputs": [],
   "source": [
    "tokenizer"
   ]
  },
  {
   "cell_type": "code",
   "execution_count": null,
   "metadata": {},
   "outputs": [],
   "source": [
    "def upper(text: str):\n",
    "    return str(text).upper()\n",
    "\n",
    "\n",
    "tokenizer.normalizer = upper"
   ]
  },
  {
   "cell_type": "code",
   "execution_count": null,
   "metadata": {},
   "outputs": [],
   "source": [
    "from tokenizers.tools import EncodingVisualizer\n",
    "\n",
    "temp = EncodingVisualizer(tokenizer)"
   ]
  },
  {
   "cell_type": "code",
   "execution_count": null,
   "metadata": {},
   "outputs": [],
   "source": [
    "text = \"Intel Işıklı\"\n",
    "outputs = tokenizer(text)[\"input_ids\"]\n",
    "\n",
    "tokenizer.convert_ids_to_tokens(outputs)"
   ]
  },
  {
   "cell_type": "code",
   "execution_count": null,
   "metadata": {},
   "outputs": [],
   "source": [
    "temp"
   ]
  }
 ],
 "metadata": {
  "kernelspec": {
   "display_name": ".venv",
   "language": "python",
   "name": "python3"
  },
  "language_info": {
   "codemirror_mode": {
    "name": "ipython",
    "version": 3
   },
   "file_extension": ".py",
   "mimetype": "text/x-python",
   "name": "python",
   "nbconvert_exporter": "python",
   "pygments_lexer": "ipython3",
   "version": "3.11.11"
  }
 },
 "nbformat": 4,
 "nbformat_minor": 2
}
