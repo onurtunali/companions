{
 "cells": [
  {
   "cell_type": "markdown",
   "id": "bf928c74",
   "metadata": {},
   "source": [
    "# 7 Optimizing and Tuning Spark Applications"
   ]
  }
 ],
 "metadata": {
  "kernelspec": {
   "display_name": ".venv",
   "language": "python",
   "name": "python3"
  },
  "language_info": {
   "name": "python",
   "version": "3.11.11"
  }
 },
 "nbformat": 4,
 "nbformat_minor": 5
}
