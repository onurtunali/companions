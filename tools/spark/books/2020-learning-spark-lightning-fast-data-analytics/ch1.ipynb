{
 "cells": [
  {
   "cell_type": "markdown",
   "id": "54068f03",
   "metadata": {},
   "source": [
    "# 1. Introduction to Apache Spark: A Unified Analytics Engine\n",
    "\n",
    "Google and Yahoo couldn't process the increasing volume of data with existing systems. That's why they started looking for new ways of distributed large scale computing. \n",
    "\n",
    "Apache Hadoop is a collection of tools for distributed large scale storage and computing: Mapreduce, HDFS, YARN.\n",
    "\n",
    "**Apache Spark** is multi-language unified engine for large data processing.\n",
    "\n",
    "Every *spark application* starts a *spark driver* and this starts a *spark session*. Spark driver communicates with *cluster manager* and *executors* for computing resources. Every worker node runs an executors utilizing all the cores.\n",
    "\n",
    "## Deployment Modes \n",
    "\n",
    "| Mode | Spark Driver | Spark Executor | Cluster Manager |\n",
    "|  --- |  --- |  --- |  --- |\n",
    "| **Local** | Runs on a single JVM (e.g., laptop/single node) | Runs on the same JVM as the driver | Runs on the same host |\n",
    "| **Standalone** | Can run on any node in the cluster | Each node in the cluster launches its own executor JVM | Spark Standalone Manager (allocated to any host in the cluster) |\n",
    "| **YARN (client)** | Runs on a client machine (not part of the YARN cluster) | Runs in YARN NodeManager containers | YARN Resource Manager + Application Master (allocates containers on NodeManagers for executors) |\n",
    "| **YARN (cluster)** | Runs alongside the YARN Application Master (within the YARN cluster) | Same as YARN client mode (NodeManager containers) | Same as YARN client mode |\n",
    "| **Kubernetes** | Runs in a Kubernetes pod | Each worker runs in its own Kubernetes pod | Kubernetes Master (manages pod scheduling and resource allocation) |\n",
    "\n",
    "\n",
    "### Notes:\n",
    "- **Local Mode**: All components (driver, executor, cluster manager) run on the same machine.\n",
    "- **Standalone**: Uses Spark's built-in cluster manager (not tied to Hadoop/YARN).\n",
    "- **YARN Client vs Cluster**: In client mode, the driver runs externally; in cluster mode, it runs within the YARN cluster.\n",
    "- **Kubernetes**: Both driver and executors are containerized pods managed by Kubernetes."
   ]
  }
 ],
 "metadata": {
  "kernelspec": {
   "display_name": ".venv",
   "language": "python",
   "name": "python3"
  },
  "language_info": {
   "codemirror_mode": {
    "name": "ipython",
    "version": 3
   },
   "file_extension": ".py",
   "mimetype": "text/x-python",
   "name": "python",
   "nbconvert_exporter": "python",
   "pygments_lexer": "ipython3",
   "version": "3.11.11"
  }
 },
 "nbformat": 4,
 "nbformat_minor": 5
}
