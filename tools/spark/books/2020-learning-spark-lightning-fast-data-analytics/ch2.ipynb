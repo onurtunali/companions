{
 "cells": [
  {
   "cell_type": "markdown",
   "id": "0200e0b2",
   "metadata": {},
   "source": [
    "# 2. Downloading Apache Spark and Getting Started\n",
    "\n",
    "Installing pyspark in your venv downloads a spark into it. You can either use `pyspark` or Spark REPL.\n",
    "\n",
    "```sh\n",
    "(venv)$ pyspark # in terminal set ups a local spark `loca[*]`\n",
    "spark-version/bin/(venv)$ ./spark-submit <file>\n",
    "```\n",
    "\n",
    "Running Spark this way connects to a temporary spark instance and it's generally for testing, development. Usually, production level jobs connects to an existing Spark.\n",
    "\n",
    "Spark operations can be divided into 2:\n",
    "- **transformations**: Lazy evaluations such as `select, filter`\n",
    "- **actions**: Eager evaluations such as `show, collect`\n",
    "\n",
    "\n",
    "| Transformations | Actions  |\n",
    "| :---------------|:---------|\n",
    "| `orderBy`       | `select` |\n",
    "| `groubBy`       | `take`   |\n",
    "| `filter`        | `count`  |\n",
    "| `select`        | `collect`|\n",
    "| `join`          | `save`   | \n",
    "\n",
    "Transformations also can be divided into 2:\n",
    "- **narrow**: Can be performed independiently only using the partition information: `filter`\n",
    "- **wide**: Cannot be performed independiently, needs information from other partitions: `orderBy`\n",
    "\n"
   ]
  },
  {
   "cell_type": "code",
   "execution_count": null,
   "id": "d647750b",
   "metadata": {},
   "outputs": [],
   "source": [
    "from pyspark.sql import SparkSession\n",
    "from pyspark.sql.functions import count\n",
    "\n",
    "spark = SparkSession.builder.appName(\"M&M Counter\").getOrCreate()\n",
    "spark"
   ]
  },
  {
   "cell_type": "code",
   "execution_count": null,
   "id": "2fd83efc",
   "metadata": {},
   "outputs": [],
   "source": [
    "df = spark.read.format(\"csv\").option(\"header\", \"true\").load(\"data/mnm_dataset.csv\")\n",
    "df.show()"
   ]
  },
  {
   "cell_type": "code",
   "execution_count": null,
   "id": "124a4615",
   "metadata": {},
   "outputs": [],
   "source": [
    "count_mm_df = (\n",
    "    df.groupBy(\"State\", \"Color\")\n",
    "    .agg(count(\"Count\").alias(\"Total\"))\n",
    "    .orderBy(\"Total\", ascending=False)\n",
    ")\n",
    "spark_df = (\n",
    "    count_mm_df.toPandas()\n",
    "    .sort_values([\"State\", \"Color\", \"Total\"])\n",
    "    .reset_index(drop=True)\n",
    ")\n",
    "spark_df"
   ]
  },
  {
   "cell_type": "code",
   "execution_count": null,
   "id": "6f1139ba",
   "metadata": {},
   "outputs": [],
   "source": [
    "import pandas as pd\n",
    "from tqdm import tqdm\n",
    "\n",
    "pd.set_option(\"display.max_colwidth\", None)\n",
    "data = pd.read_csv(\"data/mnm_dataset.csv\")\n",
    "pandas_df = (\n",
    "    data.groupby([\"State\", \"Color\"])[\"Count\"]\n",
    "    .count()\n",
    "    .reset_index()\n",
    "    .rename(columns={\"Count\": \"Total\"})\n",
    "    .sort_values([\"State\", \"Color\", \"Total\"])\n",
    ").reset_index(drop=True)\n",
    "\n",
    "pandas_df"
   ]
  },
  {
   "cell_type": "code",
   "execution_count": null,
   "id": "9143041c",
   "metadata": {},
   "outputs": [],
   "source": [
    "all(pandas_df == spark_df)"
   ]
  }
 ],
 "metadata": {
  "kernelspec": {
   "display_name": ".venv",
   "language": "python",
   "name": "python3"
  },
  "language_info": {
   "codemirror_mode": {
    "name": "ipython",
    "version": 3
   },
   "file_extension": ".py",
   "mimetype": "text/x-python",
   "name": "python",
   "nbconvert_exporter": "python",
   "pygments_lexer": "ipython3",
   "version": "3.11.11"
  }
 },
 "nbformat": 4,
 "nbformat_minor": 5
}
