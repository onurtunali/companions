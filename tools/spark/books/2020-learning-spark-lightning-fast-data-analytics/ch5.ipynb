{
 "cells": [
  {
   "cell_type": "markdown",
   "id": "5745e11b",
   "metadata": {},
   "source": [
    "# 5 Spark SQL and Dataframes: Interacting with External Data Sources"
   ]
  },
  {
   "cell_type": "code",
   "execution_count": null,
   "id": "059a842a",
   "metadata": {},
   "outputs": [],
   "source": [
    "from pyspark.sql import SparkSession\n",
    "\n",
    "spark: SparkSession = SparkSession.builder.appName(\"ch5\").getOrCreate()"
   ]
  },
  {
   "cell_type": "markdown",
   "id": "f3db72cd",
   "metadata": {},
   "source": [
    "Other than `pysparck.sql.functions`, pyspark users can define their own functions called \"user defined function (udf)\". We have added `null` check to the function. Same logic is implemented in SQL query with `case` statement."
   ]
  },
  {
   "cell_type": "code",
   "execution_count": null,
   "id": "d5756508",
   "metadata": {},
   "outputs": [],
   "source": [
    "from pyspark.sql.types import LongType\n",
    "\n",
    "\n",
    "def cubed(s):\n",
    "    if s is None:\n",
    "        return None\n",
    "    return s**3\n",
    "\n",
    "\n",
    "spark.udf.register(\"cubed\", cubed, LongType())"
   ]
  },
  {
   "cell_type": "code",
   "execution_count": null,
   "id": "708501f0",
   "metadata": {},
   "outputs": [],
   "source": [
    "from pyspark.sql import types\n",
    "\n",
    "\n",
    "df1 = spark.range(10)\n",
    "schema = types.StructType([types.StructField(\"id\", types.IntegerType(), True)])\n",
    "df2 = spark.createDataFrame(data=[[21], [None], [None]], schema=schema)\n",
    "\n",
    "df = df1.union(df2)\n",
    "\n",
    "df.createOrReplaceTempView(\"udf_test\")\n",
    "\n",
    "spark.sql(\"select id, cubed(id) AS id_cubed from udf_test\").show(truncate=False)\n",
    "query = \"\"\" \n",
    "    select id,\n",
    "        CASE \n",
    "            when id is NULL then NULL\n",
    "            else id * id * id\n",
    "        END as id_cubed\n",
    "    from udf_test\n",
    "\"\"\"\n",
    "spark.sql(query).show(truncate=False)"
   ]
  },
  {
   "cell_type": "code",
   "execution_count": null,
   "id": "a031ef30",
   "metadata": {},
   "outputs": [],
   "source": [
    "import pyspark.sql.functions as F\n",
    "\n",
    "df.filter(\"id\" > 2).show()"
   ]
  },
  {
   "cell_type": "markdown",
   "id": "697b7602",
   "metadata": {},
   "source": [
    "Regular python functions as udf forces a data exchange between python and JVM processes. Using `pandas_udf` we can prevent this from happening."
   ]
  },
  {
   "cell_type": "code",
   "execution_count": null,
   "id": "115c0a53",
   "metadata": {},
   "outputs": [],
   "source": [
    "import pandas as pd\n",
    "\n",
    "from pyspark.sql.functions import pandas_udf, col\n",
    "from pyspark.sql.types import LongType\n",
    "\n",
    "\n",
    "def cubed(x: pd.Series) -> pd.Series:\n",
    "    return x * x * x\n",
    "\n",
    "\n",
    "cubed_pandas_udf = pandas_udf(cubed, returnType=LongType())\n",
    "\n",
    "\n",
    "spark.range(100).withColumn(\"id_cubed\", cubed_pandas_udf(col(\"id\"))).show()"
   ]
  },
  {
   "cell_type": "code",
   "execution_count": null,
   "id": "430dcce5",
   "metadata": {},
   "outputs": [],
   "source": [
    "from pyspark.sql import SparkSession\n",
    "from pyspark.sql import functions as F\n",
    "from pyspark.sql import Window as W\n",
    "import pyspark\n",
    "import datetime\n",
    "import json\n",
    "\n",
    "spark = SparkSession.builder.appName(\"run-pyspark-code\").getOrCreate()\n",
    "\n",
    "\n",
    "def etl(customers, orders, products):\n",
    "    customers = (\n",
    "        customers.withColumn(\"customer_name\", F.concat(F.col(\"first_name\"), F.lit(\" \"), F.col(\"last_name\")))\n",
    "        .drop(\"first_name\")\n",
    "        .drop(\"last_name\")\n",
    "    )\n",
    "    return customers\n",
    "\n",
    "\n",
    "# customers_with_orders = customoers.merge(orders, on='customer_id', how='left')"
   ]
  }
 ],
 "metadata": {
  "kernelspec": {
   "display_name": ".venv",
   "language": "python",
   "name": "python3"
  },
  "language_info": {
   "codemirror_mode": {
    "name": "ipython",
    "version": 3
   },
   "file_extension": ".py",
   "mimetype": "text/x-python",
   "name": "python",
   "nbconvert_exporter": "python",
   "pygments_lexer": "ipython3",
   "version": "3.11.11"
  }
 },
 "nbformat": 4,
 "nbformat_minor": 5
}
