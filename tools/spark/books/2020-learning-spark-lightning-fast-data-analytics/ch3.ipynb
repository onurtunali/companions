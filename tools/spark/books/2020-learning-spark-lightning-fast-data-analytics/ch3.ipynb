{
 "cells": [
  {
   "cell_type": "markdown",
   "id": "e002023f",
   "metadata": {},
   "source": [
    "# 3. Apache Spark's Structured APIs\n",
    "\n",
    "\n",
    "Resilient Distributed Data (RDD) is the main data structure in Spark. There are 3 important aspects:\n",
    "- Dependencies\n",
    "- Partitions (locality information)\n",
    "- Computer function: partition => Iterator[T]\n",
    "  \n",
    "Locality information is important for efficient processing. Task will be sent to the executor whose access to the partition is closest.\n",
    "\n",
    "Spark tries to infer data schema. It's good practice to pass schema before reading data for preventing errors or extra steps for schema inference.\n",
    "\n"
   ]
  },
  {
   "cell_type": "code",
   "execution_count": null,
   "id": "238e3d93",
   "metadata": {},
   "outputs": [],
   "source": [
    "from pyspark.sql import SparkSession\n",
    "from pyspark.sql import types\n",
    "from pyspark.sql import functions as F\n",
    "\n",
    "spark: SparkSession = SparkSession.builder.appName(\"AuthorAges\").getOrCreate()\n",
    "spark"
   ]
  },
  {
   "cell_type": "code",
   "execution_count": null,
   "id": "ee400642",
   "metadata": {},
   "outputs": [],
   "source": [
    "data_df = spark.createDataFrame(\n",
    "    data=[(\"Broke\", 20), (\"Denny\", 31), (\"Jules\", 30), (\"TD\", 35)],\n",
    "    schema=[\"name\", \"age\"],\n",
    ")\n",
    "avg_df = data_df.groupBy(\"name\").agg(F.avg(\"age\"))\n",
    "avg_df.show()"
   ]
  },
  {
   "cell_type": "markdown",
   "id": "3289b365",
   "metadata": {},
   "source": [
    "`StructType` repesents a `pyspark.sql.types.Row`. Every column type can be represented with `Strcutfield` and collections of these with `StructType` can be used as a schema definition."
   ]
  },
  {
   "cell_type": "code",
   "execution_count": null,
   "id": "aa77cee6",
   "metadata": {},
   "outputs": [],
   "source": [
    "schema = types.StructType(\n",
    "    [\n",
    "        types.StructField(\"id\", types.IntegerType(), False),\n",
    "        types.StructField(\"First\", types.StringType(), False),\n",
    "        types.StructField(\"Last\", types.StringType(), False),\n",
    "        types.StructField(\"Url\", types.StringType(), False),\n",
    "        types.StructField(\"Published\", types.StringType(), False),\n",
    "        types.StructField(\"Hits\", types.IntegerType(), False),\n",
    "        types.StructField(\"Campaings\", types.ArrayType(types.StringType()), False),\n",
    "    ]\n",
    ")\n",
    "schema.jsonValue()"
   ]
  },
  {
   "cell_type": "code",
   "execution_count": null,
   "id": "fe674644",
   "metadata": {},
   "outputs": [],
   "source": [
    "from pyspark.sql import types\n",
    "from pyspark.sql import functions as F\n",
    "\n",
    "schema = types.StructType(\n",
    "    [\n",
    "        types.StructField(\"id\", types.IntegerType(), False),\n",
    "        types.StructField(\"First\", types.StringType(), False),\n",
    "        types.StructField(\"Last\", types.StringType(), False),\n",
    "        types.StructField(\"Url\", types.StringType(), False),\n",
    "        types.StructField(\"Published\", types.StringType(), False),\n",
    "        types.StructField(\"Hits\", types.IntegerType(), False),\n",
    "        types.StructField(\"Campaings\", types.ArrayType(types.StringType())),\n",
    "    ]\n",
    ")\n",
    "\n",
    "data = [\n",
    "    [1, \"Jules\", \"Damji\", \"https://tinyurl.1\", \"1/4/2016\", 4535, [\"twitter\", \"LinkedIn\"]],\n",
    "    [2, \"Brooke\", \"Wenig\", \"https://tinyurl.2\", \"5/5/2018\", 8908, [\"twitter\", \"LinkedIn\"]],\n",
    "    [3, \"Denny\", \"Lee\", \"https://tinyurl.3\", \"6/7/2019\", 7659, [\"web\", \"twitter\", \"FB\", \"LinkedIn\"]],\n",
    "    [4, \"Tathagata\", \"Das\", \"https://tinyurl.4\", \"5/12/2018\", 10568, [\"twitter\", \"FB\"]],\n",
    "    [5, \"Matei\", \"Zaharia\", \"https://tinyurl.5\", \"5/14/2014\", 40578, [\"web\", \"twitter\", \"FB\", \"LinkedIn\"]],\n",
    "    [6, \"Reynold\", \"Xin\", \"https://tinyurl.6\", \"3/2/2015\", 25568, [\"twitter\", \"LinkedIn\"]],\n",
    "]\n",
    "\n",
    "blogs_df = spark.createDataFrame(data, schema)\n",
    "blogs_df.show()\n",
    "\n",
    "print(blogs_df.printSchema())\n",
    "\n",
    "blogs_df.select(F.expr(\"Hits\") * 2).show(2)\n",
    "blogs_df.select(F.col(\"Hits\") * 2).show(2)\n",
    "blogs_df.select(F.expr(\"Hits * 2\")).show(2)\n",
    "\n",
    "blogs_df.withColumn(\"Big Hitters\", (F.expr(\"Hits > 10000\"))).show()\n",
    "print(blogs_df.schema)"
   ]
  },
  {
   "cell_type": "markdown",
   "id": "73937f0b",
   "metadata": {},
   "source": [
    "```python\n",
    "import pyspark\n",
    "\n",
    "spark = pyspark.sql.SparkSession.builder.getOrCreate()\n",
    "spark.read\n",
    "\n",
    "```\n",
    "\n",
    "This attribute returns a `DataFrameReader` object"
   ]
  },
  {
   "cell_type": "code",
   "execution_count": null,
   "id": "a3b6dc8a",
   "metadata": {},
   "outputs": [],
   "source": [
    "data_path_csv = \"data/sf-fire-calls.csv\"\n",
    "\n",
    "fire_df = spark.read.option(\"inferSchema\", \"true\").option(\"samplingRatio\", 0.5).csv(data_path_csv, header=True)\n",
    "fire_df.printSchema(), fire_df.count()"
   ]
  },
  {
   "cell_type": "code",
   "execution_count": null,
   "id": "d2bef9f1",
   "metadata": {},
   "outputs": [],
   "source": [
    "!ls -lah data"
   ]
  },
  {
   "cell_type": "code",
   "execution_count": null,
   "id": "f018f18c",
   "metadata": {},
   "outputs": [],
   "source": [
    "data_path_parquet = data_path_csv.replace(\".csv\", \".parquet\")\n",
    "data_path_parquet_table = data_path_csv.replace(\".csv\", \"_table.parquet\")\n",
    "\n",
    "\n",
    "fire_df.write.format(\"parquet\").save(data_path_parquet, mode=\"overwrite\")\n",
    "fire_df.write.format(\"csv\").saveAsTable(\"temp\", mode=\"overwrite\")"
   ]
  },
  {
   "cell_type": "code",
   "execution_count": null,
   "id": "ff9b91af",
   "metadata": {},
   "outputs": [],
   "source": [
    "# fire_df.show(2, vertical=True, truncate=False)\n",
    "fire_df.select(\"IncidentNumber\", \"CallType\", \"AvailableDtTm\").filter(F.col(\"CallType\") != \"Medical Incident\").show(\n",
    "    5, truncate=False\n",
    ")"
   ]
  },
  {
   "cell_type": "code",
   "execution_count": null,
   "id": "a1bc48bb",
   "metadata": {},
   "outputs": [],
   "source": [
    "fire_df.select(\"CallType\").filter(F.col(\"CallType\").isNotNull()).agg(\n",
    "    F.countDistinct(\"CallType\").alias(\"DistinctCallTypes\")\n",
    ").show()"
   ]
  },
  {
   "cell_type": "code",
   "execution_count": null,
   "id": "1518c381",
   "metadata": {},
   "outputs": [],
   "source": [
    "fire_df.select(\"CallType\").filter(F.col(\"CallType\").isNotNull()).distinct().show(truncate=False)"
   ]
  },
  {
   "cell_type": "code",
   "execution_count": null,
   "id": "346c79e4",
   "metadata": {},
   "outputs": [],
   "source": [
    "fire_df.select(\"Delay\").withColumnRenamed(\"Delay\", \"ResponseDelayedinMins\").filter(\n",
    "    F.col(\"ResponseDelayedinMins\") > 5\n",
    ").describe().show()"
   ]
  },
  {
   "cell_type": "code",
   "execution_count": null,
   "id": "76b951b3",
   "metadata": {},
   "outputs": [],
   "source": [
    "fires_ts_df = fire_df.withColumn(\"IncidentDate\", F.to_timestamp(F.col(\"CallDate\"), \"MM/dd/yyy\"))\n",
    "fires_ts_df.select(F.year(\"IncidentDate\")).distinct().orderBy(F.year(\"IncidentDate\"), ascending=False).show()"
   ]
  },
  {
   "cell_type": "code",
   "execution_count": null,
   "id": "93336c64",
   "metadata": {},
   "outputs": [],
   "source": [
    "fire_df.select(\"CallType\").filter(F.col(\"CallType\").isNotNull()).groupBy(\"CallType\").count().orderBy(\n",
    "    \"count\", ascending=False\n",
    ").show()"
   ]
  },
  {
   "cell_type": "code",
   "execution_count": null,
   "id": "e2e18270",
   "metadata": {},
   "outputs": [],
   "source": [
    "fires_ts_df.filter(F.year(\"IncidentDate\") == \"2018\").filter(F.col(\"CallType\").contains(\"Fire\")).select(\n",
    "    \"CallType\"\n",
    ").distinct().show()"
   ]
  },
  {
   "cell_type": "code",
   "execution_count": null,
   "id": "a9a38de4",
   "metadata": {},
   "outputs": [],
   "source": [
    "fires_ts_df.filter(F.year(\"IncidentDate\") == \"2018\").filter(F.col(\"CallType\").contains(\"Fire\")).select(\n",
    "    F.month(\"IncidentDate\").alias(\"month\")\n",
    ").groupBy(\"month\").count().orderBy(\"count\", ascending=False).show()"
   ]
  },
  {
   "cell_type": "code",
   "execution_count": null,
   "id": "7ec83d20",
   "metadata": {},
   "outputs": [],
   "source": [
    "fires_ts_df.filter(F.year(\"IncidentDate\") == \"2018\").filter(F.col(\"CallType\").contains(\"Fire\")).groupBy(\n",
    "    \"Neighborhood\"\n",
    ").count().orderBy(\"count\", ascending=False).show()"
   ]
  }
 ],
 "metadata": {
  "kernelspec": {
   "display_name": ".venv",
   "language": "python",
   "name": "python3"
  },
  "language_info": {
   "codemirror_mode": {
    "name": "ipython",
    "version": 3
   },
   "file_extension": ".py",
   "mimetype": "text/x-python",
   "name": "python",
   "nbconvert_exporter": "python",
   "pygments_lexer": "ipython3",
   "version": "3.11.11"
  }
 },
 "nbformat": 4,
 "nbformat_minor": 5
}
